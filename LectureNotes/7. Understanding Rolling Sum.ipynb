{
 "cells": [
  {
   "cell_type": "markdown",
   "id": "80b133d0-c6d6-4346-89da-d414e4eb81dc",
   "metadata": {},
   "source": [
    "# Understanding Rolling Sum\n",
    "\n",
    "### week 3-2\n",
    "\n",
    "Before we proceed to modeling using excel files we downloaded, we need to learn one of the basic skills for data analysis: calculating rolling sum.\n",
    "\n",
    "Our point of interest is to covert quarterly data to annulized data.\n",
    "\n",
    "\n",
    "> *Note. source code, exmaples: KAIST Business school, Prof. Jaehoon Lee*"
   ]
  },
  {
   "cell_type": "code",
   "execution_count": 1,
   "id": "08b37f11-ddd0-4c93-a477-c49e4478b90b",
   "metadata": {},
   "outputs": [],
   "source": [
    "import pandas as pd"
   ]
  },
  {
   "cell_type": "code",
   "execution_count": 3,
   "id": "922337d1-9225-483e-8e3d-c3d6b64d21a2",
   "metadata": {},
   "outputs": [],
   "source": [
    "#This is one of the files downloaded from BOK with our custom downloader function.\n",
    "df = pd.read_excel('data/gdp_growth_us.xlsx')"
   ]
  },
  {
   "cell_type": "markdown",
   "id": "40f08a92-49bc-4986-93cc-c65c93fa2d70",
   "metadata": {},
   "source": [
    "> If you would like to review how we constructed the custom downloader function, check [here](https://github.com/JKang918/ExchangeRatePrediction/blob/main/6.%20Downloading%20Data%20from%20Bank%20of%20Korea.ipynb). "
   ]
  },
  {
   "cell_type": "code",
   "execution_count": 5,
   "id": "d3a5fdf2-74aa-47b2-b7a6-de19906e6b47",
   "metadata": {},
   "outputs": [],
   "source": [
    "#preprocessing 1. timestamp - already done\n",
    "#preprocessing 2. date-indexing - below\n",
    "df = df.set_index('date')"
   ]
  },
  {
   "cell_type": "code",
   "execution_count": 6,
   "id": "eab7dc0f-d174-4cd7-aa5f-647f6c161ef6",
   "metadata": {},
   "outputs": [
    {
     "data": {
      "text/html": [
       "<div>\n",
       "<style scoped>\n",
       "    .dataframe tbody tr th:only-of-type {\n",
       "        vertical-align: middle;\n",
       "    }\n",
       "\n",
       "    .dataframe tbody tr th {\n",
       "        vertical-align: top;\n",
       "    }\n",
       "\n",
       "    .dataframe thead th {\n",
       "        text-align: right;\n",
       "    }\n",
       "</style>\n",
       "<table border=\"1\" class=\"dataframe\">\n",
       "  <thead>\n",
       "    <tr style=\"text-align: right;\">\n",
       "      <th></th>\n",
       "      <th>gdp_growth_us</th>\n",
       "    </tr>\n",
       "    <tr>\n",
       "      <th>date</th>\n",
       "      <th></th>\n",
       "    </tr>\n",
       "  </thead>\n",
       "  <tbody>\n",
       "    <tr>\n",
       "      <th>2019-03-31</th>\n",
       "      <td>0.543</td>\n",
       "    </tr>\n",
       "    <tr>\n",
       "      <th>2019-06-30</th>\n",
       "      <td>0.830</td>\n",
       "    </tr>\n",
       "    <tr>\n",
       "      <th>2019-09-30</th>\n",
       "      <td>1.132</td>\n",
       "    </tr>\n",
       "    <tr>\n",
       "      <th>2019-12-31</th>\n",
       "      <td>0.641</td>\n",
       "    </tr>\n",
       "    <tr>\n",
       "      <th>2020-03-31</th>\n",
       "      <td>-1.363</td>\n",
       "    </tr>\n",
       "    <tr>\n",
       "      <th>2020-06-30</th>\n",
       "      <td>-7.891</td>\n",
       "    </tr>\n",
       "    <tr>\n",
       "      <th>2020-09-30</th>\n",
       "      <td>7.759</td>\n",
       "    </tr>\n",
       "    <tr>\n",
       "      <th>2020-12-31</th>\n",
       "      <td>1.035</td>\n",
       "    </tr>\n",
       "    <tr>\n",
       "      <th>2021-03-31</th>\n",
       "      <td>1.286</td>\n",
       "    </tr>\n",
       "    <tr>\n",
       "      <th>2021-06-30</th>\n",
       "      <td>1.520</td>\n",
       "    </tr>\n",
       "  </tbody>\n",
       "</table>\n",
       "</div>"
      ],
      "text/plain": [
       "            gdp_growth_us\n",
       "date                     \n",
       "2019-03-31          0.543\n",
       "2019-06-30          0.830\n",
       "2019-09-30          1.132\n",
       "2019-12-31          0.641\n",
       "2020-03-31         -1.363\n",
       "2020-06-30         -7.891\n",
       "2020-09-30          7.759\n",
       "2020-12-31          1.035\n",
       "2021-03-31          1.286\n",
       "2021-06-30          1.520"
      ]
     },
     "execution_count": 6,
     "metadata": {},
     "output_type": "execute_result"
    }
   ],
   "source": [
    "df['2019-01-01':].head(10)"
   ]
  },
  {
   "cell_type": "markdown",
   "id": "85bd7708-dc83-4a38-adfd-95c329582d60",
   "metadata": {},
   "source": [
    "> These are growth rate for each quarter. Is there any way to annualize them?"
   ]
  },
  {
   "cell_type": "markdown",
   "id": "ef7ec780-ad06-4381-b348-17b4c12c9dc5",
   "metadata": {},
   "source": [
    "### **Method 1. Annual Sum**"
   ]
  },
  {
   "cell_type": "code",
   "execution_count": 7,
   "id": "4e6d21f3-0768-47db-a20c-1af84349ebc7",
   "metadata": {},
   "outputs": [
    {
     "data": {
      "text/html": [
       "<div>\n",
       "<style scoped>\n",
       "    .dataframe tbody tr th:only-of-type {\n",
       "        vertical-align: middle;\n",
       "    }\n",
       "\n",
       "    .dataframe tbody tr th {\n",
       "        vertical-align: top;\n",
       "    }\n",
       "\n",
       "    .dataframe thead th {\n",
       "        text-align: right;\n",
       "    }\n",
       "</style>\n",
       "<table border=\"1\" class=\"dataframe\">\n",
       "  <thead>\n",
       "    <tr style=\"text-align: right;\">\n",
       "      <th></th>\n",
       "      <th>gdp_growth_us</th>\n",
       "    </tr>\n",
       "    <tr>\n",
       "      <th>date</th>\n",
       "      <th></th>\n",
       "    </tr>\n",
       "  </thead>\n",
       "  <tbody>\n",
       "    <tr>\n",
       "      <th>1947-12-31</th>\n",
       "      <td>1.096</td>\n",
       "    </tr>\n",
       "    <tr>\n",
       "      <th>1948-12-31</th>\n",
       "      <td>3.846</td>\n",
       "    </tr>\n",
       "    <tr>\n",
       "      <th>1949-12-31</th>\n",
       "      <td>-1.521</td>\n",
       "    </tr>\n",
       "    <tr>\n",
       "      <th>1950-12-31</th>\n",
       "      <td>12.763</td>\n",
       "    </tr>\n",
       "    <tr>\n",
       "      <th>1951-12-31</th>\n",
       "      <td>5.369</td>\n",
       "    </tr>\n",
       "    <tr>\n",
       "      <th>...</th>\n",
       "      <td>...</td>\n",
       "    </tr>\n",
       "    <tr>\n",
       "      <th>2020-12-31</th>\n",
       "      <td>-0.460</td>\n",
       "    </tr>\n",
       "    <tr>\n",
       "      <th>2021-12-31</th>\n",
       "      <td>5.317</td>\n",
       "    </tr>\n",
       "    <tr>\n",
       "      <th>2022-12-31</th>\n",
       "      <td>0.655</td>\n",
       "    </tr>\n",
       "    <tr>\n",
       "      <th>2023-12-31</th>\n",
       "      <td>3.099</td>\n",
       "    </tr>\n",
       "    <tr>\n",
       "      <th>2024-12-31</th>\n",
       "      <td>1.054</td>\n",
       "    </tr>\n",
       "  </tbody>\n",
       "</table>\n",
       "<p>78 rows × 1 columns</p>\n",
       "</div>"
      ],
      "text/plain": [
       "            gdp_growth_us\n",
       "date                     \n",
       "1947-12-31          1.096\n",
       "1948-12-31          3.846\n",
       "1949-12-31         -1.521\n",
       "1950-12-31         12.763\n",
       "1951-12-31          5.369\n",
       "...                   ...\n",
       "2020-12-31         -0.460\n",
       "2021-12-31          5.317\n",
       "2022-12-31          0.655\n",
       "2023-12-31          3.099\n",
       "2024-12-31          1.054\n",
       "\n",
       "[78 rows x 1 columns]"
      ]
     },
     "execution_count": 7,
     "metadata": {},
     "output_type": "execute_result"
    }
   ],
   "source": [
    "df.resample('YE').sum()"
   ]
  },
  {
   "cell_type": "markdown",
   "id": "f8c10952-b467-41f8-a418-8b55b1579da8",
   "metadata": {},
   "source": [
    "> As we already discussed, this downsizes the sample increasing the risk of losing explanatory power for our model. "
   ]
  },
  {
   "cell_type": "markdown",
   "id": "43244d09-9f93-4627-98dd-ae4b9d35a9dd",
   "metadata": {},
   "source": [
    "### **Method 2. Rolling Sum**"
   ]
  },
  {
   "cell_type": "markdown",
   "id": "38bcdfd6-b5f1-4b23-97a9-9a4e80893327",
   "metadata": {},
   "source": [
    "$$\n",
    "\\sum_{\\tau = t - 3}^t x_\\tau\n",
    "$$"
   ]
  },
  {
   "cell_type": "code",
   "execution_count": 8,
   "id": "ebdcbbad-f3a4-499c-9aab-bdc9d6d5feeb",
   "metadata": {},
   "outputs": [],
   "source": [
    "df['rsum'] = df['gdp_growth_us'].rolling(4).sum()"
   ]
  },
  {
   "cell_type": "code",
   "execution_count": 9,
   "id": "96ef6efb-ca01-41a4-9578-9f08caa61a33",
   "metadata": {},
   "outputs": [
    {
     "data": {
      "text/html": [
       "<div>\n",
       "<style scoped>\n",
       "    .dataframe tbody tr th:only-of-type {\n",
       "        vertical-align: middle;\n",
       "    }\n",
       "\n",
       "    .dataframe tbody tr th {\n",
       "        vertical-align: top;\n",
       "    }\n",
       "\n",
       "    .dataframe thead th {\n",
       "        text-align: right;\n",
       "    }\n",
       "</style>\n",
       "<table border=\"1\" class=\"dataframe\">\n",
       "  <thead>\n",
       "    <tr style=\"text-align: right;\">\n",
       "      <th></th>\n",
       "      <th>gdp_growth_us</th>\n",
       "      <th>rsum</th>\n",
       "    </tr>\n",
       "    <tr>\n",
       "      <th>date</th>\n",
       "      <th></th>\n",
       "      <th></th>\n",
       "    </tr>\n",
       "  </thead>\n",
       "  <tbody>\n",
       "    <tr>\n",
       "      <th>2019-09-30</th>\n",
       "      <td>1.132</td>\n",
       "      <td>2.647</td>\n",
       "    </tr>\n",
       "    <tr>\n",
       "      <th>2019-12-31</th>\n",
       "      <td>0.641</td>\n",
       "      <td>3.146</td>\n",
       "    </tr>\n",
       "    <tr>\n",
       "      <th>2020-03-31</th>\n",
       "      <td>-1.363</td>\n",
       "      <td>1.240</td>\n",
       "    </tr>\n",
       "  </tbody>\n",
       "</table>\n",
       "</div>"
      ],
      "text/plain": [
       "            gdp_growth_us   rsum\n",
       "date                            \n",
       "2019-09-30          1.132  2.647\n",
       "2019-12-31          0.641  3.146\n",
       "2020-03-31         -1.363  1.240"
      ]
     },
     "execution_count": 9,
     "metadata": {},
     "output_type": "execute_result"
    }
   ],
   "source": [
    "df['2019-09-30':].head(3)"
   ]
  },
  {
   "cell_type": "markdown",
   "id": "d5c9f5c0-1b41-4b77-be26-36bdc5b7c826",
   "metadata": {},
   "source": [
    "### **Method 3. Rolling Product**"
   ]
  },
  {
   "cell_type": "markdown",
   "id": "50ca50b8-ac94-4f9f-8b58-f04ecd91389b",
   "metadata": {},
   "source": [
    "$$\n",
    "\\prod_{\\tau = t - 3}^t ( 1 + x_\\tau ) = 1 + g_t\n",
    "$$\n",
    "\n",
    "$$\n",
    "\\sum_{\\tau = t-3}^t \\log (1 + x_\\tau) = \\log (1 + g_t)\n",
    "$$\n",
    "\n",
    "$$\n",
    "    \\therefore g_t = \\exp \\left\\{ \\sum_{\\tau = t-3}^t \\log (1 + x_\\tau) \\right\\} - 1\n",
    "$$"
   ]
  },
  {
   "cell_type": "markdown",
   "id": "fe5fa9ec-daf4-4762-bf71-99e094866c1c",
   "metadata": {},
   "source": [
    "> Technically, rolling product would be accurate but if the rate is sufficiently small, the difference between rolling sum and rolling product is negligible. This can be shwon with Talyer approximation of logarithm function."
   ]
  },
  {
   "cell_type": "code",
   "execution_count": 12,
   "id": "be2582dc-fae7-46eb-9250-35c7e57a52d2",
   "metadata": {},
   "outputs": [],
   "source": [
    "import numpy as np"
   ]
  },
  {
   "cell_type": "code",
   "execution_count": 13,
   "id": "f6d243c5-2199-4d95-8d61-a191532a0a26",
   "metadata": {},
   "outputs": [],
   "source": [
    "df['log_growth'] = np.log(1 + df['gdp_growth_us'] / 100)"
   ]
  },
  {
   "cell_type": "code",
   "execution_count": 14,
   "id": "113e341a-6f18-4887-ab05-d9cb480beab1",
   "metadata": {},
   "outputs": [],
   "source": [
    "df['rsum_log_growth'] = df['log_growth'].rolling(4).sum()"
   ]
  },
  {
   "cell_type": "code",
   "execution_count": 15,
   "id": "eea142fa-a17c-46dd-b0cb-6bf984195294",
   "metadata": {},
   "outputs": [],
   "source": [
    "df['rprod'] = (np.exp(df['rsum_log_growth']) - 1) * 100"
   ]
  },
  {
   "cell_type": "code",
   "execution_count": 16,
   "id": "44c8321c-12b8-461d-9c95-ae9d93a003e1",
   "metadata": {},
   "outputs": [
    {
     "data": {
      "text/html": [
       "<div>\n",
       "<style scoped>\n",
       "    .dataframe tbody tr th:only-of-type {\n",
       "        vertical-align: middle;\n",
       "    }\n",
       "\n",
       "    .dataframe tbody tr th {\n",
       "        vertical-align: top;\n",
       "    }\n",
       "\n",
       "    .dataframe thead th {\n",
       "        text-align: right;\n",
       "    }\n",
       "</style>\n",
       "<table border=\"1\" class=\"dataframe\">\n",
       "  <thead>\n",
       "    <tr style=\"text-align: right;\">\n",
       "      <th></th>\n",
       "      <th>gdp_growth_us</th>\n",
       "      <th>rsum</th>\n",
       "      <th>log_growth</th>\n",
       "      <th>rsum_log_growth</th>\n",
       "      <th>rprod</th>\n",
       "    </tr>\n",
       "    <tr>\n",
       "      <th>date</th>\n",
       "      <th></th>\n",
       "      <th></th>\n",
       "      <th></th>\n",
       "      <th></th>\n",
       "      <th></th>\n",
       "    </tr>\n",
       "  </thead>\n",
       "  <tbody>\n",
       "    <tr>\n",
       "      <th>2023-06-30</th>\n",
       "      <td>0.511</td>\n",
       "      <td>2.361</td>\n",
       "      <td>0.005097</td>\n",
       "      <td>0.023540</td>\n",
       "      <td>2.381914</td>\n",
       "    </tr>\n",
       "    <tr>\n",
       "      <th>2023-09-30</th>\n",
       "      <td>1.194</td>\n",
       "      <td>2.896</td>\n",
       "      <td>0.011869</td>\n",
       "      <td>0.028841</td>\n",
       "      <td>2.926072</td>\n",
       "    </tr>\n",
       "    <tr>\n",
       "      <th>2023-12-31</th>\n",
       "      <td>0.838</td>\n",
       "      <td>3.099</td>\n",
       "      <td>0.008345</td>\n",
       "      <td>0.030856</td>\n",
       "      <td>3.133693</td>\n",
       "    </tr>\n",
       "    <tr>\n",
       "      <th>2024-03-31</th>\n",
       "      <td>0.351</td>\n",
       "      <td>2.894</td>\n",
       "      <td>0.003504</td>\n",
       "      <td>0.028815</td>\n",
       "      <td>2.923438</td>\n",
       "    </tr>\n",
       "    <tr>\n",
       "      <th>2024-06-30</th>\n",
       "      <td>0.703</td>\n",
       "      <td>3.086</td>\n",
       "      <td>0.007005</td>\n",
       "      <td>0.030724</td>\n",
       "      <td>3.120046</td>\n",
       "    </tr>\n",
       "  </tbody>\n",
       "</table>\n",
       "</div>"
      ],
      "text/plain": [
       "            gdp_growth_us   rsum  log_growth  rsum_log_growth     rprod\n",
       "date                                                                   \n",
       "2023-06-30          0.511  2.361    0.005097         0.023540  2.381914\n",
       "2023-09-30          1.194  2.896    0.011869         0.028841  2.926072\n",
       "2023-12-31          0.838  3.099    0.008345         0.030856  3.133693\n",
       "2024-03-31          0.351  2.894    0.003504         0.028815  2.923438\n",
       "2024-06-30          0.703  3.086    0.007005         0.030724  3.120046"
      ]
     },
     "execution_count": 16,
     "metadata": {},
     "output_type": "execute_result"
    }
   ],
   "source": [
    "#compare rsum with rproduct\n",
    "df.tail()"
   ]
  },
  {
   "cell_type": "markdown",
   "id": "8eee5550-a092-4ff1-b30c-11eb7b1ed363",
   "metadata": {},
   "source": [
    "> As menthoned above, there is very little and insignificant difference between rolling sum and rolling product"
   ]
  },
  {
   "cell_type": "markdown",
   "id": "76d59be4-c86c-46e7-bf3e-a4c9c2f6a4f3",
   "metadata": {},
   "source": [
    "### Comparing Rolling Sum & Rolling Product in a graph"
   ]
  },
  {
   "cell_type": "code",
   "execution_count": 17,
   "id": "bd661693-3562-4421-8259-0b41d15a49a4",
   "metadata": {},
   "outputs": [],
   "source": [
    "import matplotlib.pyplot as plt"
   ]
  },
  {
   "cell_type": "code",
   "execution_count": 18,
   "id": "c8154b49-5b46-4549-8d9f-b65d0a01daf8",
   "metadata": {},
   "outputs": [],
   "source": [
    "plt.rcParams['figure.figsize'] = (10, 4)"
   ]
  },
  {
   "cell_type": "code",
   "execution_count": 19,
   "id": "025220f4-430e-4997-a22b-fe3d32ddeae4",
   "metadata": {},
   "outputs": [
    {
     "data": {
      "image/png": "[encoded data removed]",
      "text/plain": [
       "<Figure size 1000x400 with 1 Axes>"
      ]
     },
     "metadata": {},
     "output_type": "display_data"
    }
   ],
   "source": [
    "plt.plot(df['rsum'], label = 'Rolling Sum')\n",
    "plt.plot(df['rprod'], label = 'Rolling Product')\n",
    "plt.show()"
   ]
  },
  {
   "cell_type": "markdown",
   "id": "e161281d-1b2b-45ea-a991-03858fd781fd",
   "metadata": {},
   "source": [
    "> Unless there are sudden significant volatility in the market as in early 2020's, rolling sum almost perfectly overlap rolling product.\\\n",
    "> In the next notebook, we are going to jump directly into rolling sum instead of rolling product based on this."
   ]
  }
 ],
 "metadata": {
  "kernelspec": {
   "display_name": "Python 3 (ipykernel)",
   "language": "python",
   "name": "python3"
  },
  "language_info": {
   "codemirror_mode": {
    "name": "ipython",
    "version": 3
   },
   "file_extension": ".py",
   "mimetype": "text/x-python",
   "name": "python",
   "nbconvert_exporter": "python",
   "pygments_lexer": "ipython3",
   "version": "3.11.9"
  }
 },
 "nbformat": 4,
 "nbformat_minor": 5
}
