{
 "cells": [
  {
   "cell_type": "markdown",
   "id": "cdc44271-0c74-4047-9b1d-31fa9f2d1285",
   "metadata": {},
   "source": [
    "# **Project Title** \n",
    "# Predicting KRW/USD Exchange Rates 1-year Ahead From Now \n",
    "\n",
    "# **Contents** \n",
    "\n",
    "- [Summary of Results](#Summary-of-Results)\n",
    "  \n",
    "- [Introduction](#Introduction)\n",
    "    1. Background Ideas for Variable Selection\n",
    "    2. Background Ideas for Model Selection - No ARIMA? No Machine Learning?\n",
    "    3. Background Ideas for Selecting the Right Time Window<br><br>\n",
    "\n",
    "- [Part I. Downloading and Loading Data from Bank of Korea, Federal Reserve, and World Bank](#Part-I.-Downloading-and-Loading-Data-from-Bank-of-Korea,-Federal-Reserve,-and-World-Bank)\n",
    "    1. Downloading Exchange Rate and Other Macroeconomic Data from Bank of Korea Using Cumtom Functions\n",
    "    2. Downloading Tresuary Term Spread Data from Federal Reserve\n",
    "    3. Downloading PPP Exchange Rate Data from World Bank<br><br>\n",
    "\n",
    "- [Part II. Data Preprocessing](#Part-II.-Data-Preprocessing)\n",
    "    1. Merge, Resample, and Forward Fill the Datasets\n",
    "    2. Calculate New Required Columns with Existing Columns: For Stationarity<br><br>\n",
    "\n",
    "- [Part III. Modeling and Analysis of Model Result](#Part-III.-Modeling-and-Analysis-of-Model-Result)\n",
    "    1. Take Necessary Columns for Modeling\n",
    "    2. Correlation Matrix for Explanatory Variables\n",
    "    3. OLS Regression with Overlapped Data<br><br>\n",
    "\n",
    "- [Conclusion](#Conclusion)\n",
    "\n",
    "\n",
    "### Acknowledgement\n",
    "\n",
    "> This project was conducted as part of the KAIST DFMBA Financial Database course (Summer 2024), with a significant portion of the source code and project ideas based on the lectures of Professor Jaehoon Lee ([github link](https://github.com/dioscuroi))."
   ]
  },
  {
   "cell_type": "markdown",
   "id": "e3b66c22-6c27-447a-b3bb-80ffc5fcc609",
   "metadata": {},
   "source": [
    "------"
   ]
  },
  {
   "cell_type": "markdown",
   "id": "761022af-70eb-458d-ae48-61626dc45a03",
   "metadata": {},
   "source": [
    "# Summary of Results"
   ]
  },
  {
   "cell_type": "markdown",
   "id": "40a7a8c6-4980-48b0-afb7-a01a7205a799",
   "metadata": {},
   "source": [
    "I have used OLS regression model to predict the exchange rate (KRW/USD) 1 year ahead.\n",
    "\n",
    "Using the last observation of the exchange rate of **2024-08-12**, the point and interval estimates for the exchange rates are as follow:"
   ]
  },
  {
   "cell_type": "markdown",
   "id": "1da1d484-0e78-4d1d-9040-7585527c6860",
   "metadata": {},
   "source": [
    "> **The point estimate for the exchange rate around this time (August) next year is: KRW1,263.73/USD.**\n",
    ">\n",
    "> **The interval estimates for the exchange rate around this time (August) next year  for a given alpha level of 5% is: \\\n",
    "> KRW1015.03/USD ~ KRW1512.43/USD**"
   ]
  },
  {
   "cell_type": "markdown",
   "id": "e7241254-7499-4861-a3e6-b76c58766e68",
   "metadata": {},
   "source": [
    "Below are the model specification and the main results:"
   ]
  },
  {
   "cell_type": "markdown",
   "id": "432a2217-4114-4031-9861-1e2fff9703ac",
   "metadata": {},
   "source": [
    "**Model Sepcification**\n",
    "\n",
    "$$\n",
    "\\begin{align*}\n",
    "Y &= \\beta_0 + \\beta_1 X_1 + \\beta_2 X_2 + \\beta_3 X_3 + \\beta_4 X_4 + \\beta_5 X_5 + \\beta_6 X_6 + \\beta_7 X_7 + \\epsilon \\\\\n",
    "\\text{where:} \\\\\n",
    "Y &\\text{ is the the 12-month forward return of exchange rates} \\\\\n",
    "X_1 &\\text{ is the real exchange rate} \\\\\n",
    "X_2 &\\text{ is the current account of South Korea in relation to the size of its GDP} \\\\\n",
    "X_3 &\\text{ is the current account of the United States in relation to the size of its GDP} \\\\\n",
    "X_4 &\\text{ is the growth rate of real GDP of South Korea} \\\\\n",
    "X_5 &\\text{ is the difference between the inflation rates of South Korea and that of the United States} \\\\\n",
    "X_6 &\\text{ is the size of foreign reserve of South Korea in relation to the size of its GDP} \\\\\n",
    "X_7 &\\text{ is the term spread of Treasury yields (10Y - 3M)} \\\\\n",
    "\\beta_0 &\\text{ is the intercept (constant term)} \\\\\n",
    "\\beta_1&, \\beta_2, \\dots, \\beta_7 \\text{ are the coefficients of the independent variables} \\\\\n",
    "\\epsilon& \\text{ is the error term (residual)}\n",
    "\\end{align*}\n",
    "$$"
   ]
  },
  {
   "cell_type": "markdown",
   "id": "ba9675fa-1388-4d20-a364-56e7c23d30db",
   "metadata": {},
   "source": [
    "**Main Results**\n",
    "\n",
    "\\begin{array}{l c}\n",
    "\\textbf{R-squared:} & 0.304 \\\\\n",
    "\\textbf{Adj. R-squared:} & 0.287 \\\\\n",
    "\\end{array}\n",
    "\n",
    "\\begin{array}{l c c c c c}\n",
    "\\textbf{variable} &\\textbf{coef} & \\textbf{std err} & \\textbf{t} & \\textbf{P>|t|} & \\textbf{[0.025  0.975]} \\\\\n",
    "\\hline\n",
    "\\text{const} & -26.4564 & 6.213 & -4.258 & 0.000 & [-38.685  -14.228] \\\\\n",
    "X_1 & 66.3083 & 8.983 & 7.381 & 0.000 & [48.627  83.989] \\\\\n",
    "X_2 & -1.3379 & 0.341 & -3.928 & 0.000 & [-2.008  -0.667] \\\\\n",
    "X_3 & 1.1668 & 0.601 & 1.941 & 0.053 & [-0.016  2.350] \\\\\n",
    "X_4 & 0.5115 & 0.210 & 2.440 & 0.015 & [0.102  0.921] \\\\\n",
    "X_5 & -2.2369 & 0.418 & -5.349 & 0.000 & [-3.060  -1.414] \\\\\n",
    "X_6 & -0.5961 & 0.213 & -2.798 & 0.006 & [-1.016  -0.176] \\\\\n",
    "X_7 & 3.4080 & 1.830 & 1.862 & 0.064 & [-0.194  7.010] \\\\\n",
    "\\end{array}\n"
   ]
  },
  {
   "cell_type": "markdown",
   "id": "9b92f1c8-eaa1-4a8a-9713-3067d5f42fe6",
   "metadata": {},
   "source": [
    "---"
   ]
  },
  {
   "cell_type": "markdown",
   "id": "f81f4bcd-9fea-4b71-a67b-b6148096ad03",
   "metadata": {},
   "source": [
    "# Introduction and Theoratical Backgrounds"
   ]
  },
  {
   "cell_type": "markdown",
   "id": "2ec519b7-1d08-486c-b278-72c0b70c9f78",
   "metadata": {},
   "source": [
    "I aim to build a model to predict the exchange rate (KRW/USD) one year ahead, based on macroeconomic data from South Korea and the United States, and to present both point estimates and interval estimates of the exchange rate one year later.\n",
    "\n",
    "In the Introduction, I will explain the candidate explanatory variables I selected based on theories related to exchange rates. I will then describe why I choose to use a standard OLS regression model, instead of machine learning or ARIMA models. Finally, I will explain why I am going to use time series data from 1999 onwards, based on the unique characteristics of the Korean exchange rate regime."
   ]
  },
  {
   "cell_type": "markdown",
   "id": "253e6b51-d942-4326-89fa-88f30a64c15e",
   "metadata": {},
   "source": [
    "## 1. Background Ideas for Variable Selection"
   ]
  },
  {
   "cell_type": "markdown",
   "id": "5330d0b8-04ed-4d0b-b71f-0bbc9547fd16",
   "metadata": {},
   "source": [
    "The possible candidates for explanatory variables are selected based on various theories on economics and exchange rates. I will not go over the details of each theory assuming readers would be already well aware of them."
   ]
  },
  {
   "cell_type": "markdown",
   "id": "16216fa3-d05e-4752-9ad3-e91cba49c05a",
   "metadata": {},
   "source": [
    "##### **Absolute PPP**"
   ]
  },
  {
   "cell_type": "markdown",
   "id": "c1e4c112-b911-4314-8354-8ef4aaf4d19f",
   "metadata": {},
   "source": [
    "The formula for Absolute PPP is:\n",
    "\n",
    "$$\n",
    "\\text{Absolute PPP: } S_{\\text{KRW}/\\text{USD}}^{ppp} = \\frac{P_{\\text{KR}}}{P_{\\text{US}}}\n",
    "$$\n",
    "\n",
    "where:\n",
    "\n",
    "- $S_{\\text{KRW}/\\text{USD}}^{ppp}$: PPP Exchange rate (KRW per USD)\n",
    "- $P_{\\text{KR}}$: Price level in South Korea\n",
    "- $P_{\\text{US}}$: Price level in the United States"
   ]
  },
  {
   "cell_type": "markdown",
   "id": "b2f8f8f8-ea69-4aa8-9584-95836fa62445",
   "metadata": {},
   "source": [
    "Absolute PPP relies on assumption that eventually exchange rate will revert back to the level which makes internal purchasing power equals expternal purchasing power.\n",
    "\n",
    "Relevant economic variable we could get out of Absolute PPP theory is:\n",
    "\n",
    "- inflation data (cpi data)"
   ]
  },
  {
   "cell_type": "markdown",
   "id": "3a006422-b86d-4e95-b807-7cf6e0c8a332",
   "metadata": {},
   "source": [
    "##### **Relative PPP**"
   ]
  },
  {
   "cell_type": "markdown",
   "id": "362bd2d7-77c9-43a8-af26-83691bcc0350",
   "metadata": {},
   "source": [
    "$$\\text{Relative PPP: }  {S_{\\text{KRW}/\\text{USD}}}_{t+1}   = {S_{\\text{KRW}/\\text{USD}}}_{t} * \\frac{1 + \\pi_{\\text{KR}}}{1 + \\pi_{\\text{US}}}$$\n",
    "\n",
    "\n",
    "where:\n",
    "\n",
    "- ${S_{\\text{KRW}/\\text{USD}}}_{t+1}$: Exchange rate (KRW per USD) at time `t+1`\n",
    "- ${S_{\\text{KRW}/\\text{USD}}}_{t}$: Exchange rate (KRW per USD) at time `t`\n",
    "- $\\pi_\\text{KR}$: inflation rate in South Korea\n",
    "- $\\pi_\\text{US}$: inflation rate in the United States\n"
   ]
  },
  {
   "cell_type": "markdown",
   "id": "232d6d4f-5ac6-47ba-b013-77856d8829be",
   "metadata": {},
   "source": [
    "Relative PPP relies on assumption that the current difference between PPP exchange rate and the market exchange rate will persist, at least for the time being. Then it can be deducted that market exchange rates are reflective of the difference in inflation rates between the two countries. \n",
    "\n",
    "Relevant economic variables we could get out of Relative PPP theory is:\n",
    "\n",
    "- inflation data (cpi data)\n",
    "- market exchange rates"
   ]
  },
  {
   "cell_type": "markdown",
   "id": "6b805779-bf25-47d4-9417-ad437af8edb3",
   "metadata": {},
   "source": [
    "##### **Real Exchange Rate**"
   ]
  },
  {
   "cell_type": "markdown",
   "id": "cf728709-3ff9-4d49-a751-998305d55184",
   "metadata": {},
   "source": [
    "$$\\text{Real XR: }  \\frac{{S_{\\text{KRW}/\\text{USD}}}^{ppp}}{{S_{\\text{KRW}/\\text{USD}}}} = \\frac{\\text{External PP}}{\\text{Internal PP}}$$\n",
    "\n",
    "\n",
    "where:\n",
    "\n",
    "- $S_{\\text{KRW}/\\text{USD}}^{ppp}$: PPP Exchange rate (KRW per USD)\n",
    "- ${S_{\\text{KRW}/\\text{USD}}}$: Market Exchange rate (KRW per USD)"
   ]
  },
  {
   "cell_type": "markdown",
   "id": "04954e96-a19b-409f-a33b-7020136984d5",
   "metadata": {},
   "source": [
    "Real exchange rate is the ratio of external purchasing power of KRW to the internal purchasing power. If we agree with the assumption that Real XR converges to `1`, then Real XR with over `1` (= overvalued KRW) would be followed by depreciation of the currency (= market exchange rate going up) and vice versa. \n",
    "\n",
    "Relevant economic variable we could get out of the concept of real exchange rate is:\n",
    "\n",
    "- real exchange rate"
   ]
  },
  {
   "cell_type": "markdown",
   "id": "9db3e5f2-13c0-40f5-b72f-e0675fceea58",
   "metadata": {},
   "source": [
    "##### **Fisher Equation & Fisher Relation**"
   ]
  },
  {
   "cell_type": "markdown",
   "id": "3abf7e48-05fb-4259-8853-a59efb38a5fc",
   "metadata": {},
   "source": [
    "\\begin{align*}\n",
    "\\text{Fisher Equation: } & \\quad i = r + \\pi \\\\\n",
    "\\text{Implication of Fisher Equation on Purchasing Power: } & \\quad \\text{PP}_t = \\frac{1}{P} \\\\\n",
    "\\text{PP}_{t+1} & = \\frac{1(1+i)}{P(1+\\pi)} = \\text{PP}_t (1+r) \\\\\n",
    "\\text{Fisher Relation: } & i_{\\text{KR}} - i_{\\text{US}} = \\pi_{\\text{KR}} - \\pi_{\\text{US}}\n",
    "\\end{align*}\n",
    "\n",
    "where:\n",
    "\n",
    "- $i$: nominal interest rate\n",
    "- $r$: real interest rate\n",
    "- $\\pi$: inflation rate\n",
    "- $P$: price level"
   ]
  },
  {
   "cell_type": "markdown",
   "id": "f9b4face-d365-4a80-ba43-0094c1ff6010",
   "metadata": {},
   "source": [
    "Fisher Equation is well accepted fact that the nominal interest rate can be borken down into real interest rate and inflation rate. The implication of the equation is that the purchasing power grows at a rate equal to the real interest rate. Furthermore, if we assume the real interest rates across different countries converge, Fisher Relation also holds.\n",
    "\n",
    "Relevant economic variable we could get out of Fisher Equation and Fisher Relation:\n",
    "\n",
    "- real interest rate\n",
    "- interest rate difference\n",
    "- inflation rate difference"
   ]
  },
  {
   "cell_type": "markdown",
   "id": "cf45fa9d-147a-4911-9c2a-16a04a505e30",
   "metadata": {},
   "source": [
    "##### **GDP**"
   ]
  },
  {
   "cell_type": "markdown",
   "id": "c55c300e-9dfd-4705-b65a-645551ee529b",
   "metadata": {},
   "source": [
    "GDP growth rates can influence exchange rate movements. Countries with rapidly growing GDPs generally have strong economies, making them attractive to foreign investors who are more likely to invest in the country's assets. This influx of investment increases the demand for the country's currency, which can subsequently raise its value.\n",
    "\n",
    "Additionally, when economic growth is high, there is a higher likelihood that the central bank will raise interest rates, which can positively impact the value of the currency. Conversely, when economic growth is low, there is a higher likelihood of interest rate cuts, which can lead to a decline in the currency’s value.\n",
    "\n",
    "Relevant economic variable we could get out of GDP:\n",
    "\n",
    "- GDP\n",
    "- GDP growth rate"
   ]
  },
  {
   "cell_type": "markdown",
   "id": "695e1529-257c-4be0-89b2-e3262e570638",
   "metadata": {},
   "source": [
    "##### **Current Account**"
   ]
  },
  {
   "cell_type": "markdown",
   "id": "011a7aac-a819-41e1-b4a9-2a78c6791906",
   "metadata": {},
   "source": [
    "The current account balance can significantly influence exchange rates. A country with a current account surplus, meaning it exports more than it imports, tends to see an appreciation in its currency. This is because foreign buyers need to purchase the exporting country's currency to pay for its goods and services, increasing demand for that currency and pushing its value higher.\n",
    "\n",
    "Conversely, a current account deficit, where a country imports more than it exports, can lead to a depreciation of its currency. In this case, the country needs to purchase foreign currencies to pay for its imports, increasing the supply of its own currency in the foreign exchange market, which can reduce its value.\n",
    "\n",
    "Relevant economic variable we could get out of current account:\n",
    "\n",
    "- Current accounts"
   ]
  },
  {
   "cell_type": "markdown",
   "id": "1c9d7e4e-19f6-4ee4-9bbe-9fa3c505624d",
   "metadata": {},
   "source": [
    "##### **Slope Facter (Treasury term spread)**"
   ]
  },
  {
   "cell_type": "markdown",
   "id": "787cc4c1-adf5-4fb1-96a0-f03c281cba16",
   "metadata": {},
   "source": [
    "As shown by [Estrella and Mishikin (1996)](https://www.newyorkfed.org/research/current_issues/ci2-7.html), treasury term spread has been a powerful indicator of impending economic recession. Given South Korea's high dependence on exports and its sensitivity to global economic downturns, an economic recession often exerts upward pressure on the exchange rate. Consequently, the treasury term spread can be a significant variable for predicting exchange rates.\n",
    "\n",
    "Relevant economic variable we could get out of slope factor:\n",
    "\n",
    "- T10Y-3M spreads"
   ]
  },
  {
   "cell_type": "markdown",
   "id": "ca2ff186-45bb-4c4d-a7e9-42e051907ffd",
   "metadata": {},
   "source": [
    "##### **Foreign Reserve**"
   ]
  },
  {
   "cell_type": "markdown",
   "id": "0d7895e9-a91f-4576-8765-04f8e72cb74b",
   "metadata": {},
   "source": [
    "As a result of the aftermath of the 1997 Asian financial crisis, South Korea received an IMF bailout in 1998. After overcoming the crisis, South Korea significantly increased its foreign exchange reserves to counteract exchange rate volatility. In fact, [as of December 2023, South Korea's foreign exchange reserves amount to 420.1 billion dollars ranking 9th in the world](https://www.bok.or.kr/eng/main/contents.do?menuNo=400196#:~:text=Korea's%20international%20reserves%20stood%20at,Taiwan%2C%20Saudi%20Arabia%20and%20Hongkong.). Considering that South Korea's [nominal GDP ranks 14th globally as of 2024](https://en.wikipedia.org/wiki/Economy_of_South_Korea), the country's foreign exchange reserves are quite large relative to the size of its economy. \n",
    "\n",
    "When it comes to exchange rates, large foreign reserves works as a buffer for sudden spikes (= depreciation of KRW) in exchange rate. \n",
    "\n",
    "Relevant economic variable we could get out of foreign reserve:\n",
    "\n",
    "- foreign reserve"
   ]
  },
  {
   "cell_type": "markdown",
   "id": "78dd0c8e-ffca-48b8-8ed9-8e4a4b964f7a",
   "metadata": {},
   "source": [
    "## 2. Background Ideas for Model Selection - No ARIMA? No Machine Learning?"
   ]
  },
  {
   "cell_type": "markdown",
   "id": "a1e65461-e2d1-4459-bd37-f3e235015419",
   "metadata": {},
   "source": [
    "##### **ARIMA?**"
   ]
  },
  {
   "cell_type": "markdown",
   "id": "ab66b8a9-e1a7-47a2-8683-ee9bf7129b4b",
   "metadata": {},
   "source": [
    "As can be seen in later sections, we are going to use the method called overlapping.\n",
    "\n",
    "I plan to calculate the 1-year return of exchange rates on a corresponding monthly basis and use it as the dependent variable. This approach involves overlapping data. Overlapping data generally refers to situations where two data points overlap with each other, which is common in financial time series analysis. This overlap can create strong correlations between data points, leading to potential issues in modeling.\n",
    "\n",
    "The ARIMA (Autoregressive Integrated Moving Average) model is widely used for predicting time series data. It predicts future values of a time series based on the series' own autocorrelation (autoregression) and moving averages. However, ARIMA works best with independent and identically distributed (non-overlapping) data points.\n",
    "\n",
    "Overlapping data increases the correlation between data points, which can violate the independence assumption that ARIMA models rely on, thereby reducing the model’s predictive performance. And when data points overlap, the parameter estimates of the model can become biased, leading to inaccurate predictions.\n",
    "\n",
    "In contrast, with OLS, even in the presence of autoregression, it is possible to obtain unbiased estimates. For this reason, I decided to use OLS instead of ARIMA or similar models."
   ]
  },
  {
   "cell_type": "markdown",
   "id": "3c118b43-dbce-4754-92ae-6062bac495d7",
   "metadata": {},
   "source": [
    "##### **Machine Learning?**"
   ]
  },
  {
   "cell_type": "markdown",
   "id": "114f0583-c4b5-441f-a831-f2a2d96b0a97",
   "metadata": {},
   "source": [
    "Financial data possesses unique features that can adversely affect the performance and interpretability of machine learning models.\n",
    "\n",
    "Financial time series data tends to be autocorrelated, meaning that today’s value is strongly related to yesterday’s value. If machine learning models do not adequately address this time dependency, their predictions can be inaccurate. \n",
    "\n",
    "Machine learning models work more like black-boxes: they produce results but oftentimes perform very poor at discovering the underlying reasons for the results. This is critical as interpretability of results is crucial in financial data analysis.\n",
    "\n",
    "The most critical of problems would be overfitting. Machine learning models in financial data tend to fit past data closely to make predictions, but this can result in overfitting, making it less effective at predicting future data, especially given the dynamic nature of financial markets and the unpredictability of future events.\n",
    "\n",
    "In contrast,OLS is relatively free from the problems machine learning models suffer. For this reason, I decided to use OLS instead of machine learning models."
   ]
  },
  {
   "cell_type": "markdown",
   "id": "07a8c092-cb9e-407b-a3db-4782bf06dc28",
   "metadata": {},
   "source": [
    "## 3. Background Ideas for Selecting the Right Time Window"
   ]
  },
  {
   "cell_type": "markdown",
   "id": "39050782-2219-4f91-b2ac-236f71092ffd",
   "metadata": {},
   "source": [
    "South Korea's exchange rate regime has undergone significant changes in the past few decades. Until the early 1980s, South Korea maintained a de facto fixed exchange rate system, which is clearly visible in historical graphs. The exchange rates from that period are fundamentally different from those of today, rendering past exchange rate data unsuitable as a predictive indicator.\n",
    "\n",
    "Furthermore, after experiencing the 1997 financial crisis and receiving an IMF bailout, South Korea's currency exchange policy underwent a drastic shift. Prior to this, the country had officially maintained a floating exchange rate system, but in practice, the government actively intervened to adjust the exchange rate. After the crisis, South Korea adopted a floating exchange rate system with limited government intervention. As a result, data prior to 1998 has been excluded from the exchange rate prediction model."
   ]
  },
  {
   "cell_type": "code",
   "execution_count": 1,
   "id": "d4f9b93b-5f3d-4198-ab54-8d1c02065ad7",
   "metadata": {},
   "outputs": [],
   "source": [
    "import pandas as pd"
   ]
  },
  {
   "cell_type": "code",
   "execution_count": 2,
   "id": "4c5df7e5-42f6-4def-a1d0-d7a7067c5f8e",
   "metadata": {},
   "outputs": [],
   "source": [
    "df_xr = pd.read_excel('projectdata/krw_usd_xr_predownloaded.xlsx')"
   ]
  },
  {
   "cell_type": "code",
   "execution_count": 3,
   "id": "dbeb5f04-dba2-4656-ac0a-e329a100b439",
   "metadata": {},
   "outputs": [],
   "source": [
    "#date-indexing\n",
    "df_xr = df_xr.set_index('date')"
   ]
  },
  {
   "cell_type": "code",
   "execution_count": 4,
   "id": "4ebbedc2-dc20-4867-a168-033352a47101",
   "metadata": {},
   "outputs": [],
   "source": [
    "import matplotlib.pyplot as plt"
   ]
  },
  {
   "cell_type": "code",
   "execution_count": 5,
   "id": "c0a595ed-c31f-4ba8-bfe1-1e9e262f8301",
   "metadata": {},
   "outputs": [],
   "source": [
    "plt.rcParams['figure.figsize'] = (10, 4)"
   ]
  },
  {
   "cell_type": "code",
   "execution_count": 6,
   "id": "802b992d-7cb2-46c2-858f-847f2ff40fb2",
   "metadata": {},
   "outputs": [
    {
     "data": {
      "image/png": "[encoded data removed]",
      "text/plain": [
       "<Figure size 1000x400 with 1 Axes>"
      ]
     },
     "metadata": {},
     "output_type": "display_data"
    }
   ],
   "source": [
    "plt.plot(df_xr['krw_usd_xr'])\n",
    "plt.show()"
   ]
  },
  {
   "cell_type": "markdown",
   "id": "28647572-af36-43ba-8517-38cbd50abf1b",
   "metadata": {},
   "source": [
    "> Until early 80's, exchange rates are almost flat.\\\n",
    "> Until late 90's, exchange rates show smoothing pattern."
   ]
  },
  {
   "cell_type": "markdown",
   "id": "566780b2-5e58-4227-a793-aa118640dcac",
   "metadata": {},
   "source": [
    "---"
   ]
  },
  {
   "cell_type": "markdown",
   "id": "1a4d5b70-fe51-442c-ada0-f5564feb973f",
   "metadata": {},
   "source": [
    "# Part I. Downloading and Loading Data from Bank of Korea, Federal Reserve, and World Bank"
   ]
  },
  {
   "cell_type": "markdown",
   "id": "7c071bca-fa83-4168-b518-2f378fbe4d7c",
   "metadata": {},
   "source": [
    "## 1. Downloading Exchange Rate and Other Macroeconomic Data from Bank of Korea Using Cumtom Functions"
   ]
  },
  {
   "cell_type": "markdown",
   "id": "c971ff52-67ab-48e1-b1e4-51aca7970ce3",
   "metadata": {},
   "source": [
    "> We are to download exchange rates and macroeconomic data from BOK using custom functions. Unfortunately, BOK API is not structured user-friendly so it might be difficult to understand the custom functions at first sight. I uploaded to my github detailed lecture notes as to how BOK API is structured and the descriptions of custom functions. You can refer to them in the following links:\n",
    "> - **[BOK API 1.](https://github.com/JKang918/ExchangeRatePrediction/blob/main/LectureNotes/3.%20Bank%20of%20Korea%20API.ipynb)**\n",
    "> - **[BOK API 2.](https://github.com/JKang918/ExchangeRatePrediction/blob/main/LectureNotes/6.%20Downloading%20Data%20from%20Bank%20of%20Korea.ipynb)**\n",
    "\n",
    "> We are downloading follwing data sets for South Korea and US, respectively:\n",
    "> 1. Arbitraged Rates of Major Currencies Against Won\n",
    "> 2. International Consumer Price indices\n",
    "> 3. Internatioanl Current Account, Total, Net, US Dollars\n",
    "> 4. International Growth Rate of GDP\n",
    "> 5. GDP\n",
    "> 6. Financial Market Key Indicators\n",
    "> 7. Market Interest Rates(Daily)\n",
    "> 8. International Reserves - *South Korea only*"
   ]
  },
  {
   "cell_type": "code",
   "execution_count": 7,
   "id": "8659e4c4-52b7-4753-ab95-940ca502ee7c",
   "metadata": {},
   "outputs": [],
   "source": [
    "import requests\n",
    "\n",
    "from pandas.tseries.offsets import MonthEnd, YearEnd"
   ]
  },
  {
   "cell_type": "markdown",
   "id": "48a474da-940a-4d4b-a2d5-49f6716865c0",
   "metadata": {},
   "source": [
    "##### **Step 1. BOK API - Find the code names for data sets of interest** "
   ]
  },
  {
   "cell_type": "code",
   "execution_count": 8,
   "id": "efa61fae-3fd2-4a33-9bd6-2e501c3041fe",
   "metadata": {},
   "outputs": [],
   "source": [
    "BOK_API_URL = 'https://ecos.bok.or.kr/api'\n",
    "BOK_API_KEY = 'IDI4QC444EYRWRBBQ8JN' #individual specific API key"
   ]
  },
  {
   "cell_type": "markdown",
   "id": "7419d8fc-617d-4648-8bb2-fabdaeda85aa",
   "metadata": {},
   "source": [
    "> For more information about Bank of Korea API and to generate individual API key for yourself, check out the link below:\n",
    ">\n",
    "> - [Bank of Koera API](https://ecos.bok.or.kr/api/)\n",
    ">\n",
    "> The website is in ***Korean***. I suggest you to stick with the Korean webpage and use webbrowswer translate function."
   ]
  },
  {
   "cell_type": "code",
   "execution_count": 9,
   "id": "cc00822a-6319-4ab8-b3c2-4e8a8941f373",
   "metadata": {},
   "outputs": [],
   "source": [
    "#function structured specifically for BOK API system\n",
    "def fetch_bok_data(service_code, stat_code = None, item = None):\n",
    "    url = f'{BOK_API_URL}/{service_code}/{BOK_API_KEY}/json/en/1/100000' #10000 is sufficiently large, arbitrary number\n",
    "\n",
    "    if item is not None:\n",
    "        url += \"/{}/{}/{}/{}/{}\".format(\n",
    "\n",
    "            item['STAT_CODE'], \n",
    "            item['CYCLE'],\n",
    "            item['START_TIME'],\n",
    "            item['END_TIME'],\n",
    "            item['ITEM_CODE'],\n",
    "        )\n",
    "\n",
    "        #BOK API development guide - item code itself is stratified -> There can be multiple codes \n",
    "        if type(item['ITEM_CODE2']) is str:\n",
    "            url += f\"/{item['ITEM_CODE2']}\"\n",
    "        \n",
    "    elif stat_code:\n",
    "        url += f'/{stat_code}' \n",
    "    \n",
    "    print(url)\n",
    "    resp = requests.get(url)\n",
    "    results = resp.json()\n",
    "    rows = results[service_code]['row']\n",
    "    df = pd.DataFrame(rows)\n",
    "\n",
    "    return df"
   ]
  },
  {
   "cell_type": "code",
   "execution_count": 10,
   "id": "04ca79cd-70dd-4f6f-ab88-f498251a9668",
   "metadata": {},
   "outputs": [
    {
     "name": "stdout",
     "output_type": "stream",
     "text": [
      "https://ecos.bok.or.kr/api/StatisticTableList/IDI4QC444EYRWRBBQ8JN/json/en/1/100000\n"
     ]
    }
   ],
   "source": [
    "#StatisticTableList: list names of data sets BOK provides\n",
    "stat_codes = fetch_bok_data('StatisticTableList')"
   ]
  },
  {
   "cell_type": "code",
   "execution_count": 11,
   "id": "73f09f22-35aa-4964-abf3-010931f9a2a4",
   "metadata": {},
   "outputs": [
    {
     "data": {
      "text/html": [
       "<div>\n",
       "<style scoped>\n",
       "    .dataframe tbody tr th:only-of-type {\n",
       "        vertical-align: middle;\n",
       "    }\n",
       "\n",
       "    .dataframe tbody tr th {\n",
       "        vertical-align: top;\n",
       "    }\n",
       "\n",
       "    .dataframe thead th {\n",
       "        text-align: right;\n",
       "    }\n",
       "</style>\n",
       "<table border=\"1\" class=\"dataframe\">\n",
       "  <thead>\n",
       "    <tr style=\"text-align: right;\">\n",
       "      <th></th>\n",
       "      <th>P_STAT_CODE</th>\n",
       "      <th>STAT_CODE</th>\n",
       "      <th>STAT_NAME</th>\n",
       "      <th>CYCLE</th>\n",
       "      <th>SRCH_YN</th>\n",
       "      <th>ORG_NAME</th>\n",
       "    </tr>\n",
       "  </thead>\n",
       "  <tbody>\n",
       "    <tr>\n",
       "      <th>409</th>\n",
       "      <td>0000000158</td>\n",
       "      <td>301Y017</td>\n",
       "      <td>2.5.1.2. Current Account(S.A.)</td>\n",
       "      <td>M</td>\n",
       "      <td>Y</td>\n",
       "      <td>Bank of Korea</td>\n",
       "    </tr>\n",
       "    <tr>\n",
       "      <th>411</th>\n",
       "      <td>0000000158</td>\n",
       "      <td>301Y015</td>\n",
       "      <td>2.5.1.4. Regional Current Account</td>\n",
       "      <td>A</td>\n",
       "      <td>Y</td>\n",
       "      <td>Bank of Korea</td>\n",
       "    </tr>\n",
       "    <tr>\n",
       "      <th>949</th>\n",
       "      <td>0000000443</td>\n",
       "      <td>902Y009</td>\n",
       "      <td>9.1.3.1. Internatioanl Current Account, Total,...</td>\n",
       "      <td>Q</td>\n",
       "      <td>Y</td>\n",
       "      <td>IMF</td>\n",
       "    </tr>\n",
       "    <tr>\n",
       "      <th>950</th>\n",
       "      <td>0000000443</td>\n",
       "      <td>902Y010</td>\n",
       "      <td>9.1.3.2. Internatioanl Current Account, Goods ...</td>\n",
       "      <td>Q</td>\n",
       "      <td>Y</td>\n",
       "      <td>IMF</td>\n",
       "    </tr>\n",
       "    <tr>\n",
       "      <th>951</th>\n",
       "      <td>0000000443</td>\n",
       "      <td>902Y011</td>\n",
       "      <td>9.1.3.3. Internatioanl Current Account, Goods ...</td>\n",
       "      <td>Q</td>\n",
       "      <td>Y</td>\n",
       "      <td>IMF</td>\n",
       "    </tr>\n",
       "  </tbody>\n",
       "</table>\n",
       "</div>"
      ],
      "text/plain": [
       "    P_STAT_CODE STAT_CODE                                          STAT_NAME  \\\n",
       "409  0000000158   301Y017                     2.5.1.2. Current Account(S.A.)   \n",
       "411  0000000158   301Y015                  2.5.1.4. Regional Current Account   \n",
       "949  0000000443   902Y009  9.1.3.1. Internatioanl Current Account, Total,...   \n",
       "950  0000000443   902Y010  9.1.3.2. Internatioanl Current Account, Goods ...   \n",
       "951  0000000443   902Y011  9.1.3.3. Internatioanl Current Account, Goods ...   \n",
       "\n",
       "    CYCLE SRCH_YN       ORG_NAME  \n",
       "409     M       Y  Bank of Korea  \n",
       "411     A       Y  Bank of Korea  \n",
       "949     Q       Y            IMF  \n",
       "950     Q       Y            IMF  \n",
       "951     Q       Y            IMF  "
      ]
     },
     "execution_count": 11,
     "metadata": {},
     "output_type": "execute_result"
    }
   ],
   "source": [
    "#find data set name including 'consumer'\n",
    "idx = stat_codes['STAT_NAME'].str.lower().str.find('current account') >= 0\n",
    "stat_codes.loc[idx]"
   ]
  },
  {
   "cell_type": "markdown",
   "id": "ac269270-82b3-4f59-b27e-78b29dad4844",
   "metadata": {},
   "source": [
    "> This is an example case of searching for a certain data set among the data sets provided by BOK.\\\n",
    "> We assume that we found the exact code names for the right data sets from searching keywords like above. "
   ]
  },
  {
   "cell_type": "code",
   "execution_count": 12,
   "id": "13baa9e7-62a4-40e6-979a-f6ed4ba072d9",
   "metadata": {},
   "outputs": [],
   "source": [
    "#assume we found target data sets searching with index like above.\n",
    "TARGET_STAT_CODES = [\n",
    "    '731Y001',  # 3.1.1.1. Arbitraged Rates of Major Currencies Against Won\n",
    "    '902Y008',  # 9.1.2.2. International Consumer Price indices\n",
    "    '902Y009',  # 9.1.3.1. Internatioanl Current Account, Total, Net, US Dollars\n",
    "    '902Y015',  # 9.1.4.1. International Growth Rate of GDP\n",
    "    '902Y016',  # 9.1.4.2. GDP\n",
    "    '902Y023',  # 9.1.6.1. Financial Market Key Indicators\n",
    "    '817Y002',  # 1.3.2.1. Market Interest Rates(Daily)\n",
    "    '732Y001',  # 3.5. International Reserves\n",
    "]"
   ]
  },
  {
   "cell_type": "markdown",
   "id": "b01db6ba-5ba8-445c-a5c3-28f7fda74da5",
   "metadata": {},
   "source": [
    "##### **Step 2. BOK API - Find the items of interest in each data set**"
   ]
  },
  {
   "cell_type": "code",
   "execution_count": 13,
   "id": "076a3e99-4813-4efb-a84a-57c18af564e9",
   "metadata": {},
   "outputs": [
    {
     "name": "stdout",
     "output_type": "stream",
     "text": [
      "https://ecos.bok.or.kr/api/StatisticItemList/IDI4QC444EYRWRBBQ8JN/json/en/1/100000/731Y001\n",
      "https://ecos.bok.or.kr/api/StatisticItemList/IDI4QC444EYRWRBBQ8JN/json/en/1/100000/902Y008\n",
      "https://ecos.bok.or.kr/api/StatisticItemList/IDI4QC444EYRWRBBQ8JN/json/en/1/100000/902Y009\n",
      "https://ecos.bok.or.kr/api/StatisticItemList/IDI4QC444EYRWRBBQ8JN/json/en/1/100000/902Y015\n",
      "https://ecos.bok.or.kr/api/StatisticItemList/IDI4QC444EYRWRBBQ8JN/json/en/1/100000/902Y016\n",
      "https://ecos.bok.or.kr/api/StatisticItemList/IDI4QC444EYRWRBBQ8JN/json/en/1/100000/902Y023\n",
      "https://ecos.bok.or.kr/api/StatisticItemList/IDI4QC444EYRWRBBQ8JN/json/en/1/100000/817Y002\n",
      "https://ecos.bok.or.kr/api/StatisticItemList/IDI4QC444EYRWRBBQ8JN/json/en/1/100000/732Y001\n"
     ]
    }
   ],
   "source": [
    "#Append to an array, the eight tables of interest\n",
    "dfs = []\n",
    "\n",
    "for stat_code in TARGET_STAT_CODES:\n",
    "    df = fetch_bok_data('StatisticItemList', stat_code = stat_code)\n",
    "\n",
    "    dfs.append(df)"
   ]
  },
  {
   "cell_type": "code",
   "execution_count": 14,
   "id": "190c6a81-366d-4b2f-b850-366db6138a0e",
   "metadata": {},
   "outputs": [],
   "source": [
    "#concat the eight tables vertically (axis = 0)\n",
    "df_item_codes = pd.concat(dfs, axis = 0)"
   ]
  },
  {
   "cell_type": "code",
   "execution_count": 15,
   "id": "db2e1960-a78f-432a-9146-8d565687c530",
   "metadata": {},
   "outputs": [],
   "source": [
    "#write it to excel\n",
    "df_item_codes.to_excel('projectdata/bok_item_codes.xlsx', index = False)"
   ]
  },
  {
   "cell_type": "code",
   "execution_count": 16,
   "id": "6e12ceb5-45e0-4239-8598-fbccbbe90cfb",
   "metadata": {},
   "outputs": [],
   "source": [
    "df_item_codes = df_item_codes.set_index(['STAT_CODE', 'ITEM_CODE', 'CYCLE'])"
   ]
  },
  {
   "cell_type": "code",
   "execution_count": 17,
   "id": "a0769d01-7095-4161-9c27-8a05336f7f33",
   "metadata": {},
   "outputs": [
    {
     "data": {
      "text/html": [
       "<div>\n",
       "<style scoped>\n",
       "    .dataframe tbody tr th:only-of-type {\n",
       "        vertical-align: middle;\n",
       "    }\n",
       "\n",
       "    .dataframe tbody tr th {\n",
       "        vertical-align: top;\n",
       "    }\n",
       "\n",
       "    .dataframe thead th {\n",
       "        text-align: right;\n",
       "    }\n",
       "</style>\n",
       "<table border=\"1\" class=\"dataframe\">\n",
       "  <thead>\n",
       "    <tr style=\"text-align: right;\">\n",
       "      <th></th>\n",
       "      <th></th>\n",
       "      <th></th>\n",
       "      <th>STAT_NAME</th>\n",
       "      <th>GRP_CODE</th>\n",
       "      <th>GRP_NAME</th>\n",
       "      <th>ITEM_NAME</th>\n",
       "      <th>P_ITEM_CODE</th>\n",
       "      <th>P_ITEM_NAME</th>\n",
       "      <th>START_TIME</th>\n",
       "      <th>END_TIME</th>\n",
       "      <th>DATA_CNT</th>\n",
       "      <th>UNIT_NAME</th>\n",
       "      <th>WEIGHT</th>\n",
       "    </tr>\n",
       "    <tr>\n",
       "      <th>STAT_CODE</th>\n",
       "      <th>ITEM_CODE</th>\n",
       "      <th>CYCLE</th>\n",
       "      <th></th>\n",
       "      <th></th>\n",
       "      <th></th>\n",
       "      <th></th>\n",
       "      <th></th>\n",
       "      <th></th>\n",
       "      <th></th>\n",
       "      <th></th>\n",
       "      <th></th>\n",
       "      <th></th>\n",
       "      <th></th>\n",
       "    </tr>\n",
       "  </thead>\n",
       "  <tbody>\n",
       "    <tr>\n",
       "      <th rowspan=\"5\" valign=\"top\">731Y001</th>\n",
       "      <th>0000001</th>\n",
       "      <th>D</th>\n",
       "      <td>3.1.1.1. Arbitraged Rates of Major Currencies ...</td>\n",
       "      <td>Group1</td>\n",
       "      <td>Selection of Currencies</td>\n",
       "      <td>Won per United States Dollar(Basic Exchange Rate)</td>\n",
       "      <td>None</td>\n",
       "      <td>None</td>\n",
       "      <td>19640504</td>\n",
       "      <td>20240813</td>\n",
       "      <td>17000</td>\n",
       "      <td>Won</td>\n",
       "      <td>None</td>\n",
       "    </tr>\n",
       "    <tr>\n",
       "      <th>0000053</th>\n",
       "      <th>D</th>\n",
       "      <td>3.1.1.1. Arbitraged Rates of Major Currencies ...</td>\n",
       "      <td>Group1</td>\n",
       "      <td>Selection of Currencies</td>\n",
       "      <td>Won per Yuan(Basic Exchange Rate)</td>\n",
       "      <td>None</td>\n",
       "      <td>None</td>\n",
       "      <td>20160104</td>\n",
       "      <td>20240813</td>\n",
       "      <td>2127</td>\n",
       "      <td>Won</td>\n",
       "      <td>None</td>\n",
       "    </tr>\n",
       "    <tr>\n",
       "      <th>0000002</th>\n",
       "      <th>D</th>\n",
       "      <td>3.1.1.1. Arbitraged Rates of Major Currencies ...</td>\n",
       "      <td>Group1</td>\n",
       "      <td>Selection of Currencies</td>\n",
       "      <td>Won per Japanese Yen(100Yen)</td>\n",
       "      <td>None</td>\n",
       "      <td>None</td>\n",
       "      <td>19770401</td>\n",
       "      <td>20240813</td>\n",
       "      <td>13152</td>\n",
       "      <td>Won</td>\n",
       "      <td>None</td>\n",
       "    </tr>\n",
       "    <tr>\n",
       "      <th>0000003</th>\n",
       "      <th>D</th>\n",
       "      <td>3.1.1.1. Arbitraged Rates of Major Currencies ...</td>\n",
       "      <td>Group1</td>\n",
       "      <td>Selection of Currencies</td>\n",
       "      <td>Won per Euro</td>\n",
       "      <td>None</td>\n",
       "      <td>None</td>\n",
       "      <td>19940411</td>\n",
       "      <td>20240813</td>\n",
       "      <td>8114</td>\n",
       "      <td>Won</td>\n",
       "      <td>None</td>\n",
       "    </tr>\n",
       "    <tr>\n",
       "      <th>0000004</th>\n",
       "      <th>D</th>\n",
       "      <td>3.1.1.1. Arbitraged Rates of Major Currencies ...</td>\n",
       "      <td>Group1</td>\n",
       "      <td>Selection of Currencies</td>\n",
       "      <td>Won per German Mark</td>\n",
       "      <td>None</td>\n",
       "      <td>None</td>\n",
       "      <td>19640504</td>\n",
       "      <td>20011231</td>\n",
       "      <td>11170</td>\n",
       "      <td>Won</td>\n",
       "      <td>None</td>\n",
       "    </tr>\n",
       "    <tr>\n",
       "      <th>...</th>\n",
       "      <th>...</th>\n",
       "      <th>...</th>\n",
       "      <td>...</td>\n",
       "      <td>...</td>\n",
       "      <td>...</td>\n",
       "      <td>...</td>\n",
       "      <td>...</td>\n",
       "      <td>...</td>\n",
       "      <td>...</td>\n",
       "      <td>...</td>\n",
       "      <td>...</td>\n",
       "      <td>...</td>\n",
       "      <td>...</td>\n",
       "    </tr>\n",
       "    <tr>\n",
       "      <th rowspan=\"5\" valign=\"top\">732Y001</th>\n",
       "      <th rowspan=\"2\" valign=\"top\">04</th>\n",
       "      <th>M</th>\n",
       "      <td>3.5. International Reserves</td>\n",
       "      <td>Group1</td>\n",
       "      <td>Selection of Items</td>\n",
       "      <td>Foreign Currency Reserves</td>\n",
       "      <td>99</td>\n",
       "      <td>Total</td>\n",
       "      <td>197101</td>\n",
       "      <td>202407</td>\n",
       "      <td>643</td>\n",
       "      <td>Thou.U$</td>\n",
       "      <td>None</td>\n",
       "    </tr>\n",
       "    <tr>\n",
       "      <th>Q</th>\n",
       "      <td>3.5. International Reserves</td>\n",
       "      <td>Group1</td>\n",
       "      <td>Selection of Items</td>\n",
       "      <td>Foreign Currency Reserves</td>\n",
       "      <td>99</td>\n",
       "      <td>Total</td>\n",
       "      <td>1971Q1</td>\n",
       "      <td>2024Q2</td>\n",
       "      <td>214</td>\n",
       "      <td>Thou.U$</td>\n",
       "      <td>None</td>\n",
       "    </tr>\n",
       "    <tr>\n",
       "      <th rowspan=\"3\" valign=\"top\">99</th>\n",
       "      <th>A</th>\n",
       "      <td>3.5. International Reserves</td>\n",
       "      <td>Group1</td>\n",
       "      <td>Selection of Items</td>\n",
       "      <td>Total</td>\n",
       "      <td>None</td>\n",
       "      <td>None</td>\n",
       "      <td>1960</td>\n",
       "      <td>2023</td>\n",
       "      <td>64</td>\n",
       "      <td>Thou.U$</td>\n",
       "      <td>None</td>\n",
       "    </tr>\n",
       "    <tr>\n",
       "      <th>M</th>\n",
       "      <td>3.5. International Reserves</td>\n",
       "      <td>Group1</td>\n",
       "      <td>Selection of Items</td>\n",
       "      <td>Total</td>\n",
       "      <td>None</td>\n",
       "      <td>None</td>\n",
       "      <td>197101</td>\n",
       "      <td>202407</td>\n",
       "      <td>643</td>\n",
       "      <td>Thou.U$</td>\n",
       "      <td>None</td>\n",
       "    </tr>\n",
       "    <tr>\n",
       "      <th>Q</th>\n",
       "      <td>3.5. International Reserves</td>\n",
       "      <td>Group1</td>\n",
       "      <td>Selection of Items</td>\n",
       "      <td>Total</td>\n",
       "      <td>None</td>\n",
       "      <td>None</td>\n",
       "      <td>1971Q1</td>\n",
       "      <td>2024Q2</td>\n",
       "      <td>214</td>\n",
       "      <td>Thou.U$</td>\n",
       "      <td>None</td>\n",
       "    </tr>\n",
       "  </tbody>\n",
       "</table>\n",
       "<p>477 rows × 11 columns</p>\n",
       "</div>"
      ],
      "text/plain": [
       "                                                                   STAT_NAME  \\\n",
       "STAT_CODE ITEM_CODE CYCLE                                                      \n",
       "731Y001   0000001   D      3.1.1.1. Arbitraged Rates of Major Currencies ...   \n",
       "          0000053   D      3.1.1.1. Arbitraged Rates of Major Currencies ...   \n",
       "          0000002   D      3.1.1.1. Arbitraged Rates of Major Currencies ...   \n",
       "          0000003   D      3.1.1.1. Arbitraged Rates of Major Currencies ...   \n",
       "          0000004   D      3.1.1.1. Arbitraged Rates of Major Currencies ...   \n",
       "...                                                                      ...   \n",
       "732Y001   04        M                            3.5. International Reserves   \n",
       "                    Q                            3.5. International Reserves   \n",
       "          99        A                            3.5. International Reserves   \n",
       "                    M                            3.5. International Reserves   \n",
       "                    Q                            3.5. International Reserves   \n",
       "\n",
       "                          GRP_CODE                 GRP_NAME  \\\n",
       "STAT_CODE ITEM_CODE CYCLE                                     \n",
       "731Y001   0000001   D       Group1  Selection of Currencies   \n",
       "          0000053   D       Group1  Selection of Currencies   \n",
       "          0000002   D       Group1  Selection of Currencies   \n",
       "          0000003   D       Group1  Selection of Currencies   \n",
       "          0000004   D       Group1  Selection of Currencies   \n",
       "...                            ...                      ...   \n",
       "732Y001   04        M       Group1       Selection of Items   \n",
       "                    Q       Group1       Selection of Items   \n",
       "          99        A       Group1       Selection of Items   \n",
       "                    M       Group1       Selection of Items   \n",
       "                    Q       Group1       Selection of Items   \n",
       "\n",
       "                                                                   ITEM_NAME  \\\n",
       "STAT_CODE ITEM_CODE CYCLE                                                      \n",
       "731Y001   0000001   D      Won per United States Dollar(Basic Exchange Rate)   \n",
       "          0000053   D                      Won per Yuan(Basic Exchange Rate)   \n",
       "          0000002   D                           Won per Japanese Yen(100Yen)   \n",
       "          0000003   D                                           Won per Euro   \n",
       "          0000004   D                                    Won per German Mark   \n",
       "...                                                                      ...   \n",
       "732Y001   04        M                              Foreign Currency Reserves   \n",
       "                    Q                              Foreign Currency Reserves   \n",
       "          99        A                                                  Total   \n",
       "                    M                                                  Total   \n",
       "                    Q                                                  Total   \n",
       "\n",
       "                          P_ITEM_CODE P_ITEM_NAME START_TIME  END_TIME  \\\n",
       "STAT_CODE ITEM_CODE CYCLE                                                \n",
       "731Y001   0000001   D            None        None   19640504  20240813   \n",
       "          0000053   D            None        None   20160104  20240813   \n",
       "          0000002   D            None        None   19770401  20240813   \n",
       "          0000003   D            None        None   19940411  20240813   \n",
       "          0000004   D            None        None   19640504  20011231   \n",
       "...                               ...         ...        ...       ...   \n",
       "732Y001   04        M              99       Total     197101    202407   \n",
       "                    Q              99       Total     1971Q1    2024Q2   \n",
       "          99        A            None        None       1960      2023   \n",
       "                    M            None        None     197101    202407   \n",
       "                    Q            None        None     1971Q1    2024Q2   \n",
       "\n",
       "                           DATA_CNT UNIT_NAME WEIGHT  \n",
       "STAT_CODE ITEM_CODE CYCLE                             \n",
       "731Y001   0000001   D         17000       Won   None  \n",
       "          0000053   D          2127       Won   None  \n",
       "          0000002   D         13152       Won   None  \n",
       "          0000003   D          8114       Won   None  \n",
       "          0000004   D         11170       Won   None  \n",
       "...                             ...       ...    ...  \n",
       "732Y001   04        M           643   Thou.U$   None  \n",
       "                    Q           214   Thou.U$   None  \n",
       "          99        A            64   Thou.U$   None  \n",
       "                    M           643   Thou.U$   None  \n",
       "                    Q           214   Thou.U$   None  \n",
       "\n",
       "[477 rows x 11 columns]"
      ]
     },
     "execution_count": 17,
     "metadata": {},
     "output_type": "execute_result"
    }
   ],
   "source": [
    "df_item_codes"
   ]
  },
  {
   "cell_type": "markdown",
   "id": "b872b685-8fb4-4458-bd28-835ea361e131",
   "metadata": {},
   "source": [
    "##### **Step 3. Download data values from the items**\n",
    "\n",
    "- *data_down_list* : list of data specification to extract data accordingly.\n",
    "- This excel file is made manually after carefully studying *df_item_codes* above."
   ]
  },
  {
   "cell_type": "code",
   "execution_count": 18,
   "id": "9278054f-c3e2-48f4-aa9a-7e80a0dc45b4",
   "metadata": {},
   "outputs": [],
   "source": [
    "data_download_list = pd.read_excel('projectdata/bok_data_download_list.xlsx')"
   ]
  },
  {
   "cell_type": "code",
   "execution_count": 19,
   "id": "958d89a5-8848-4cb3-b3b4-024d7324c9ae",
   "metadata": {},
   "outputs": [
    {
     "data": {
      "text/html": [
       "<div>\n",
       "<style scoped>\n",
       "    .dataframe tbody tr th:only-of-type {\n",
       "        vertical-align: middle;\n",
       "    }\n",
       "\n",
       "    .dataframe tbody tr th {\n",
       "        vertical-align: top;\n",
       "    }\n",
       "\n",
       "    .dataframe thead th {\n",
       "        text-align: right;\n",
       "    }\n",
       "</style>\n",
       "<table border=\"1\" class=\"dataframe\">\n",
       "  <thead>\n",
       "    <tr style=\"text-align: right;\">\n",
       "      <th></th>\n",
       "      <th>name</th>\n",
       "      <th>STAT_CODE</th>\n",
       "      <th>STAT_NAME</th>\n",
       "      <th>ITEM_CODE</th>\n",
       "      <th>ITEM_CODE2</th>\n",
       "      <th>ITEM_NAME</th>\n",
       "      <th>CYCLE</th>\n",
       "      <th>UNIT_NAME</th>\n",
       "    </tr>\n",
       "  </thead>\n",
       "  <tbody>\n",
       "    <tr>\n",
       "      <th>0</th>\n",
       "      <td>krw_usd_xr</td>\n",
       "      <td>731Y001</td>\n",
       "      <td>3.1.1.1. Arbitraged Rates of Major Currencies ...</td>\n",
       "      <td>0000001</td>\n",
       "      <td>NaN</td>\n",
       "      <td>Won per United States Dollar(Basic Exchange Rate)</td>\n",
       "      <td>D</td>\n",
       "      <td>Won</td>\n",
       "    </tr>\n",
       "    <tr>\n",
       "      <th>1</th>\n",
       "      <td>cpi_korea</td>\n",
       "      <td>902Y008</td>\n",
       "      <td>9.1.2.2. International Consumer Price indices</td>\n",
       "      <td>KR</td>\n",
       "      <td>NaN</td>\n",
       "      <td>Korea, Republic Of</td>\n",
       "      <td>M</td>\n",
       "      <td>2010=100</td>\n",
       "    </tr>\n",
       "    <tr>\n",
       "      <th>2</th>\n",
       "      <td>cpi_us</td>\n",
       "      <td>902Y008</td>\n",
       "      <td>9.1.2.2. International Consumer Price indices</td>\n",
       "      <td>US</td>\n",
       "      <td>NaN</td>\n",
       "      <td>United States</td>\n",
       "      <td>M</td>\n",
       "      <td>2010=100</td>\n",
       "    </tr>\n",
       "    <tr>\n",
       "      <th>3</th>\n",
       "      <td>current_account_korea</td>\n",
       "      <td>902Y009</td>\n",
       "      <td>9.1.3.1. Internatioanl Current Account, Total,...</td>\n",
       "      <td>KR</td>\n",
       "      <td>NaN</td>\n",
       "      <td>Korea, Republic Of</td>\n",
       "      <td>Q</td>\n",
       "      <td>Mil.U$</td>\n",
       "    </tr>\n",
       "    <tr>\n",
       "      <th>4</th>\n",
       "      <td>current_account_us</td>\n",
       "      <td>902Y009</td>\n",
       "      <td>9.1.3.1. Internatioanl Current Account, Total,...</td>\n",
       "      <td>US</td>\n",
       "      <td>NaN</td>\n",
       "      <td>United States</td>\n",
       "      <td>Q</td>\n",
       "      <td>Mil.U$</td>\n",
       "    </tr>\n",
       "    <tr>\n",
       "      <th>5</th>\n",
       "      <td>gdp_growth_korea</td>\n",
       "      <td>902Y015</td>\n",
       "      <td>9.1.4.1. International Growth Rate of GDP</td>\n",
       "      <td>KOR</td>\n",
       "      <td>NaN</td>\n",
       "      <td>Korea, Republic Of</td>\n",
       "      <td>Q</td>\n",
       "      <td>%</td>\n",
       "    </tr>\n",
       "    <tr>\n",
       "      <th>6</th>\n",
       "      <td>gdp_growth_us</td>\n",
       "      <td>902Y015</td>\n",
       "      <td>9.1.4.1. International Growth Rate of GDP</td>\n",
       "      <td>USA</td>\n",
       "      <td>NaN</td>\n",
       "      <td>United States</td>\n",
       "      <td>Q</td>\n",
       "      <td>%</td>\n",
       "    </tr>\n",
       "    <tr>\n",
       "      <th>7</th>\n",
       "      <td>gdp_korea</td>\n",
       "      <td>902Y016</td>\n",
       "      <td>9.1.4.2. GDP</td>\n",
       "      <td>KOR</td>\n",
       "      <td>NaN</td>\n",
       "      <td>Korea, Republic Of</td>\n",
       "      <td>A</td>\n",
       "      <td>Mil.U$</td>\n",
       "    </tr>\n",
       "    <tr>\n",
       "      <th>8</th>\n",
       "      <td>gdp_us</td>\n",
       "      <td>902Y016</td>\n",
       "      <td>9.1.4.2. GDP</td>\n",
       "      <td>USA</td>\n",
       "      <td>NaN</td>\n",
       "      <td>United States</td>\n",
       "      <td>A</td>\n",
       "      <td>Mil.U$</td>\n",
       "    </tr>\n",
       "    <tr>\n",
       "      <th>9</th>\n",
       "      <td>foreign_reserves</td>\n",
       "      <td>732Y001</td>\n",
       "      <td>3.5. International Reserves</td>\n",
       "      <td>99</td>\n",
       "      <td>NaN</td>\n",
       "      <td>Total</td>\n",
       "      <td>M</td>\n",
       "      <td>Thou.U$</td>\n",
       "    </tr>\n",
       "    <tr>\n",
       "      <th>10</th>\n",
       "      <td>int_rate_korea</td>\n",
       "      <td>902Y023</td>\n",
       "      <td>9.1.6.1. Financial Market Key Indicators</td>\n",
       "      <td>IR3TIB</td>\n",
       "      <td>KOR</td>\n",
       "      <td>Short term interests rates</td>\n",
       "      <td>M</td>\n",
       "      <td>NaN</td>\n",
       "    </tr>\n",
       "    <tr>\n",
       "      <th>11</th>\n",
       "      <td>int_rate_us</td>\n",
       "      <td>902Y023</td>\n",
       "      <td>9.1.6.1. Financial Market Key Indicators</td>\n",
       "      <td>IR3TIB</td>\n",
       "      <td>USA</td>\n",
       "      <td>Short term interests rates</td>\n",
       "      <td>M</td>\n",
       "      <td>NaN</td>\n",
       "    </tr>\n",
       "  </tbody>\n",
       "</table>\n",
       "</div>"
      ],
      "text/plain": [
       "                     name STAT_CODE  \\\n",
       "0              krw_usd_xr   731Y001   \n",
       "1               cpi_korea   902Y008   \n",
       "2                  cpi_us   902Y008   \n",
       "3   current_account_korea   902Y009   \n",
       "4      current_account_us   902Y009   \n",
       "5        gdp_growth_korea   902Y015   \n",
       "6           gdp_growth_us   902Y015   \n",
       "7               gdp_korea   902Y016   \n",
       "8                  gdp_us   902Y016   \n",
       "9        foreign_reserves   732Y001   \n",
       "10         int_rate_korea   902Y023   \n",
       "11            int_rate_us   902Y023   \n",
       "\n",
       "                                            STAT_NAME ITEM_CODE ITEM_CODE2  \\\n",
       "0   3.1.1.1. Arbitraged Rates of Major Currencies ...   0000001        NaN   \n",
       "1       9.1.2.2. International Consumer Price indices        KR        NaN   \n",
       "2       9.1.2.2. International Consumer Price indices        US        NaN   \n",
       "3   9.1.3.1. Internatioanl Current Account, Total,...        KR        NaN   \n",
       "4   9.1.3.1. Internatioanl Current Account, Total,...        US        NaN   \n",
       "5           9.1.4.1. International Growth Rate of GDP       KOR        NaN   \n",
       "6           9.1.4.1. International Growth Rate of GDP       USA        NaN   \n",
       "7                                        9.1.4.2. GDP       KOR        NaN   \n",
       "8                                        9.1.4.2. GDP       USA        NaN   \n",
       "9                         3.5. International Reserves        99        NaN   \n",
       "10           9.1.6.1. Financial Market Key Indicators    IR3TIB        KOR   \n",
       "11           9.1.6.1. Financial Market Key Indicators    IR3TIB        USA   \n",
       "\n",
       "                                            ITEM_NAME CYCLE UNIT_NAME  \n",
       "0   Won per United States Dollar(Basic Exchange Rate)     D       Won  \n",
       "1                                  Korea, Republic Of     M  2010=100  \n",
       "2                                       United States     M  2010=100  \n",
       "3                                  Korea, Republic Of     Q    Mil.U$  \n",
       "4                                       United States     Q    Mil.U$  \n",
       "5                                  Korea, Republic Of     Q        %   \n",
       "6                                       United States     Q        %   \n",
       "7                                  Korea, Republic Of     A    Mil.U$  \n",
       "8                                       United States     A    Mil.U$  \n",
       "9                                               Total     M   Thou.U$  \n",
       "10                         Short term interests rates     M       NaN  \n",
       "11                         Short term interests rates     M       NaN  "
      ]
     },
     "execution_count": 19,
     "metadata": {},
     "output_type": "execute_result"
    }
   ],
   "source": [
    "data_download_list"
   ]
  },
  {
   "cell_type": "code",
   "execution_count": 20,
   "id": "c8b161ac-661b-4be7-a8cb-d339e498dfc7",
   "metadata": {},
   "outputs": [
    {
     "name": "stdout",
     "output_type": "stream",
     "text": [
      "Downloading krw_usd_xr ...\n",
      "https://ecos.bok.or.kr/api/StatisticSearch/IDI4QC444EYRWRBBQ8JN/json/en/1/100000/731Y001/D/19640504/20240813/0000001\n",
      "\n",
      "Downloading cpi_korea ...\n",
      "https://ecos.bok.or.kr/api/StatisticSearch/IDI4QC444EYRWRBBQ8JN/json/en/1/100000/902Y008/M/195108/202406/KR\n",
      "\n",
      "Downloading cpi_us ...\n",
      "https://ecos.bok.or.kr/api/StatisticSearch/IDI4QC444EYRWRBBQ8JN/json/en/1/100000/902Y008/M/195501/202406/US\n",
      "\n",
      "Downloading current_account_korea ...\n",
      "https://ecos.bok.or.kr/api/StatisticSearch/IDI4QC444EYRWRBBQ8JN/json/en/1/100000/902Y009/Q/1976Q1/2024Q1/KR\n",
      "\n",
      "Downloading current_account_us ...\n",
      "https://ecos.bok.or.kr/api/StatisticSearch/IDI4QC444EYRWRBBQ8JN/json/en/1/100000/902Y009/Q/1973Q1/2024Q1/US\n",
      "\n",
      "Downloading gdp_growth_korea ...\n",
      "https://ecos.bok.or.kr/api/StatisticSearch/IDI4QC444EYRWRBBQ8JN/json/en/1/100000/902Y015/Q/1960Q2/2024Q2/KOR\n",
      "\n",
      "Downloading gdp_growth_us ...\n",
      "https://ecos.bok.or.kr/api/StatisticSearch/IDI4QC444EYRWRBBQ8JN/json/en/1/100000/902Y015/Q/1947Q2/2024Q2/USA\n",
      "\n",
      "Downloading gdp_korea ...\n",
      "https://ecos.bok.or.kr/api/StatisticSearch/IDI4QC444EYRWRBBQ8JN/json/en/1/100000/902Y016/A/1953/2023/KOR\n",
      "\n",
      "Downloading gdp_us ...\n",
      "https://ecos.bok.or.kr/api/StatisticSearch/IDI4QC444EYRWRBBQ8JN/json/en/1/100000/902Y016/A/1970/2023/USA\n",
      "\n",
      "Downloading foreign_reserves ...\n",
      "https://ecos.bok.or.kr/api/StatisticSearch/IDI4QC444EYRWRBBQ8JN/json/en/1/100000/732Y001/M/197101/202407/99\n",
      "\n",
      "Downloading int_rate_korea ...\n",
      "https://ecos.bok.or.kr/api/StatisticSearch/IDI4QC444EYRWRBBQ8JN/json/en/1/100000/902Y023/M/195601/202406/IR3TIB/KOR\n",
      "\n",
      "Downloading int_rate_us ...\n",
      "https://ecos.bok.or.kr/api/StatisticSearch/IDI4QC444EYRWRBBQ8JN/json/en/1/100000/902Y023/M/195601/202406/IR3TIB/USA\n",
      "\n",
      "** Completed !! **\n"
     ]
    }
   ],
   "source": [
    "#iterate over rows\n",
    "for idx, row in data_download_list.iterrows():\n",
    "    name = row['name']\n",
    "\n",
    "    print(f\"Downloading {name} ...\")\n",
    "    idx = (row.STAT_CODE, row.ITEM_CODE, row.CYCLE)\n",
    "    item = df_item_codes.loc[idx]\n",
    "\n",
    "    #merge downloaded data and preparaed excel file (itemlists of interest)\n",
    "    item = {**item, **row}\n",
    "\n",
    "    #from items of interest, fetch data\n",
    "    df = fetch_bok_data('StatisticSearch', item = item)\n",
    "    df = df[['TIME', 'DATA_VALUE']]\n",
    "\n",
    "    #for timestamp\n",
    "\n",
    "    #daily data - 8 digit date\n",
    "    if row['CYCLE'] == 'D':\n",
    "        df['date'] = pd.to_datetime(df['TIME'])\n",
    "\n",
    "    #monthly data - 6 digit date\n",
    "    elif row['CYCLE'] == 'M':\n",
    "        df['date'] = pd.to_datetime(df['TIME'], format = '%Y%m') + MonthEnd()\n",
    "\n",
    "    #quarterly data - yyyyQx\n",
    "    elif row['CYCLE'] == 'Q':\n",
    "        df['year'] = df['TIME'].str[:4]\n",
    "        df['month'] = df['TIME'].str[-1].astype(int) * 3\n",
    "        df['day'] = 1\n",
    "        df['date'] = pd.to_datetime(df[['year', 'month', 'day']]) + MonthEnd()\n",
    "\n",
    "    #annual data - 4 digit date\n",
    "    elif row['CYCLE'] == 'A':\n",
    "        df['date'] = pd.to_datetime(df['TIME']) + YearEnd()\n",
    "    \n",
    "    else:\n",
    "        raise RuntimeError()\n",
    "    \n",
    "    \n",
    "    df = df[['date', 'DATA_VALUE']]\n",
    "    df = df.rename(columns = {\n",
    "        'DATA_VALUE' : name,\n",
    "    })\n",
    "    df[name] = df[name].astype(float)\n",
    "    \n",
    "    #change the filepath, if you'd like to\n",
    "    df.to_excel(f\"projectdata/{name}.xlsx\", index = False)\n",
    "    \n",
    "    print()\n",
    "\n",
    "print('** Completed !! **')"
   ]
  },
  {
   "cell_type": "markdown",
   "id": "5b1263d0-3390-416a-b383-7b6502c73368",
   "metadata": {},
   "source": [
    "> Data files are successfully saved in \"projectdata\" folder. You can change the filepath within the custom function above, if you would like to."
   ]
  },
  {
   "cell_type": "markdown",
   "id": "be258ec8-650d-45fe-92c2-176f6fcb4d24",
   "metadata": {},
   "source": [
    "## 2. Downloading Tresuary Term Spread Data from Federal Reserve"
   ]
  },
  {
   "cell_type": "markdown",
   "id": "97e78643-316e-4e67-a058-608af6c37ecc",
   "metadata": {},
   "source": [
    "Downloading data from Federal Reserve is a lot easier than BOK case. Get your API key from [here - stlouisfed.org](https://fred.stlouisfed.org/docs/api/fred/) and use ***fredapi*** module and you are good to go. \n",
    "\n",
    "If you would like to see more test cases of using ***fredapi***, check out [here - mortada/github](https://github.com/mortada/fredapi)."
   ]
  },
  {
   "cell_type": "code",
   "execution_count": 21,
   "id": "d849bc9f-7def-4521-a483-9f4dc3f13420",
   "metadata": {},
   "outputs": [],
   "source": [
    "#pip install fredapi"
   ]
  },
  {
   "cell_type": "code",
   "execution_count": 22,
   "id": "78bf5701-aeba-4b3a-8a12-cc991b22651f",
   "metadata": {},
   "outputs": [],
   "source": [
    "from fredapi import Fred\n",
    "fred = Fred(api_key='2b947fe722489ce25868587bfcee807d') #your own API key"
   ]
  },
  {
   "cell_type": "code",
   "execution_count": 23,
   "id": "861198cb-eea0-459f-a33f-192d3886ecda",
   "metadata": {},
   "outputs": [
    {
     "data": {
      "text/plain": [
       "2024-08-06   -1.44\n",
       "2024-08-07   -1.38\n",
       "2024-08-08   -1.35\n",
       "2024-08-09   -1.39\n",
       "2024-08-12   -1.43\n",
       "dtype: float64"
      ]
     },
     "execution_count": 23,
     "metadata": {},
     "output_type": "execute_result"
    }
   ],
   "source": [
    "#term spread bewteen 10-year treasury yield and 3-month treasury yield \n",
    "#daily data\n",
    "T10Y3M = fred.get_series('T10Y3M', observation_start='1998-12-31')\n",
    "T10Y3M.tail()"
   ]
  },
  {
   "cell_type": "code",
   "execution_count": 24,
   "id": "b27b3a0d-378b-459c-a753-ac294be85f1b",
   "metadata": {},
   "outputs": [],
   "source": [
    "T10Y3M = T10Y3M.to_frame()"
   ]
  },
  {
   "cell_type": "code",
   "execution_count": 25,
   "id": "4f8b4327-1078-460f-80d0-04b5fbf1b119",
   "metadata": {},
   "outputs": [],
   "source": [
    "T10Y3M = T10Y3M.rename(columns={T10Y3M.columns[0]: '10y-3m spread'})"
   ]
  },
  {
   "cell_type": "code",
   "execution_count": 26,
   "id": "d20c96dc-3d13-47c9-9d76-beb9df29f021",
   "metadata": {},
   "outputs": [
    {
     "data": {
      "text/plain": [
       "Index(['10y-3m spread'], dtype='object')"
      ]
     },
     "execution_count": 26,
     "metadata": {},
     "output_type": "execute_result"
    }
   ],
   "source": [
    "T10Y3M.columns"
   ]
  },
  {
   "cell_type": "code",
   "execution_count": 27,
   "id": "7a527096-fe0e-4e85-a439-2f39e54cd527",
   "metadata": {},
   "outputs": [
    {
     "data": {
      "text/html": [
       "<div>\n",
       "<style scoped>\n",
       "    .dataframe tbody tr th:only-of-type {\n",
       "        vertical-align: middle;\n",
       "    }\n",
       "\n",
       "    .dataframe tbody tr th {\n",
       "        vertical-align: top;\n",
       "    }\n",
       "\n",
       "    .dataframe thead th {\n",
       "        text-align: right;\n",
       "    }\n",
       "</style>\n",
       "<table border=\"1\" class=\"dataframe\">\n",
       "  <thead>\n",
       "    <tr style=\"text-align: right;\">\n",
       "      <th></th>\n",
       "      <th>10y-3m spread</th>\n",
       "    </tr>\n",
       "  </thead>\n",
       "  <tbody>\n",
       "    <tr>\n",
       "      <th>1998-12-31</th>\n",
       "      <td>0.17</td>\n",
       "    </tr>\n",
       "    <tr>\n",
       "      <th>1999-01-01</th>\n",
       "      <td>NaN</td>\n",
       "    </tr>\n",
       "    <tr>\n",
       "      <th>1999-01-04</th>\n",
       "      <td>0.20</td>\n",
       "    </tr>\n",
       "    <tr>\n",
       "      <th>1999-01-05</th>\n",
       "      <td>0.26</td>\n",
       "    </tr>\n",
       "    <tr>\n",
       "      <th>1999-01-06</th>\n",
       "      <td>0.26</td>\n",
       "    </tr>\n",
       "  </tbody>\n",
       "</table>\n",
       "</div>"
      ],
      "text/plain": [
       "            10y-3m spread\n",
       "1998-12-31           0.17\n",
       "1999-01-01            NaN\n",
       "1999-01-04           0.20\n",
       "1999-01-05           0.26\n",
       "1999-01-06           0.26"
      ]
     },
     "execution_count": 27,
     "metadata": {},
     "output_type": "execute_result"
    }
   ],
   "source": [
    "T10Y3M.head()"
   ]
  },
  {
   "cell_type": "code",
   "execution_count": 28,
   "id": "05c89dc0-54cc-4ced-a5d4-5590bcaacb03",
   "metadata": {},
   "outputs": [],
   "source": [
    "plt.rcParams['figure.figsize'] = (10, 4)"
   ]
  },
  {
   "cell_type": "code",
   "execution_count": 29,
   "id": "b2cce413-0392-4cfe-963d-3e75d3199e6b",
   "metadata": {},
   "outputs": [
    {
     "data": {
      "image/png": "[encoded data removed]",
      "text/plain": [
       "<Figure size 1000x400 with 1 Axes>"
      ]
     },
     "metadata": {},
     "output_type": "display_data"
    }
   ],
   "source": [
    "#to get the breif overview of the downloaded data\n",
    "plt.plot(T10Y3M)\n",
    "plt.show()"
   ]
  },
  {
   "cell_type": "markdown",
   "id": "a37b255d-dea8-43c3-94c8-cfd3d96129ce",
   "metadata": {},
   "source": [
    "> The data exhibits non-stationarity.\\\n",
    "> In later sections, we will tackle this issue by first, formally identifying non-stationarity and then modifying the data to obtain new stationary data. "
   ]
  },
  {
   "cell_type": "markdown",
   "id": "c398c277-aae0-4632-a474-4bf62882a9d3",
   "metadata": {},
   "source": [
    "## 3. Downloading PPP Exchange Rate Data from World Bank"
   ]
  },
  {
   "cell_type": "markdown",
   "id": "3fb86e04-c517-4b9f-b661-6e7b8004f809",
   "metadata": {},
   "source": [
    "Technically, we can download required data from World Bank with customized function carefully following the development specification of World Bank API. However, in this project, for the sake of simplicity, we skip that part. The procedure is identical to the case of Bank of Korea and Federal Reserve: first, you read the development specification and build customized function to download the data accordingly.\n",
    "\n",
    "Click the following link and download PPP exchange rate data from World Bank database:\n",
    "\n",
    "* **[World Bank PPP Exchange Rate Data](https://data.worldbank.org/indicator/PA.NUS.PPP?locations=KR)**\n",
    "    * Go to the link above, download the excel file to 'projectdata' folder, and reaname the file as ***world_ppp_xr.xls***\n",
    "\n",
    "Remember, real exchange rate is the ratio of internal purchasing power to external purchasing power. In other words, this is also, the ratio of PPP exchange rate to actual market exchange rate in the case of indirect quotation. "
   ]
  },
  {
   "cell_type": "markdown",
   "id": "3f2274ca-e3f9-4007-a167-9d5aa46b5ead",
   "metadata": {},
   "source": [
    "## 4. Loading the Downloaded Data"
   ]
  },
  {
   "cell_type": "markdown",
   "id": "6829bed6-bc4d-4da1-8920-f40462621fec",
   "metadata": {},
   "source": [
    "### 4.1. Bank of Korea"
   ]
  },
  {
   "cell_type": "code",
   "execution_count": 30,
   "id": "d41d6748-a62e-4204-882f-69931e560b1b",
   "metadata": {},
   "outputs": [],
   "source": [
    "#These are the names of data files downloaded from BOK\n",
    "filenames = [\n",
    "    'krw_usd_xr',\n",
    "    'current_account_korea',\n",
    "    'current_account_us',\n",
    "    'gdp_korea',\n",
    "    'gdp_us',\n",
    "    'gdp_growth_korea',\n",
    "    'gdp_growth_us',\n",
    "    'cpi_korea',\n",
    "    'cpi_us',\n",
    "    'int_rate_korea',\n",
    "    'int_rate_us',\n",
    "    'foreign_reserves',\n",
    "]"
   ]
  },
  {
   "cell_type": "code",
   "execution_count": 31,
   "id": "6570a8ab-a8eb-4ffe-a3df-6fdf41a38dee",
   "metadata": {},
   "outputs": [
    {
     "name": "stdout",
     "output_type": "stream",
     "text": [
      "Loading krw_usd_xr...\n",
      "Loading current_account_korea...\n",
      "Loading current_account_us...\n",
      "Loading gdp_korea...\n",
      "Loading gdp_us...\n",
      "Loading gdp_growth_korea...\n",
      "Loading gdp_growth_us...\n",
      "Loading cpi_korea...\n",
      "Loading cpi_us...\n",
      "Loading int_rate_korea...\n",
      "Loading int_rate_us...\n",
      "Loading foreign_reserves...\n",
      "** Completed! **\n"
     ]
    }
   ],
   "source": [
    "dfs = []\n",
    "\n",
    "for fname in filenames:\n",
    "    print(f'Loading {fname}...')\n",
    "\n",
    "    #filepath is where downloaded data are saved\n",
    "    df = pd.read_excel(f'projectdata/{fname}.xlsx')\n",
    "    df = df.set_index('date')\n",
    "\n",
    "    #quarterly datasets\n",
    "    if fname in [\n",
    "        'gdp_growth_korea',\n",
    "        'gdp_growth_us',\n",
    "        'current_account_korea',\n",
    "        'current_account_us',\n",
    "    ]:\n",
    "        #rolling sum to make them annual returns\n",
    "        df[fname] = df[fname].rolling(4).sum()\n",
    "        \n",
    "\n",
    "    dfs.append(df)\n",
    "\n",
    "print('** Completed! **')"
   ]
  },
  {
   "cell_type": "markdown",
   "id": "c9c86307-600e-4ae1-b855-535b44b238ee",
   "metadata": {},
   "source": [
    "> The reason we can use rolling sum as a good approximation of rolling product is explained in **[this lecture note](https://github.com/JKang918/ExchangeRatePrediction/blob/main/LectureNotes/7.%20Understanding%20Rolling%20Sum.ipynb)**."
   ]
  },
  {
   "cell_type": "markdown",
   "id": "313b0e9b-ccd2-438d-9185-9b6c358e8be4",
   "metadata": {},
   "source": [
    "### 4.2. Fedral Reserve"
   ]
  },
  {
   "cell_type": "markdown",
   "id": "0badb44b-92f7-44d0-aa7b-36b3fd584700",
   "metadata": {},
   "source": [
    "In the case of treasury term spread data, as we already have it in pandas dataframe, simply add it to the array of dataframes."
   ]
  },
  {
   "cell_type": "code",
   "execution_count": 32,
   "id": "4e3731b1-002e-49b8-8500-d2b9faa7ff37",
   "metadata": {},
   "outputs": [],
   "source": [
    "dfs.append(T10Y3M)"
   ]
  },
  {
   "cell_type": "markdown",
   "id": "c5080214-4c52-4135-815c-421d6e6e51f8",
   "metadata": {},
   "source": [
    "### 4.3. World Bank"
   ]
  },
  {
   "cell_type": "code",
   "execution_count": 33,
   "id": "8c8edf62-3007-4c21-b2ba-ce6233f57e6c",
   "metadata": {},
   "outputs": [],
   "source": [
    "def load_worldbank_data_korea(filepath, column):\n",
    "\n",
    "    #our data values are located in 'Data' sheet\n",
    "    df = pd.read_excel(filepath, sheet_name = 'Data', skiprows = 3)\n",
    "\n",
    "    #to find korea data\n",
    "    df = df.set_index('Country Code')\n",
    "    df = df.loc['KOR'].to_frame()\n",
    "    \n",
    "    #first three rows are not data values but labels\n",
    "    df = df.iloc[3:]\n",
    "    df = df.dropna()\n",
    "    \n",
    "    #not necessary for recent pandas versions but still included in case someone uses older versions\n",
    "    df = df.astype('float')\n",
    "\n",
    "    #make it year end #timestamp\n",
    "    df['date'] = pd.to_datetime(df.index) + YearEnd(0)\n",
    "\n",
    "    #date-indexing\n",
    "    df = df.set_index('date')\n",
    "\n",
    "    #rename column\n",
    "    df.columns = [column]\n",
    "    \n",
    "    return df"
   ]
  },
  {
   "cell_type": "code",
   "execution_count": 34,
   "id": "da092cbb-2d75-40b0-892f-3184558708a4",
   "metadata": {},
   "outputs": [],
   "source": [
    "df_ppp_xr_kor = \\\n",
    "    load_worldbank_data_korea('data/world_ppp_xr.xls', 'krw_usd_ppp_xr')"
   ]
  },
  {
   "cell_type": "code",
   "execution_count": 35,
   "id": "adaa2ebf-8299-46ee-aaca-7dbfc8b7b1f1",
   "metadata": {},
   "outputs": [],
   "source": [
    "dfs.append(df_ppp_xr_kor)"
   ]
  },
  {
   "cell_type": "code",
   "execution_count": 36,
   "id": "d8fe04a3-6f0d-49fa-9898-d1566111aab7",
   "metadata": {},
   "outputs": [
    {
     "data": {
      "text/plain": [
       "14"
      ]
     },
     "execution_count": 36,
     "metadata": {},
     "output_type": "execute_result"
    }
   ],
   "source": [
    "#if the length of dfs is 14, you have successfully loaded 20 dataframes we are going to use\n",
    "len(dfs)"
   ]
  },
  {
   "cell_type": "markdown",
   "id": "54822680-3617-40de-8ece-0187d613c070",
   "metadata": {},
   "source": [
    "---"
   ]
  },
  {
   "cell_type": "markdown",
   "id": "ad472ea3-a2d2-45aa-b808-a0bd73295ed5",
   "metadata": {},
   "source": [
    "# Part II. Data Preprocessing"
   ]
  },
  {
   "cell_type": "markdown",
   "id": "d3bbf464-d59b-47bd-b537-2bace7542365",
   "metadata": {},
   "source": [
    "We have to preprocess and cleanse the data for proper modeling. \n",
    "\n",
    "* modify non-stationary data into stationary data (e.g., using return, normalization)\n",
    "* calculate required new columns with existing columns (e.g., Real exchange rate)"
   ]
  },
  {
   "cell_type": "markdown",
   "id": "4ba3b7be-feb3-4fb8-a9e6-1718aa322c5d",
   "metadata": {},
   "source": [
    "## 1. Merge, Resample, and Forward Fill the Datasets"
   ]
  },
  {
   "cell_type": "code",
   "execution_count": 37,
   "id": "91db0a3e-35af-409f-b0ea-545c64e873db",
   "metadata": {},
   "outputs": [],
   "source": [
    "#concatenate 14 dataframes horizontally #they are all timestamped and date-indexed arleady\n",
    "df_merged = pd.concat(dfs, axis = 1)"
   ]
  },
  {
   "cell_type": "code",
   "execution_count": 38,
   "id": "cf4437c9-daa1-4fc5-9001-e0a59f640a86",
   "metadata": {},
   "outputs": [],
   "source": [
    "# resample to monthly data: resample('ME')\n",
    "# end-of-month observation: last()\n",
    "df_merged = df_merged.resample('ME').last()"
   ]
  },
  {
   "cell_type": "markdown",
   "id": "a6855592-343e-4e61-8c58-0744cde43cec",
   "metadata": {},
   "source": [
    "> Resample to monthly data\n",
    "> - daily data: too many data points may increase the risk of poor model looking to have high explanatory power\n",
    "> - yearly data: too few data points due to loss of sample, which may increase the risk of good model looking to have low explanatory power\n",
    "> \n",
    "> So, we stick to montly data\n",
    "\n",
    "> End-of-month observation\n",
    "> - using monthly average creates a problem of using future data for future prediction\n",
    "> \n",
    "> So, we stick to end-of-month observations over monthly average"
   ]
  },
  {
   "cell_type": "code",
   "execution_count": 39,
   "id": "cedd353e-f33c-480e-88c0-052803048b26",
   "metadata": {},
   "outputs": [],
   "source": [
    "df_merged = df_merged.ffill()"
   ]
  },
  {
   "cell_type": "markdown",
   "id": "430c1ebc-fd10-4304-8dd6-3026f97c5297",
   "metadata": {},
   "source": [
    "> Forward Fill\n",
    "> - backward fill leads to a problem of using future data for future prediction\n",
    "> - interpolation leads to a problem of using future data for future prediction"
   ]
  },
  {
   "cell_type": "code",
   "execution_count": 40,
   "id": "5842c104-e282-402c-90ae-676faf168cb0",
   "metadata": {},
   "outputs": [
    {
     "data": {
      "text/html": [
       "<div>\n",
       "<style scoped>\n",
       "    .dataframe tbody tr th:only-of-type {\n",
       "        vertical-align: middle;\n",
       "    }\n",
       "\n",
       "    .dataframe tbody tr th {\n",
       "        vertical-align: top;\n",
       "    }\n",
       "\n",
       "    .dataframe thead th {\n",
       "        text-align: right;\n",
       "    }\n",
       "</style>\n",
       "<table border=\"1\" class=\"dataframe\">\n",
       "  <thead>\n",
       "    <tr style=\"text-align: right;\">\n",
       "      <th></th>\n",
       "      <th>krw_usd_xr</th>\n",
       "      <th>current_account_korea</th>\n",
       "      <th>current_account_us</th>\n",
       "      <th>gdp_korea</th>\n",
       "      <th>gdp_us</th>\n",
       "      <th>gdp_growth_korea</th>\n",
       "      <th>gdp_growth_us</th>\n",
       "      <th>cpi_korea</th>\n",
       "      <th>cpi_us</th>\n",
       "      <th>int_rate_korea</th>\n",
       "      <th>int_rate_us</th>\n",
       "      <th>foreign_reserves</th>\n",
       "      <th>10y-3m spread</th>\n",
       "      <th>krw_usd_ppp_xr</th>\n",
       "    </tr>\n",
       "  </thead>\n",
       "  <tbody>\n",
       "    <tr>\n",
       "      <th>2020-01-31</th>\n",
       "      <td>1183.5</td>\n",
       "      <td>59676.1</td>\n",
       "      <td>-441748.0</td>\n",
       "      <td>1651422.9</td>\n",
       "      <td>21521395.0</td>\n",
       "      <td>2.607</td>\n",
       "      <td>3.146</td>\n",
       "      <td>115.88</td>\n",
       "      <td>118.31</td>\n",
       "      <td>1.47</td>\n",
       "      <td>1.65</td>\n",
       "      <td>409652586.0</td>\n",
       "      <td>-0.04</td>\n",
       "      <td>847.547829</td>\n",
       "    </tr>\n",
       "    <tr>\n",
       "      <th>2020-02-29</th>\n",
       "      <td>1215.9</td>\n",
       "      <td>59676.1</td>\n",
       "      <td>-441748.0</td>\n",
       "      <td>1651422.9</td>\n",
       "      <td>21521395.0</td>\n",
       "      <td>2.607</td>\n",
       "      <td>3.146</td>\n",
       "      <td>115.96</td>\n",
       "      <td>118.63</td>\n",
       "      <td>1.42</td>\n",
       "      <td>1.59</td>\n",
       "      <td>409171436.0</td>\n",
       "      <td>-0.14</td>\n",
       "      <td>847.547829</td>\n",
       "    </tr>\n",
       "    <tr>\n",
       "      <th>2020-03-31</th>\n",
       "      <td>1222.6</td>\n",
       "      <td>61844.7</td>\n",
       "      <td>-432948.0</td>\n",
       "      <td>1651422.9</td>\n",
       "      <td>21521395.0</td>\n",
       "      <td>1.263</td>\n",
       "      <td>1.240</td>\n",
       "      <td>115.71</td>\n",
       "      <td>118.37</td>\n",
       "      <td>1.23</td>\n",
       "      <td>1.35</td>\n",
       "      <td>400214398.0</td>\n",
       "      <td>0.59</td>\n",
       "      <td>847.547829</td>\n",
       "    </tr>\n",
       "    <tr>\n",
       "      <th>2020-04-30</th>\n",
       "      <td>1225.2</td>\n",
       "      <td>61844.7</td>\n",
       "      <td>-432948.0</td>\n",
       "      <td>1651422.9</td>\n",
       "      <td>21521395.0</td>\n",
       "      <td>1.263</td>\n",
       "      <td>1.240</td>\n",
       "      <td>115.20</td>\n",
       "      <td>117.58</td>\n",
       "      <td>1.10</td>\n",
       "      <td>1.35</td>\n",
       "      <td>403982333.0</td>\n",
       "      <td>0.55</td>\n",
       "      <td>847.547829</td>\n",
       "    </tr>\n",
       "    <tr>\n",
       "      <th>2020-05-31</th>\n",
       "      <td>1239.4</td>\n",
       "      <td>61844.7</td>\n",
       "      <td>-432948.0</td>\n",
       "      <td>1651422.9</td>\n",
       "      <td>21521395.0</td>\n",
       "      <td>1.263</td>\n",
       "      <td>1.240</td>\n",
       "      <td>115.13</td>\n",
       "      <td>117.58</td>\n",
       "      <td>1.02</td>\n",
       "      <td>0.17</td>\n",
       "      <td>407310604.0</td>\n",
       "      <td>0.51</td>\n",
       "      <td>847.547829</td>\n",
       "    </tr>\n",
       "  </tbody>\n",
       "</table>\n",
       "</div>"
      ],
      "text/plain": [
       "            krw_usd_xr  current_account_korea  current_account_us  gdp_korea  \\\n",
       "2020-01-31      1183.5                59676.1           -441748.0  1651422.9   \n",
       "2020-02-29      1215.9                59676.1           -441748.0  1651422.9   \n",
       "2020-03-31      1222.6                61844.7           -432948.0  1651422.9   \n",
       "2020-04-30      1225.2                61844.7           -432948.0  1651422.9   \n",
       "2020-05-31      1239.4                61844.7           -432948.0  1651422.9   \n",
       "\n",
       "                gdp_us  gdp_growth_korea  gdp_growth_us  cpi_korea  cpi_us  \\\n",
       "2020-01-31  21521395.0             2.607          3.146     115.88  118.31   \n",
       "2020-02-29  21521395.0             2.607          3.146     115.96  118.63   \n",
       "2020-03-31  21521395.0             1.263          1.240     115.71  118.37   \n",
       "2020-04-30  21521395.0             1.263          1.240     115.20  117.58   \n",
       "2020-05-31  21521395.0             1.263          1.240     115.13  117.58   \n",
       "\n",
       "            int_rate_korea  int_rate_us  foreign_reserves  10y-3m spread  \\\n",
       "2020-01-31            1.47         1.65       409652586.0          -0.04   \n",
       "2020-02-29            1.42         1.59       409171436.0          -0.14   \n",
       "2020-03-31            1.23         1.35       400214398.0           0.59   \n",
       "2020-04-30            1.10         1.35       403982333.0           0.55   \n",
       "2020-05-31            1.02         0.17       407310604.0           0.51   \n",
       "\n",
       "            krw_usd_ppp_xr  \n",
       "2020-01-31      847.547829  \n",
       "2020-02-29      847.547829  \n",
       "2020-03-31      847.547829  \n",
       "2020-04-30      847.547829  \n",
       "2020-05-31      847.547829  "
      ]
     },
     "execution_count": 40,
     "metadata": {},
     "output_type": "execute_result"
    }
   ],
   "source": [
    "# check the preprocessed data set\n",
    "df_merged.loc['2020-01-01':].head()"
   ]
  },
  {
   "cell_type": "markdown",
   "id": "ece398d8-2a58-4a35-96dc-8843438c522a",
   "metadata": {},
   "source": [
    "## 2. Calculate New Required Columns with Existing Columns: For Stationarity"
   ]
  },
  {
   "cell_type": "markdown",
   "id": "5eb768b0-31bf-4977-bc14-a34395ed9537",
   "metadata": {},
   "source": [
    "#### **Percentage change of exchange rate**"
   ]
  },
  {
   "cell_type": "markdown",
   "id": "3ea60275-356d-4309-ae2d-a4d2b899b002",
   "metadata": {},
   "source": [
    "$$\n",
    "S_{F.ann_ret} = (\\frac{S_{t+12}}{S_t} - 1) * 100\n",
    "$$"
   ]
  },
  {
   "cell_type": "code",
   "execution_count": 41,
   "id": "5f717495-755e-422c-b05a-de1668c71829",
   "metadata": {},
   "outputs": [],
   "source": [
    "df_merged['ann_ret'] = \\\n",
    "    df_merged['krw_usd_xr'].pct_change(periods = 12) * 100"
   ]
  },
  {
   "cell_type": "code",
   "execution_count": 42,
   "id": "f97015af-5419-4f11-8783-ddd965bf8ff0",
   "metadata": {},
   "outputs": [],
   "source": [
    "#target Y\n",
    "#overlapping\n",
    "df_merged['F12.ann_ret'] = df_merged['ann_ret'].shift(-12)"
   ]
  },
  {
   "cell_type": "markdown",
   "id": "b172490f-3d71-48e9-a77d-6cd6f9c168da",
   "metadata": {},
   "source": [
    "> Exchange rate itself is non-stationary.\\\n",
    "> Use return of exchange rate instead, which is stationary.\\\n",
    "> `pct_change(periods = 12)` means returns are computed between corresponding months with a year apart. We choose to do this over calculating monthly return between adjacent months to exclude seasonality."
   ]
  },
  {
   "cell_type": "markdown",
   "id": "ee32dc67-6534-4ddd-b4d0-9229c47f1d1c",
   "metadata": {},
   "source": [
    "#### **Real exchange rates**"
   ]
  },
  {
   "cell_type": "markdown",
   "id": "909bd9b6-4bed-4e6e-bbba-bfee8dc0a4ac",
   "metadata": {},
   "source": [
    "$$\n",
    "\\text{Real XR} = \\frac{S^{PPP}}{S}\n",
    "$$\n",
    "\n",
    "> indirect quotation"
   ]
  },
  {
   "cell_type": "code",
   "execution_count": 43,
   "id": "4e392992-f413-4e6f-a2c0-4abe51f8de47",
   "metadata": {
    "scrolled": true
   },
   "outputs": [],
   "source": [
    "df_merged['krw_usd_real_xr'] = \\\n",
    "    df_merged['krw_usd_ppp_xr'] / df_merged['krw_usd_xr']"
   ]
  },
  {
   "cell_type": "markdown",
   "id": "750d3f39-6b26-4a4e-a1da-efe2369f1b93",
   "metadata": {},
   "source": [
    "#### **Current accounts relative to GDP**"
   ]
  },
  {
   "cell_type": "markdown",
   "id": "fa8ad46b-b8a8-4735-bc07-07b39753e516",
   "metadata": {},
   "source": [
    "$$\n",
    "\\text{current account relative to GDP} = \\frac{\\text{current account}}{\\text{GDP}}\n",
    "$$"
   ]
  },
  {
   "cell_type": "code",
   "execution_count": 44,
   "id": "fedcb189-11e8-4d0f-96f8-0598563a9aa7",
   "metadata": {},
   "outputs": [],
   "source": [
    "df_merged['ca_gdp_korea'] = \\\n",
    "    df_merged['current_account_korea'] / df_merged['gdp_korea'] * 100"
   ]
  },
  {
   "cell_type": "code",
   "execution_count": 45,
   "id": "73037b43-3907-47e1-ab3b-a151dccb9c75",
   "metadata": {},
   "outputs": [],
   "source": [
    "df_merged['ca_gdp_us'] = \\\n",
    "    df_merged['current_account_us'] / df_merged['gdp_us'] * 100"
   ]
  },
  {
   "cell_type": "markdown",
   "id": "34e60d90-4daf-4be0-8d91-f0b82cb01446",
   "metadata": {},
   "source": [
    "> Instead of using current account itself, normalize it with GDP to restore stationarity.\\\n",
    "> Let us breifly look at the patterns of each current account to better understand this."
   ]
  },
  {
   "cell_type": "code",
   "execution_count": 46,
   "id": "00d6a4fb-3d1f-4e60-804d-96542e12c969",
   "metadata": {},
   "outputs": [
    {
     "data": {
      "image/png": "[encoded data removed]",
      "text/plain": [
       "<Figure size 1000x400 with 1 Axes>"
      ]
     },
     "metadata": {},
     "output_type": "display_data"
    }
   ],
   "source": [
    "# non-stationary processes\n",
    "plt.plot(df_merged['current_account_korea'], label = 'Korea')\n",
    "plt.plot(df_merged['current_account_us'], label = 'US')\n",
    "plt.legend()\n",
    "plt.show()"
   ]
  },
  {
   "cell_type": "code",
   "execution_count": 47,
   "id": "b9c26091-53c2-4db4-aa1c-c66db73121c4",
   "metadata": {},
   "outputs": [
    {
     "data": {
      "image/png": "[encoded data removed]",
      "text/plain": [
       "<Figure size 1000x400 with 1 Axes>"
      ]
     },
     "metadata": {},
     "output_type": "display_data"
    }
   ],
   "source": [
    "#stationary processes\n",
    "plt.plot(df_merged['ca_gdp_korea'], label = 'Korea')\n",
    "plt.plot(df_merged['ca_gdp_us'], label = 'US')\n",
    "plt.legend()\n",
    "plt.show()"
   ]
  },
  {
   "cell_type": "markdown",
   "id": "091c7081-68a7-442a-86c9-2ac44b628cad",
   "metadata": {},
   "source": [
    "> There are statistical test methods, the most famous of which would be Augmented Dickey-Fuller test (ADF test), for testing stationarity. However, it is not recommended to apply these tests mechanically without considering the fundamental nature of the given data. Moreover, in the analysis of economic and financial data, it is known that following well-established academic conventions is the standard. In the case of current account data, it is clearly incorrect to use the current account data directly; the commonly accepted standard approach is to normalize it by dividing it by the GDP."
   ]
  },
  {
   "cell_type": "code",
   "execution_count": 48,
   "id": "71082392-5214-46c1-b4aa-3c0a5c03f66d",
   "metadata": {},
   "outputs": [],
   "source": [
    "from statsmodels.tsa.stattools import adfuller"
   ]
  },
  {
   "cell_type": "code",
   "execution_count": 49,
   "id": "6ffb77e6-c7ab-40d1-b255-996a33cabf67",
   "metadata": {},
   "outputs": [
    {
     "name": "stdout",
     "output_type": "stream",
     "text": [
      "ADF Statistic: -1.4359803919923324\n",
      "p-value: 0.5649103527282072\n"
     ]
    }
   ],
   "source": [
    "#South Korean Current Account is non-stationary \n",
    "ADF_result = adfuller(df_merged['current_account_korea'].dropna())\n",
    " \n",
    "print(f'ADF Statistic: {ADF_result[0]}')\n",
    "print(f'p-value: {ADF_result[1]}')"
   ]
  },
  {
   "cell_type": "code",
   "execution_count": 50,
   "id": "293f059e-024e-4754-aa94-22b767f997de",
   "metadata": {},
   "outputs": [
    {
     "name": "stdout",
     "output_type": "stream",
     "text": [
      "ADF Statistic: -1.1476351605677981\n",
      "p-value: 0.6957067972982445\n"
     ]
    }
   ],
   "source": [
    "#US Current Account is non-stationary \n",
    "ADF_result = adfuller(df_merged['current_account_us'].dropna())\n",
    " \n",
    "print(f'ADF Statistic: {ADF_result[0]}')\n",
    "print(f'p-value: {ADF_result[1]}')"
   ]
  },
  {
   "cell_type": "markdown",
   "id": "0c5c4642-0b5c-42e0-b04b-2ff8b84bbd33",
   "metadata": {},
   "source": [
    "#### **GDP Growth**"
   ]
  },
  {
   "cell_type": "markdown",
   "id": "9f190248-57e3-458e-8484-401c2cc91cce",
   "metadata": {},
   "source": [
    "We downloaded both GDP and GDP growth data from Bank of Korea database. In this section, we see why we downloaded GDP growth data separately in the first place when we could easily compute GDP growth from existing GDP data."
   ]
  },
  {
   "cell_type": "code",
   "execution_count": 51,
   "id": "b4a37b3b-875b-4df8-8706-042b7b5f4e8e",
   "metadata": {},
   "outputs": [],
   "source": [
    "#gdp_growth_korea2: computed from gdp data\n",
    "df_merged['gdp_growth_korea2'] = \\\n",
    "    df_merged['gdp_korea'].pct_change(periods = 12) * 100"
   ]
  },
  {
   "cell_type": "code",
   "execution_count": 52,
   "id": "78b5b786-3eec-4f6d-8df7-39af73aea6a3",
   "metadata": {},
   "outputs": [],
   "source": [
    "df_merged['gdp_growth_us2'] = \\\n",
    "    df_merged['gdp_us'].pct_change(periods = 12) * 100"
   ]
  },
  {
   "cell_type": "code",
   "execution_count": 53,
   "id": "5ad51ef9-3ae4-4a20-b013-0fb2d3f47eca",
   "metadata": {},
   "outputs": [
    {
     "data": {
      "text/html": [
       "<div>\n",
       "<style scoped>\n",
       "    .dataframe tbody tr th:only-of-type {\n",
       "        vertical-align: middle;\n",
       "    }\n",
       "\n",
       "    .dataframe tbody tr th {\n",
       "        vertical-align: top;\n",
       "    }\n",
       "\n",
       "    .dataframe thead th {\n",
       "        text-align: right;\n",
       "    }\n",
       "</style>\n",
       "<table border=\"1\" class=\"dataframe\">\n",
       "  <thead>\n",
       "    <tr style=\"text-align: right;\">\n",
       "      <th></th>\n",
       "      <th>gdp_us</th>\n",
       "      <th>gdp_growth_us</th>\n",
       "      <th>gdp_growth_us2</th>\n",
       "    </tr>\n",
       "  </thead>\n",
       "  <tbody>\n",
       "    <tr>\n",
       "      <th>2018-12-31</th>\n",
       "      <td>20656516.0</td>\n",
       "      <td>2.110</td>\n",
       "      <td>5.325355</td>\n",
       "    </tr>\n",
       "    <tr>\n",
       "      <th>2019-12-31</th>\n",
       "      <td>21521395.0</td>\n",
       "      <td>3.146</td>\n",
       "      <td>4.186955</td>\n",
       "    </tr>\n",
       "  </tbody>\n",
       "</table>\n",
       "</div>"
      ],
      "text/plain": [
       "                gdp_us  gdp_growth_us  gdp_growth_us2\n",
       "2018-12-31  20656516.0          2.110        5.325355\n",
       "2019-12-31  21521395.0          3.146        4.186955"
      ]
     },
     "execution_count": 53,
     "metadata": {},
     "output_type": "execute_result"
    }
   ],
   "source": [
    "df_merged.loc[['2018-12-31', '2019-12-31']]\\\n",
    "    [['gdp_us', 'gdp_growth_us', 'gdp_growth_us2']]"
   ]
  },
  {
   "cell_type": "code",
   "execution_count": 54,
   "id": "87523c47-765b-4a21-bc0c-e7a02d738367",
   "metadata": {},
   "outputs": [
    {
     "data": {
      "text/plain": [
       "4.186954857246983"
      ]
     },
     "execution_count": 54,
     "metadata": {},
     "output_type": "execute_result"
    }
   ],
   "source": [
    "(21521395.0\t/ 20656516.0 - 1) * 100"
   ]
  },
  {
   "cell_type": "markdown",
   "id": "1699350e-7f8c-4c00-90ee-fbb9e0c5b5d3",
   "metadata": {},
   "source": [
    "> Somehow GDP growth rates we downloaded from BOK are different from GDP growth rates computed from GDP data which is also downloaded from BOK.\\\n",
    "> \n",
    "> This is because GDP data is nominal while GDP growth data ('gdp_grwoth_us') is based on real GDP. We are using real GDP growth rate data.\\\n",
    "> In other words, we are using *gdp_growth_us* but not *gdp_growth_us2*.\n",
    ">\n",
    "> Note. The growth rate here is rolled sum."
   ]
  },
  {
   "cell_type": "markdown",
   "id": "2923346b-08a1-428b-a5e4-7f15ef80efe1",
   "metadata": {},
   "source": [
    "#### **Inflation (YoY)**"
   ]
  },
  {
   "cell_type": "markdown",
   "id": "89885ab1-7cb7-4561-8eb1-ece3e02d4fbf",
   "metadata": {},
   "source": [
    "$$\n",
    "\\pi = (\\frac{cpi_{t}}{cpi_{t-12}} - 1) * 100\n",
    "$$"
   ]
  },
  {
   "cell_type": "code",
   "execution_count": 55,
   "id": "48b0e2b6-12e8-42c1-84d3-d85f468d9904",
   "metadata": {},
   "outputs": [],
   "source": [
    "df_merged['infl_korea'] = \\\n",
    "    df_merged['cpi_korea'].pct_change(periods = 12) * 100"
   ]
  },
  {
   "cell_type": "code",
   "execution_count": 56,
   "id": "e3e1d413-f53d-4c11-941d-618dfaee4e2e",
   "metadata": {},
   "outputs": [],
   "source": [
    "df_merged['infl_us'] = \\\n",
    "    df_merged['cpi_us'].pct_change(periods = 12) * 100"
   ]
  },
  {
   "cell_type": "markdown",
   "id": "e9e7e0ff-77af-44a8-a5c9-fb07a9282e21",
   "metadata": {},
   "source": [
    "#### **Relative inflation & Interest rate difference**"
   ]
  },
  {
   "cell_type": "markdown",
   "id": "2dc754ef-1605-4c54-af18-9617bb4add66",
   "metadata": {},
   "source": [
    "$$\n",
    "\\begin{align}\n",
    "\\pi_{\\text{diff}} &= \\pi_{\\text{kor}} - \\pi_{\\text{us}} \\\\\n",
    "i_{\\text{diff}} &= i_{\\text{kor}} - i_{\\text{us}}\n",
    "\\end{align}\n",
    "$$"
   ]
  },
  {
   "cell_type": "code",
   "execution_count": 57,
   "id": "8c3004f7-5fa5-478d-a4b5-00ed0d357c0c",
   "metadata": {},
   "outputs": [],
   "source": [
    "df_merged['infl_diff_kr_us'] = \\\n",
    "    df_merged['infl_korea'] - df_merged['infl_us']"
   ]
  },
  {
   "cell_type": "code",
   "execution_count": 58,
   "id": "a85fca93-8ee2-4e18-b5cc-1fe9d575c45a",
   "metadata": {},
   "outputs": [],
   "source": [
    "df_merged['int_rate_diff_kr_us'] = \\\n",
    "    df_merged['int_rate_korea'] - df_merged['int_rate_us']"
   ]
  },
  {
   "cell_type": "markdown",
   "id": "1ac1d186-aa2c-428d-b4b9-9d40362caefa",
   "metadata": {},
   "source": [
    "#### **Growth rate international reserve in relation to GDP**"
   ]
  },
  {
   "cell_type": "code",
   "execution_count": 59,
   "id": "b694b92b-4a9a-49e7-8548-63754d15218b",
   "metadata": {},
   "outputs": [],
   "source": [
    "plt.rcParams['figure.figsize'] = (10, 4)"
   ]
  },
  {
   "cell_type": "code",
   "execution_count": 60,
   "id": "7a0f5301-e062-4ad2-a0f3-56b472b61c75",
   "metadata": {},
   "outputs": [
    {
     "data": {
      "text/plain": [
       "[<matplotlib.lines.Line2D at 0x210f51c2cd0>]"
      ]
     },
     "execution_count": 60,
     "metadata": {},
     "output_type": "execute_result"
    },
    {
     "data": {
      "image/png": "[encoded data removed]",
      "text/plain": [
       "<Figure size 1000x400 with 1 Axes>"
      ]
     },
     "metadata": {},
     "output_type": "display_data"
    }
   ],
   "source": [
    "#non-stationary process\n",
    "plt.plot(df_merged['foreign_reserves'])"
   ]
  },
  {
   "cell_type": "markdown",
   "id": "97504ca8-3b12-476a-a6b7-d39d7b6733b3",
   "metadata": {},
   "source": [
    "> Foreign reserve follows non-stationary process.\\\n",
    "> We normalize the data in the following two ways:"
   ]
  },
  {
   "cell_type": "markdown",
   "id": "44f465e7-5c35-4be3-888b-b06a726e5bc7",
   "metadata": {},
   "source": [
    "##### **Method 1.**"
   ]
  },
  {
   "cell_type": "markdown",
   "id": "6b7d58db-68f3-4c1d-9ab7-a904ce3f6978",
   "metadata": {},
   "source": [
    "$$\n",
    "\\text{foreign reserve relative to GDP} = \\frac{\\text{foreign reserve}}{\\text{GDP}}\n",
    "$$"
   ]
  },
  {
   "cell_type": "code",
   "execution_count": 61,
   "id": "05fbe45e-227f-40e8-9aaa-e4b08b5e47c3",
   "metadata": {},
   "outputs": [],
   "source": [
    "#normalize method 1. - level\n",
    "#foreign reserves: thousand dollar , gdp: million dollar\n",
    "df_merged['reserves_to_gdp'] = df_merged['foreign_reserves'] / df_merged['gdp_korea'] / 1000 * 100"
   ]
  },
  {
   "cell_type": "code",
   "execution_count": 62,
   "id": "64e31320-882f-452d-b577-8318d73eadcb",
   "metadata": {},
   "outputs": [
    {
     "data": {
      "image/png": "[encoded data removed]",
      "text/plain": [
       "<Figure size 1000x400 with 1 Axes>"
      ]
     },
     "metadata": {},
     "output_type": "display_data"
    }
   ],
   "source": [
    "plt.plot(df_merged['reserves_to_gdp'])\n",
    "plt.show()"
   ]
  },
  {
   "cell_type": "markdown",
   "id": "ebaf6b4d-c657-4cca-8539-c2cba738aa01",
   "metadata": {},
   "source": [
    "##### **Method 2.**"
   ]
  },
  {
   "cell_type": "markdown",
   "id": "695392a3-099c-4f18-bc52-efa65f6e68b1",
   "metadata": {},
   "source": [
    "$$\n",
    "\\text{foreign reserve growth rate} = \\frac{\\text{foreign reserve}_t}{\\text{foreign reserve}_{t-12}}\n",
    "$$"
   ]
  },
  {
   "cell_type": "code",
   "execution_count": 63,
   "id": "dc71f6ba-dcb7-42d3-be9f-45ccec2853c1",
   "metadata": {},
   "outputs": [],
   "source": [
    "#normalize method 2. - growth\n",
    "df_merged['reserves_growth'] = \\\n",
    "    df_merged['foreign_reserves'].pct_change(periods = 12) * 100"
   ]
  },
  {
   "cell_type": "code",
   "execution_count": 64,
   "id": "65745467-7a81-41c6-b5de-e6b2f5a465aa",
   "metadata": {},
   "outputs": [
    {
     "data": {
      "image/png": "[encoded data removed]",
      "text/plain": [
       "<Figure size 1000x400 with 1 Axes>"
      ]
     },
     "metadata": {},
     "output_type": "display_data"
    }
   ],
   "source": [
    "plt.plot(df_merged['reserves_growth'])\n",
    "plt.show()"
   ]
  },
  {
   "cell_type": "markdown",
   "id": "8ce4c0e7-b51c-4f18-a5af-c217d3c2b78c",
   "metadata": {},
   "source": [
    "#### **10y-3m spread**"
   ]
  },
  {
   "cell_type": "code",
   "execution_count": 65,
   "id": "91211ea4-b934-4082-bf09-72406c95f37c",
   "metadata": {},
   "outputs": [],
   "source": [
    "plt.rcParams['figure.figsize'] = (10, 4)"
   ]
  },
  {
   "cell_type": "code",
   "execution_count": 66,
   "id": "c7eaea4f-13e3-4ae3-9254-e8c9c073af14",
   "metadata": {},
   "outputs": [
    {
     "data": {
      "image/png": "[encoded data removed]",
      "text/plain": [
       "<Figure size 1000x400 with 1 Axes>"
      ]
     },
     "metadata": {},
     "output_type": "display_data"
    }
   ],
   "source": [
    "plt.plot(df_merged['10y-3m spread'])\n",
    "plt.title('10-Year Treasury Yield vs. 3-Month Treasury Yield Spread')\n",
    "plt.xlabel('Date')\n",
    "plt.ylabel('Spread')\n",
    "plt.grid(True)\n",
    "plt.show()"
   ]
  },
  {
   "cell_type": "code",
   "execution_count": 67,
   "id": "1b5fed6a-cb9c-48ee-b24f-4cda97465c5c",
   "metadata": {},
   "outputs": [
    {
     "name": "stdout",
     "output_type": "stream",
     "text": [
      "ADF Statistic: -1.6650002115221743\n",
      "p-value: 0.44922960015739427\n"
     ]
    }
   ],
   "source": [
    "ADF_result = adfuller(df_merged['10y-3m spread'].dropna())\n",
    " \n",
    "print(f'ADF Statistic: {ADF_result[0]}')\n",
    "print(f'p-value: {ADF_result[1]}')"
   ]
  },
  {
   "cell_type": "markdown",
   "id": "d9d3660a-3856-4fd6-9845-4607556065d3",
   "metadata": {},
   "source": [
    "> 10Y - 3M spread is non-stationary process as indicated by the graph and ADF test.\\\n",
    "> To convert it to stationary process, apply first-order differencing"
   ]
  },
  {
   "cell_type": "markdown",
   "id": "1553c51a-ffc8-4d79-88e1-2352e335c045",
   "metadata": {},
   "source": [
    "\\begin{align}\n",
    "\\text{Term Spread} &= i_{10Y} - i_{3M} \\\\\n",
    "\\text{differenced: } \\Delta \\text{Term Spread}_t &= \\left(i_{10Y,t} - i_{3M,t}\\right) - \\left(i_{10Y,t-1} - i_{3M,t-1}\\right)\n",
    "\\end{align}"
   ]
  },
  {
   "cell_type": "code",
   "execution_count": 68,
   "id": "403211bf-8d91-4131-834e-a311113d6a12",
   "metadata": {},
   "outputs": [],
   "source": [
    "df_merged['10y-3m spread_diff'] = df_merged['10y-3m spread'].diff()"
   ]
  },
  {
   "cell_type": "code",
   "execution_count": 69,
   "id": "ef13df86-7744-4ff8-961f-a396c70972a1",
   "metadata": {},
   "outputs": [
    {
     "name": "stdout",
     "output_type": "stream",
     "text": [
      "ADF Statistic (Differenced): -9.301196848935648\n",
      "p-value (Differenced): 1.111303540175847e-15\n"
     ]
    }
   ],
   "source": [
    "ADF_result = adfuller(df_merged['10y-3m spread_diff'].dropna())\n",
    "\n",
    "print('ADF Statistic (Differenced):', ADF_result[0])\n",
    "print('p-value (Differenced):', ADF_result[1])"
   ]
  },
  {
   "cell_type": "code",
   "execution_count": 70,
   "id": "fba47120-6359-4bfa-a373-778156fab085",
   "metadata": {},
   "outputs": [
    {
     "data": {
      "image/png": "[encoded data removed]",
      "text/plain": [
       "<Figure size 1000x400 with 1 Axes>"
      ]
     },
     "metadata": {},
     "output_type": "display_data"
    }
   ],
   "source": [
    "plt.plot(df_merged['10y-3m spread_diff'])\n",
    "plt.title('10-Year Treasury Yield vs. 3-Month Treasury Yield Spread - Differenced')\n",
    "plt.xlabel('Date')\n",
    "plt.ylabel('Spread')\n",
    "plt.grid(True)\n",
    "plt.show()"
   ]
  },
  {
   "cell_type": "markdown",
   "id": "44dddd06-1332-42ee-8a15-5ad63ee76ebe",
   "metadata": {},
   "source": [
    "> ADF test result and the graph suggest that the differenced spread data is stationary."
   ]
  },
  {
   "cell_type": "markdown",
   "id": "eca4c49a-fd1b-4938-a225-8fe804aaa9c7",
   "metadata": {},
   "source": [
    "> **Summary of this section:**\n",
    ">\n",
    "> We use return of exchange rates instead of raw exchange rates.\\\n",
    "> We calculated real exchange rates using PPP rates and market exchange rates.\\\n",
    "> We normalized current accounts with the respective size of GDP.\\\n",
    "> We normalized GDP by using return of real GDP.\\\n",
    "> We normalized price leve (cpi) by using inflation.\\\n",
    "> We calculated interest rate difference between the two countries.\\\n",
    "> We normalized foreign reserve in two ways: 1. using the relative size of it considering GDP, 2. using growth rate of it.\\\n",
    "> We differenced 10Y - 3M Treasury yield spread."
   ]
  },
  {
   "cell_type": "markdown",
   "id": "addd1b76-4136-42dd-bed9-a62d63a7daac",
   "metadata": {},
   "source": [
    "---"
   ]
  },
  {
   "cell_type": "markdown",
   "id": "af4f8074-7041-4acb-96c4-59b9018daf55",
   "metadata": {},
   "source": [
    "# Part III. Modeling and Analysis of Model Result"
   ]
  },
  {
   "cell_type": "markdown",
   "id": "013f8386-13f6-4301-8f46-254ff67032c8",
   "metadata": {},
   "source": [
    "## 1. Take Necessary Columns for Modeling"
   ]
  },
  {
   "cell_type": "code",
   "execution_count": 71,
   "id": "a3a1f0b5-951c-4b01-925d-57bcd017895c",
   "metadata": {},
   "outputs": [],
   "source": [
    "#Target: F12.ann_ret\n",
    "#Explanatory: Others\n",
    "df_sample = df_merged[[\n",
    "    'F12.ann_ret', 'krw_usd_real_xr',\n",
    "    'ca_gdp_korea', 'ca_gdp_us',\n",
    "    'gdp_growth_korea', 'gdp_growth_us',\n",
    "    'infl_diff_kr_us', 'int_rate_diff_kr_us',\n",
    "    'reserves_to_gdp', 'reserves_growth',\n",
    "    '10y-3m spread_diff'\n",
    "]]"
   ]
  },
  {
   "cell_type": "code",
   "execution_count": 72,
   "id": "8b0a05ef-bdaa-48a8-9c8c-87a0dd013b07",
   "metadata": {
    "scrolled": true
   },
   "outputs": [
    {
     "data": {
      "text/html": [
       "<div>\n",
       "<style scoped>\n",
       "    .dataframe tbody tr th:only-of-type {\n",
       "        vertical-align: middle;\n",
       "    }\n",
       "\n",
       "    .dataframe tbody tr th {\n",
       "        vertical-align: top;\n",
       "    }\n",
       "\n",
       "    .dataframe thead th {\n",
       "        text-align: right;\n",
       "    }\n",
       "</style>\n",
       "<table border=\"1\" class=\"dataframe\">\n",
       "  <thead>\n",
       "    <tr style=\"text-align: right;\">\n",
       "      <th></th>\n",
       "      <th>F12.ann_ret</th>\n",
       "      <th>krw_usd_real_xr</th>\n",
       "      <th>ca_gdp_korea</th>\n",
       "      <th>ca_gdp_us</th>\n",
       "      <th>gdp_growth_korea</th>\n",
       "      <th>gdp_growth_us</th>\n",
       "      <th>infl_diff_kr_us</th>\n",
       "      <th>int_rate_diff_kr_us</th>\n",
       "      <th>reserves_to_gdp</th>\n",
       "      <th>reserves_growth</th>\n",
       "      <th>10y-3m spread_diff</th>\n",
       "    </tr>\n",
       "  </thead>\n",
       "  <tbody>\n",
       "    <tr>\n",
       "      <th>2023-06-30</th>\n",
       "      <td>5.819622</td>\n",
       "      <td>0.617330</td>\n",
       "      <td>0.149446</td>\n",
       "      <td>-3.597557</td>\n",
       "      <td>0.929</td>\n",
       "      <td>2.361</td>\n",
       "      <td>-0.235749</td>\n",
       "      <td>-1.47</td>\n",
       "      <td>25.177715</td>\n",
       "      <td>-3.838753</td>\n",
       "      <td>0.26</td>\n",
       "    </tr>\n",
       "    <tr>\n",
       "      <th>2023-07-31</th>\n",
       "      <td>8.171875</td>\n",
       "      <td>0.633149</td>\n",
       "      <td>0.149446</td>\n",
       "      <td>-3.597557</td>\n",
       "      <td>0.929</td>\n",
       "      <td>2.361</td>\n",
       "      <td>-0.820120</td>\n",
       "      <td>-1.60</td>\n",
       "      <td>25.198617</td>\n",
       "      <td>-3.830678</td>\n",
       "      <td>0.04</td>\n",
       "    </tr>\n",
       "    <tr>\n",
       "      <th>2023-08-31</th>\n",
       "      <td>3.503860</td>\n",
       "      <td>0.613312</td>\n",
       "      <td>0.149446</td>\n",
       "      <td>-3.597557</td>\n",
       "      <td>0.929</td>\n",
       "      <td>2.361</td>\n",
       "      <td>-0.311286</td>\n",
       "      <td>-1.74</td>\n",
       "      <td>24.989364</td>\n",
       "      <td>-4.154381</td>\n",
       "      <td>0.11</td>\n",
       "    </tr>\n",
       "    <tr>\n",
       "      <th>2023-09-30</th>\n",
       "      <td>NaN</td>\n",
       "      <td>0.602640</td>\n",
       "      <td>1.104655</td>\n",
       "      <td>-3.524772</td>\n",
       "      <td>1.292</td>\n",
       "      <td>2.896</td>\n",
       "      <td>0.003437</td>\n",
       "      <td>-1.73</td>\n",
       "      <td>24.739455</td>\n",
       "      <td>-0.635568</td>\n",
       "      <td>0.51</td>\n",
       "    </tr>\n",
       "    <tr>\n",
       "      <th>2023-10-31</th>\n",
       "      <td>NaN</td>\n",
       "      <td>0.599077</td>\n",
       "      <td>1.104655</td>\n",
       "      <td>-3.524772</td>\n",
       "      <td>1.292</td>\n",
       "      <td>2.896</td>\n",
       "      <td>0.525034</td>\n",
       "      <td>-1.64</td>\n",
       "      <td>24.665127</td>\n",
       "      <td>-0.273444</td>\n",
       "      <td>0.25</td>\n",
       "    </tr>\n",
       "    <tr>\n",
       "      <th>2023-11-30</th>\n",
       "      <td>NaN</td>\n",
       "      <td>0.628728</td>\n",
       "      <td>1.104655</td>\n",
       "      <td>-3.524772</td>\n",
       "      <td>1.292</td>\n",
       "      <td>2.896</td>\n",
       "      <td>0.175262</td>\n",
       "      <td>-1.58</td>\n",
       "      <td>24.916410</td>\n",
       "      <td>0.234314</td>\n",
       "      <td>-0.37</td>\n",
       "    </tr>\n",
       "    <tr>\n",
       "      <th>2023-12-31</th>\n",
       "      <td>NaN</td>\n",
       "      <td>0.620714</td>\n",
       "      <td>2.071949</td>\n",
       "      <td>-3.310582</td>\n",
       "      <td>2.199</td>\n",
       "      <td>3.099</td>\n",
       "      <td>-0.172366</td>\n",
       "      <td>-1.49</td>\n",
       "      <td>24.529989</td>\n",
       "      <td>-0.712669</td>\n",
       "      <td>-0.44</td>\n",
       "    </tr>\n",
       "    <tr>\n",
       "      <th>2024-01-31</th>\n",
       "      <td>NaN</td>\n",
       "      <td>0.601494</td>\n",
       "      <td>2.071949</td>\n",
       "      <td>-3.310582</td>\n",
       "      <td>2.199</td>\n",
       "      <td>3.099</td>\n",
       "      <td>-0.273367</td>\n",
       "      <td>-1.52</td>\n",
       "      <td>24.273732</td>\n",
       "      <td>-3.304646</td>\n",
       "      <td>0.09</td>\n",
       "    </tr>\n",
       "    <tr>\n",
       "      <th>2024-02-29</th>\n",
       "      <td>NaN</td>\n",
       "      <td>0.599961</td>\n",
       "      <td>2.071949</td>\n",
       "      <td>-3.310582</td>\n",
       "      <td>2.199</td>\n",
       "      <td>3.099</td>\n",
       "      <td>-0.036804</td>\n",
       "      <td>-1.53</td>\n",
       "      <td>24.272549</td>\n",
       "      <td>-2.244997</td>\n",
       "      <td>0.23</td>\n",
       "    </tr>\n",
       "    <tr>\n",
       "      <th>2024-03-31</th>\n",
       "      <td>NaN</td>\n",
       "      <td>0.594259</td>\n",
       "      <td>3.402846</td>\n",
       "      <td>-3.339714</td>\n",
       "      <td>3.059</td>\n",
       "      <td>2.894</td>\n",
       "      <td>-0.379624</td>\n",
       "      <td>-1.64</td>\n",
       "      <td>24.477643</td>\n",
       "      <td>-1.600210</td>\n",
       "      <td>-0.06</td>\n",
       "    </tr>\n",
       "    <tr>\n",
       "      <th>2024-04-30</th>\n",
       "      <td>NaN</td>\n",
       "      <td>0.580509</td>\n",
       "      <td>3.402846</td>\n",
       "      <td>-3.339714</td>\n",
       "      <td>3.059</td>\n",
       "      <td>2.894</td>\n",
       "      <td>-0.432838</td>\n",
       "      <td>-1.76</td>\n",
       "      <td>24.127852</td>\n",
       "      <td>-3.146008</td>\n",
       "      <td>0.49</td>\n",
       "    </tr>\n",
       "    <tr>\n",
       "      <th>2024-05-31</th>\n",
       "      <td>NaN</td>\n",
       "      <td>0.581437</td>\n",
       "      <td>3.402846</td>\n",
       "      <td>-3.339714</td>\n",
       "      <td>3.059</td>\n",
       "      <td>2.894</td>\n",
       "      <td>-0.595807</td>\n",
       "      <td>-1.73</td>\n",
       "      <td>24.102860</td>\n",
       "      <td>-1.936252</td>\n",
       "      <td>-0.18</td>\n",
       "    </tr>\n",
       "    <tr>\n",
       "      <th>2024-06-30</th>\n",
       "      <td>NaN</td>\n",
       "      <td>0.576122</td>\n",
       "      <td>3.402846</td>\n",
       "      <td>-3.339714</td>\n",
       "      <td>2.290</td>\n",
       "      <td>3.086</td>\n",
       "      <td>-0.564425</td>\n",
       "      <td>-1.68</td>\n",
       "      <td>24.066572</td>\n",
       "      <td>-2.193212</td>\n",
       "      <td>-0.17</td>\n",
       "    </tr>\n",
       "    <tr>\n",
       "      <th>2024-07-31</th>\n",
       "      <td>NaN</td>\n",
       "      <td>0.578036</td>\n",
       "      <td>3.402846</td>\n",
       "      <td>-3.339714</td>\n",
       "      <td>2.290</td>\n",
       "      <td>3.086</td>\n",
       "      <td>-0.485322</td>\n",
       "      <td>-1.68</td>\n",
       "      <td>24.142246</td>\n",
       "      <td>-1.967058</td>\n",
       "      <td>-0.20</td>\n",
       "    </tr>\n",
       "    <tr>\n",
       "      <th>2024-08-31</th>\n",
       "      <td>NaN</td>\n",
       "      <td>0.585178</td>\n",
       "      <td>3.402846</td>\n",
       "      <td>-3.339714</td>\n",
       "      <td>2.290</td>\n",
       "      <td>3.086</td>\n",
       "      <td>-0.937131</td>\n",
       "      <td>-1.68</td>\n",
       "      <td>24.142246</td>\n",
       "      <td>-1.146162</td>\n",
       "      <td>-0.11</td>\n",
       "    </tr>\n",
       "  </tbody>\n",
       "</table>\n",
       "</div>"
      ],
      "text/plain": [
       "            F12.ann_ret  krw_usd_real_xr  ca_gdp_korea  ca_gdp_us  \\\n",
       "2023-06-30     5.819622         0.617330      0.149446  -3.597557   \n",
       "2023-07-31     8.171875         0.633149      0.149446  -3.597557   \n",
       "2023-08-31     3.503860         0.613312      0.149446  -3.597557   \n",
       "2023-09-30          NaN         0.602640      1.104655  -3.524772   \n",
       "2023-10-31          NaN         0.599077      1.104655  -3.524772   \n",
       "2023-11-30          NaN         0.628728      1.104655  -3.524772   \n",
       "2023-12-31          NaN         0.620714      2.071949  -3.310582   \n",
       "2024-01-31          NaN         0.601494      2.071949  -3.310582   \n",
       "2024-02-29          NaN         0.599961      2.071949  -3.310582   \n",
       "2024-03-31          NaN         0.594259      3.402846  -3.339714   \n",
       "2024-04-30          NaN         0.580509      3.402846  -3.339714   \n",
       "2024-05-31          NaN         0.581437      3.402846  -3.339714   \n",
       "2024-06-30          NaN         0.576122      3.402846  -3.339714   \n",
       "2024-07-31          NaN         0.578036      3.402846  -3.339714   \n",
       "2024-08-31          NaN         0.585178      3.402846  -3.339714   \n",
       "\n",
       "            gdp_growth_korea  gdp_growth_us  infl_diff_kr_us  \\\n",
       "2023-06-30             0.929          2.361        -0.235749   \n",
       "2023-07-31             0.929          2.361        -0.820120   \n",
       "2023-08-31             0.929          2.361        -0.311286   \n",
       "2023-09-30             1.292          2.896         0.003437   \n",
       "2023-10-31             1.292          2.896         0.525034   \n",
       "2023-11-30             1.292          2.896         0.175262   \n",
       "2023-12-31             2.199          3.099        -0.172366   \n",
       "2024-01-31             2.199          3.099        -0.273367   \n",
       "2024-02-29             2.199          3.099        -0.036804   \n",
       "2024-03-31             3.059          2.894        -0.379624   \n",
       "2024-04-30             3.059          2.894        -0.432838   \n",
       "2024-05-31             3.059          2.894        -0.595807   \n",
       "2024-06-30             2.290          3.086        -0.564425   \n",
       "2024-07-31             2.290          3.086        -0.485322   \n",
       "2024-08-31             2.290          3.086        -0.937131   \n",
       "\n",
       "            int_rate_diff_kr_us  reserves_to_gdp  reserves_growth  \\\n",
       "2023-06-30                -1.47        25.177715        -3.838753   \n",
       "2023-07-31                -1.60        25.198617        -3.830678   \n",
       "2023-08-31                -1.74        24.989364        -4.154381   \n",
       "2023-09-30                -1.73        24.739455        -0.635568   \n",
       "2023-10-31                -1.64        24.665127        -0.273444   \n",
       "2023-11-30                -1.58        24.916410         0.234314   \n",
       "2023-12-31                -1.49        24.529989        -0.712669   \n",
       "2024-01-31                -1.52        24.273732        -3.304646   \n",
       "2024-02-29                -1.53        24.272549        -2.244997   \n",
       "2024-03-31                -1.64        24.477643        -1.600210   \n",
       "2024-04-30                -1.76        24.127852        -3.146008   \n",
       "2024-05-31                -1.73        24.102860        -1.936252   \n",
       "2024-06-30                -1.68        24.066572        -2.193212   \n",
       "2024-07-31                -1.68        24.142246        -1.967058   \n",
       "2024-08-31                -1.68        24.142246        -1.146162   \n",
       "\n",
       "            10y-3m spread_diff  \n",
       "2023-06-30                0.26  \n",
       "2023-07-31                0.04  \n",
       "2023-08-31                0.11  \n",
       "2023-09-30                0.51  \n",
       "2023-10-31                0.25  \n",
       "2023-11-30               -0.37  \n",
       "2023-12-31               -0.44  \n",
       "2024-01-31                0.09  \n",
       "2024-02-29                0.23  \n",
       "2024-03-31               -0.06  \n",
       "2024-04-30                0.49  \n",
       "2024-05-31               -0.18  \n",
       "2024-06-30               -0.17  \n",
       "2024-07-31               -0.20  \n",
       "2024-08-31               -0.11  "
      ]
     },
     "execution_count": 72,
     "metadata": {},
     "output_type": "execute_result"
    }
   ],
   "source": [
    "df_sample.tail(15)"
   ]
  },
  {
   "cell_type": "markdown",
   "id": "22da5e69-b9de-425d-a0b8-4d7d90794cfe",
   "metadata": {},
   "source": [
    "## 2. Correlation Matrix for Explanatory Variables"
   ]
  },
  {
   "cell_type": "code",
   "execution_count": 73,
   "id": "43ef8a45-bccf-46ee-bd1b-2ec1bc0d9db0",
   "metadata": {},
   "outputs": [],
   "source": [
    "import seaborn as sns\n",
    "import numpy as np"
   ]
  },
  {
   "cell_type": "code",
   "execution_count": 74,
   "id": "7b896485-73f5-4677-b350-de798029f074",
   "metadata": {},
   "outputs": [],
   "source": [
    "#correlation matrix\n",
    "corr = df_sample.corr()"
   ]
  },
  {
   "cell_type": "code",
   "execution_count": 75,
   "id": "b4e0b35b-0e8c-4a4c-aa3b-1c24b0b08092",
   "metadata": {},
   "outputs": [],
   "source": [
    "#upper triangle matrix with elements of '1's\n",
    "mask = np.triu(np.ones_like((corr)))"
   ]
  },
  {
   "cell_type": "code",
   "execution_count": 76,
   "id": "f7aa9fda-5cad-44bb-abbd-fadbcf9d8ac9",
   "metadata": {},
   "outputs": [],
   "source": [
    "#color map to designate warmer colors to higher values\n",
    "cmap = sns.diverging_palette(230, 20, as_cmap=True)"
   ]
  },
  {
   "cell_type": "code",
   "execution_count": 77,
   "id": "a97cbbca-014c-4c41-b5ad-833f1ab55f68",
   "metadata": {},
   "outputs": [
    {
     "data": {
      "text/plain": [
       "<Axes: >"
      ]
     },
     "execution_count": 77,
     "metadata": {},
     "output_type": "execute_result"
    },
    {
     "data": {
      "image/png": "[encoded data removed]",
      "text/plain": [
       "<Figure size 1000x400 with 2 Axes>"
      ]
     },
     "metadata": {},
     "output_type": "display_data"
    }
   ],
   "source": [
    "#vmax and vmin are set to -1 and 1 to reflect the characteristic of correlation\n",
    "sns.heatmap(corr, cmap = cmap, mask = mask, vmin = -1, vmax = 1)"
   ]
  },
  {
   "cell_type": "markdown",
   "id": "4a3cca7b-6552-4c96-8a4a-d9d76424de1a",
   "metadata": {},
   "source": [
    "> Possible severe multicollinearity between **relative inflation** *(infl_diff_kr_us)* and **interest rate difference** *(int_rate_diff_kr_us)* is observed.\n",
    ">\n",
    "> This result is actually no surprising given that Fisher Relation suggests the two converge."
   ]
  },
  {
   "cell_type": "markdown",
   "id": "9cc53bf2-9967-46a6-afdb-b36ac17dcc2d",
   "metadata": {},
   "source": [
    "## 3. OLS Regression with Overlapped Data"
   ]
  },
  {
   "cell_type": "code",
   "execution_count": 78,
   "id": "3d03cc49-d6ea-489e-89d1-9b269725b954",
   "metadata": {},
   "outputs": [],
   "source": [
    "import statsmodels.api as sm"
   ]
  },
  {
   "cell_type": "code",
   "execution_count": 79,
   "id": "41546dc0-1c2e-4ff5-9968-084361b3e954",
   "metadata": {},
   "outputs": [],
   "source": [
    "#drop Null\n",
    "df_sample = df_sample.dropna()"
   ]
  },
  {
   "cell_type": "code",
   "execution_count": 80,
   "id": "f0a19a17-e777-41f1-ab1d-053bcc3a6208",
   "metadata": {},
   "outputs": [],
   "source": [
    "#after the IMF crisis\n",
    "df_sample = df_sample.loc['1998-12-31':]"
   ]
  },
  {
   "cell_type": "markdown",
   "id": "1bac12be-5859-44b4-ae01-f6841121b093",
   "metadata": {},
   "source": [
    "> Again, as explained in \"**Introduction**\", we are cropping off data from period before 1999. During those times, South Korea had completely different exchange rate regimes in place, exchange rates from the era shows fundamentally different patterns than those of exchange rates these days.  "
   ]
  },
  {
   "cell_type": "markdown",
   "id": "ec63463d-4fee-47ba-9032-554071c3db5f",
   "metadata": {},
   "source": [
    "#### **Variable Selection (AIC, BIC, Adjusted R-squared)**"
   ]
  },
  {
   "cell_type": "markdown",
   "id": "7ae79a7d-0f2c-4f5d-b45b-1a71c6257c52",
   "metadata": {},
   "source": [
    "Among the variables we chose based on theories, we are going to select the right set of variables that maximizes the explanatory power of the model. The problem is the commonly used indicator for explanatory power, R-squared, monotonistically increases when more variables are added even when those variables have no actual value in terms of additional information and conversely, increase the risk of overfitting. Statisticians use alternative metrics to consider both the positive and negative impacts of adding a new variable to the model.   "
   ]
  },
  {
   "cell_type": "markdown",
   "id": "47c76e59-2587-43dc-9106-2a2969287e9a",
   "metadata": {},
   "source": [
    "* AIC : Akaike information criterion\n",
    "* BIC : Bayesian information criterion (also knwoan as SIC, Schwarz information criterion)\n",
    "* Adjusted R-squared"
   ]
  },
  {
   "cell_type": "markdown",
   "id": "93b9f4d2-886d-492c-8689-e9591cb20d64",
   "metadata": {},
   "source": [
    "$$\n",
    "\\begin{align}\n",
    "\\text{AIC} &= 2k - 2 \\ln \\left( \\hat{L} \\right) \\\\\n",
    "\\text{BIC} &= k \\ln (n) - 2 \\ln \\left( \\hat{L} \\right) \\\\\n",
    "\\text{Adjusted } R^2 &= 1 - \\left( \\frac{(1 - R^2)(n - 1)}{n - k - 1} \\right)\n",
    "\\end{align}\n",
    "$$\n",
    "\n",
    "where\n",
    "* $k$ : number of parameters\n",
    "* $n$ : number of observations\n",
    "* $\\hat{L}$ : likelihood\n"
   ]
  },
  {
   "cell_type": "markdown",
   "id": "488f1ff2-da21-475a-9c8a-da43c1b798ec",
   "metadata": {},
   "source": [
    "> From the formula for each score, you can easily see that AIC and BIC are penalty score (meaing, the lower the better), and Adj R-squared is a reward score (meaning, the higher the better). In this section, we are using AIC because it is most commonly used for selecting variables. Using BIC or Adj R-squared would lead to similar results."
   ]
  },
  {
   "cell_type": "code",
   "execution_count": 81,
   "id": "50c358df-80b4-4225-82cd-c00a8f84d057",
   "metadata": {},
   "outputs": [],
   "source": [
    "Y = df_sample['F12.ann_ret']"
   ]
  },
  {
   "cell_type": "code",
   "execution_count": 82,
   "id": "fa40d2e7-6c32-4aeb-8875-dbfeff265e33",
   "metadata": {},
   "outputs": [],
   "source": [
    "#first column is the target variable\n",
    "X = df_sample.iloc[:, 1:]\n",
    "X = sm.add_constant(X)"
   ]
  },
  {
   "cell_type": "code",
   "execution_count": 133,
   "id": "ddaa26c4-edac-473f-92d3-c64ba4ef30d7",
   "metadata": {},
   "outputs": [
    {
     "data": {
      "text/html": [
       "<table class=\"simpletable\">\n",
       "<caption>OLS Regression Results</caption>\n",
       "<tr>\n",
       "  <th>Dep. Variable:</th>       <td>F12.ann_ret</td>   <th>  R-squared:         </th> <td>   0.309</td>\n",
       "</tr>\n",
       "<tr>\n",
       "  <th>Model:</th>                   <td>OLS</td>       <th>  Adj. R-squared:    </th> <td>   0.285</td>\n",
       "</tr>\n",
       "<tr>\n",
       "  <th>Method:</th>             <td>Least Squares</td>  <th>  F-statistic:       </th> <td>   12.73</td>\n",
       "</tr>\n",
       "<tr>\n",
       "  <th>Date:</th>             <td>Tue, 13 Aug 2024</td> <th>  Prob (F-statistic):</th> <td>2.47e-18</td>\n",
       "</tr>\n",
       "<tr>\n",
       "  <th>Time:</th>                 <td>18:22:18</td>     <th>  Log-Likelihood:    </th> <td> -1069.2</td>\n",
       "</tr>\n",
       "<tr>\n",
       "  <th>No. Observations:</th>      <td>   296</td>      <th>  AIC:               </th> <td>   2160.</td>\n",
       "</tr>\n",
       "<tr>\n",
       "  <th>Df Residuals:</th>          <td>   285</td>      <th>  BIC:               </th> <td>   2201.</td>\n",
       "</tr>\n",
       "<tr>\n",
       "  <th>Df Model:</th>              <td>    10</td>      <th>                     </th>     <td> </td>   \n",
       "</tr>\n",
       "<tr>\n",
       "  <th>Covariance Type:</th>      <td>nonrobust</td>    <th>                     </th>     <td> </td>   \n",
       "</tr>\n",
       "</table>\n",
       "<table class=\"simpletable\">\n",
       "<tr>\n",
       "           <td></td>              <th>coef</th>     <th>std err</th>      <th>t</th>      <th>P>|t|</th>  <th>[0.025</th>    <th>0.975]</th>  \n",
       "</tr>\n",
       "<tr>\n",
       "  <th>const</th>               <td>  -27.2813</td> <td>    6.436</td> <td>   -4.239</td> <td> 0.000</td> <td>  -39.949</td> <td>  -14.614</td>\n",
       "</tr>\n",
       "<tr>\n",
       "  <th>krw_usd_real_xr</th>     <td>   67.6105</td> <td>    9.061</td> <td>    7.462</td> <td> 0.000</td> <td>   49.775</td> <td>   85.446</td>\n",
       "</tr>\n",
       "<tr>\n",
       "  <th>ca_gdp_korea</th>        <td>   -1.1144</td> <td>    0.385</td> <td>   -2.897</td> <td> 0.004</td> <td>   -1.872</td> <td>   -0.357</td>\n",
       "</tr>\n",
       "<tr>\n",
       "  <th>ca_gdp_us</th>           <td>    0.8389</td> <td>    0.648</td> <td>    1.295</td> <td> 0.196</td> <td>   -0.436</td> <td>    2.114</td>\n",
       "</tr>\n",
       "<tr>\n",
       "  <th>gdp_growth_korea</th>    <td>    0.6122</td> <td>    0.263</td> <td>    2.324</td> <td> 0.021</td> <td>    0.094</td> <td>    1.131</td>\n",
       "</tr>\n",
       "<tr>\n",
       "  <th>gdp_growth_us</th>       <td>   -0.1583</td> <td>    0.364</td> <td>   -0.434</td> <td> 0.664</td> <td>   -0.876</td> <td>    0.559</td>\n",
       "</tr>\n",
       "<tr>\n",
       "  <th>infl_diff_kr_us</th>     <td>   -2.5301</td> <td>    0.536</td> <td>   -4.719</td> <td> 0.000</td> <td>   -3.586</td> <td>   -1.475</td>\n",
       "</tr>\n",
       "<tr>\n",
       "  <th>int_rate_diff_kr_us</th> <td>    0.4644</td> <td>    0.520</td> <td>    0.894</td> <td> 0.372</td> <td>   -0.558</td> <td>    1.487</td>\n",
       "</tr>\n",
       "<tr>\n",
       "  <th>reserves_to_gdp</th>     <td>   -0.6853</td> <td>    0.228</td> <td>   -3.002</td> <td> 0.003</td> <td>   -1.135</td> <td>   -0.236</td>\n",
       "</tr>\n",
       "<tr>\n",
       "  <th>reserves_growth</th>     <td>   -0.0493</td> <td>    0.042</td> <td>   -1.180</td> <td> 0.239</td> <td>   -0.131</td> <td>    0.033</td>\n",
       "</tr>\n",
       "<tr>\n",
       "  <th>10y-3m spread_diff</th>  <td>    3.2808</td> <td>    1.842</td> <td>    1.781</td> <td> 0.076</td> <td>   -0.344</td> <td>    6.906</td>\n",
       "</tr>\n",
       "</table>\n",
       "<table class=\"simpletable\">\n",
       "<tr>\n",
       "  <th>Omnibus:</th>       <td>113.667</td> <th>  Durbin-Watson:     </th> <td>   0.257</td> \n",
       "</tr>\n",
       "<tr>\n",
       "  <th>Prob(Omnibus):</th> <td> 0.000</td>  <th>  Jarque-Bera (JB):  </th> <td> 505.055</td> \n",
       "</tr>\n",
       "<tr>\n",
       "  <th>Skew:</th>          <td> 1.561</td>  <th>  Prob(JB):          </th> <td>2.13e-110</td>\n",
       "</tr>\n",
       "<tr>\n",
       "  <th>Kurtosis:</th>      <td> 8.586</td>  <th>  Cond. No.          </th> <td>    519.</td> \n",
       "</tr>\n",
       "</table><br/><br/>Notes:<br/>[1] Standard Errors assume that the covariance matrix of the errors is correctly specified."
      ],
      "text/latex": [
       "\\begin{center}\n",
       "\\begin{tabular}{lclc}\n",
       "\\toprule\n",
       "\\textbf{Dep. Variable:}          &   F12.ann\\_ret   & \\textbf{  R-squared:         } &     0.309   \\\\\n",
       "\\textbf{Model:}                  &       OLS        & \\textbf{  Adj. R-squared:    } &     0.285   \\\\\n",
       "\\textbf{Method:}                 &  Least Squares   & \\textbf{  F-statistic:       } &     12.73   \\\\\n",
       "\\textbf{Date:}                   & Tue, 13 Aug 2024 & \\textbf{  Prob (F-statistic):} &  2.47e-18   \\\\\n",
       "\\textbf{Time:}                   &     18:22:18     & \\textbf{  Log-Likelihood:    } &   -1069.2   \\\\\n",
       "\\textbf{No. Observations:}       &         296      & \\textbf{  AIC:               } &     2160.   \\\\\n",
       "\\textbf{Df Residuals:}           &         285      & \\textbf{  BIC:               } &     2201.   \\\\\n",
       "\\textbf{Df Model:}               &          10      & \\textbf{                     } &             \\\\\n",
       "\\textbf{Covariance Type:}        &    nonrobust     & \\textbf{                     } &             \\\\\n",
       "\\bottomrule\n",
       "\\end{tabular}\n",
       "\\begin{tabular}{lcccccc}\n",
       "                                 & \\textbf{coef} & \\textbf{std err} & \\textbf{t} & \\textbf{P$> |$t$|$} & \\textbf{[0.025} & \\textbf{0.975]}  \\\\\n",
       "\\midrule\n",
       "\\textbf{const}                   &     -27.2813  &        6.436     &    -4.239  &         0.000        &      -39.949    &      -14.614     \\\\\n",
       "\\textbf{krw\\_usd\\_real\\_xr}      &      67.6105  &        9.061     &     7.462  &         0.000        &       49.775    &       85.446     \\\\\n",
       "\\textbf{ca\\_gdp\\_korea}          &      -1.1144  &        0.385     &    -2.897  &         0.004        &       -1.872    &       -0.357     \\\\\n",
       "\\textbf{ca\\_gdp\\_us}             &       0.8389  &        0.648     &     1.295  &         0.196        &       -0.436    &        2.114     \\\\\n",
       "\\textbf{gdp\\_growth\\_korea}      &       0.6122  &        0.263     &     2.324  &         0.021        &        0.094    &        1.131     \\\\\n",
       "\\textbf{gdp\\_growth\\_us}         &      -0.1583  &        0.364     &    -0.434  &         0.664        &       -0.876    &        0.559     \\\\\n",
       "\\textbf{infl\\_diff\\_kr\\_us}      &      -2.5301  &        0.536     &    -4.719  &         0.000        &       -3.586    &       -1.475     \\\\\n",
       "\\textbf{int\\_rate\\_diff\\_kr\\_us} &       0.4644  &        0.520     &     0.894  &         0.372        &       -0.558    &        1.487     \\\\\n",
       "\\textbf{reserves\\_to\\_gdp}       &      -0.6853  &        0.228     &    -3.002  &         0.003        &       -1.135    &       -0.236     \\\\\n",
       "\\textbf{reserves\\_growth}        &      -0.0493  &        0.042     &    -1.180  &         0.239        &       -0.131    &        0.033     \\\\\n",
       "\\textbf{10y-3m spread\\_diff}     &       3.2808  &        1.842     &     1.781  &         0.076        &       -0.344    &        6.906     \\\\\n",
       "\\bottomrule\n",
       "\\end{tabular}\n",
       "\\begin{tabular}{lclc}\n",
       "\\textbf{Omnibus:}       & 113.667 & \\textbf{  Durbin-Watson:     } &     0.257  \\\\\n",
       "\\textbf{Prob(Omnibus):} &   0.000 & \\textbf{  Jarque-Bera (JB):  } &   505.055  \\\\\n",
       "\\textbf{Skew:}          &   1.561 & \\textbf{  Prob(JB):          } & 2.13e-110  \\\\\n",
       "\\textbf{Kurtosis:}      &   8.586 & \\textbf{  Cond. No.          } &      519.  \\\\\n",
       "\\bottomrule\n",
       "\\end{tabular}\n",
       "%\\caption{OLS Regression Results}\n",
       "\\end{center}\n",
       "\n",
       "Notes: \\newline\n",
       " [1] Standard Errors assume that the covariance matrix of the errors is correctly specified."
      ],
      "text/plain": [
       "<class 'statsmodels.iolib.summary.Summary'>\n",
       "\"\"\"\n",
       "                            OLS Regression Results                            \n",
       "==============================================================================\n",
       "Dep. Variable:            F12.ann_ret   R-squared:                       0.309\n",
       "Model:                            OLS   Adj. R-squared:                  0.285\n",
       "Method:                 Least Squares   F-statistic:                     12.73\n",
       "Date:                Tue, 13 Aug 2024   Prob (F-statistic):           2.47e-18\n",
       "Time:                        18:22:18   Log-Likelihood:                -1069.2\n",
       "No. Observations:                 296   AIC:                             2160.\n",
       "Df Residuals:                     285   BIC:                             2201.\n",
       "Df Model:                          10                                         \n",
       "Covariance Type:            nonrobust                                         \n",
       "=======================================================================================\n",
       "                          coef    std err          t      P>|t|      [0.025      0.975]\n",
       "---------------------------------------------------------------------------------------\n",
       "const                 -27.2813      6.436     -4.239      0.000     -39.949     -14.614\n",
       "krw_usd_real_xr        67.6105      9.061      7.462      0.000      49.775      85.446\n",
       "ca_gdp_korea           -1.1144      0.385     -2.897      0.004      -1.872      -0.357\n",
       "ca_gdp_us               0.8389      0.648      1.295      0.196      -0.436       2.114\n",
       "gdp_growth_korea        0.6122      0.263      2.324      0.021       0.094       1.131\n",
       "gdp_growth_us          -0.1583      0.364     -0.434      0.664      -0.876       0.559\n",
       "infl_diff_kr_us        -2.5301      0.536     -4.719      0.000      -3.586      -1.475\n",
       "int_rate_diff_kr_us     0.4644      0.520      0.894      0.372      -0.558       1.487\n",
       "reserves_to_gdp        -0.6853      0.228     -3.002      0.003      -1.135      -0.236\n",
       "reserves_growth        -0.0493      0.042     -1.180      0.239      -0.131       0.033\n",
       "10y-3m spread_diff      3.2808      1.842      1.781      0.076      -0.344       6.906\n",
       "==============================================================================\n",
       "Omnibus:                      113.667   Durbin-Watson:                   0.257\n",
       "Prob(Omnibus):                  0.000   Jarque-Bera (JB):              505.055\n",
       "Skew:                           1.561   Prob(JB):                    2.13e-110\n",
       "Kurtosis:                       8.586   Cond. No.                         519.\n",
       "==============================================================================\n",
       "\n",
       "Notes:\n",
       "[1] Standard Errors assume that the covariance matrix of the errors is correctly specified.\n",
       "\"\"\""
      ]
     },
     "execution_count": 133,
     "metadata": {},
     "output_type": "execute_result"
    }
   ],
   "source": [
    "#train the model with all candidate variables\n",
    "model = sm.OLS(Y, X)\n",
    "results = model.fit()\n",
    "#results.summary()"
   ]
  },
  {
   "cell_type": "code",
   "execution_count": 84,
   "id": "d032b67d-8b57-4f30-95f0-a85f34231806",
   "metadata": {},
   "outputs": [
    {
     "data": {
      "text/plain": [
       "2160.3389178682555"
      ]
     },
     "execution_count": 84,
     "metadata": {},
     "output_type": "execute_result"
    }
   ],
   "source": [
    "#current AIC\n",
    "#can we get it lower?\n",
    "min_aic = results.aic\n",
    "min_aic"
   ]
  },
  {
   "cell_type": "code",
   "execution_count": 85,
   "id": "aaca5ddd-753b-4447-8aea-2fcef838c7ed",
   "metadata": {},
   "outputs": [],
   "source": [
    "selected = X.columns.tolist()"
   ]
  },
  {
   "cell_type": "code",
   "execution_count": 86,
   "id": "874320b9-7f98-4154-bd46-85084d61342a",
   "metadata": {},
   "outputs": [
    {
     "data": {
      "text/plain": [
       "['const',\n",
       " 'krw_usd_real_xr',\n",
       " 'ca_gdp_korea',\n",
       " 'ca_gdp_us',\n",
       " 'gdp_growth_korea',\n",
       " 'gdp_growth_us',\n",
       " 'infl_diff_kr_us',\n",
       " 'int_rate_diff_kr_us',\n",
       " 'reserves_to_gdp',\n",
       " 'reserves_growth',\n",
       " '10y-3m spread_diff']"
      ]
     },
     "execution_count": 86,
     "metadata": {},
     "output_type": "execute_result"
    }
   ],
   "source": [
    "selected"
   ]
  },
  {
   "cell_type": "code",
   "execution_count": 87,
   "id": "d2dc47a9-e439-4769-853a-85c632e28419",
   "metadata": {},
   "outputs": [],
   "source": [
    "#input(res): the fitted result of model\n",
    "def find_largest_pvalue_index(res):\n",
    "\n",
    "    #p-values of variables (except p-value of constant)\n",
    "    max_pvalue = max(res.pvalues[1:])\n",
    "\n",
    "    #get the index of the variable with the largest p-value\n",
    "    max_pvalue_idx = res.pvalues.tolist().index(max_pvalue)\n",
    "\n",
    "    #output: the index of the explanatory variable with the largest p-value\n",
    "    return max_pvalue_idx"
   ]
  },
  {
   "cell_type": "code",
   "execution_count": 88,
   "id": "ebdb5572-2ead-4db6-ac7e-d8481892c62c",
   "metadata": {},
   "outputs": [
    {
     "name": "stdout",
     "output_type": "stream",
     "text": [
      "** Loop 0 **\n",
      "Drop:  gdp_growth_us\n",
      "Remaining:  ['const', 'krw_usd_real_xr', 'ca_gdp_korea', 'ca_gdp_us', 'gdp_growth_korea', 'infl_diff_kr_us', 'int_rate_diff_kr_us', 'reserves_to_gdp', 'reserves_growth', '10y-3m spread_diff']\n",
      "AIC: 2158.53\n",
      "** Loop 1 **\n",
      "Drop:  int_rate_diff_kr_us\n",
      "Remaining:  ['const', 'krw_usd_real_xr', 'ca_gdp_korea', 'ca_gdp_us', 'gdp_growth_korea', 'infl_diff_kr_us', 'reserves_to_gdp', 'reserves_growth', '10y-3m spread_diff']\n",
      "AIC: 2157.33\n",
      "** Loop 2 **\n",
      "Drop:  reserves_growth\n",
      "Remaining:  ['const', 'krw_usd_real_xr', 'ca_gdp_korea', 'ca_gdp_us', 'gdp_growth_korea', 'infl_diff_kr_us', 'reserves_to_gdp', '10y-3m spread_diff']\n",
      "AIC: 2156.51\n",
      "** Loop 3 **\n",
      "Drop:  10y-3m spread_diff\n",
      "Remaining:  ['const', 'krw_usd_real_xr', 'ca_gdp_korea', 'ca_gdp_us', 'gdp_growth_korea', 'infl_diff_kr_us', 'reserves_to_gdp']\n",
      "AIC: 2158.05\n"
     ]
    }
   ],
   "source": [
    "#for loop to find the set of variables resulting in the lowest AIC\n",
    "for i in range(len(selected)):\n",
    "    print(f'** Loop {i} **')\n",
    "\n",
    "    #find the index of the variable with the greatest p-value\n",
    "    idx = find_largest_pvalue_index(results)\n",
    "    print('Drop: ', selected[idx])\n",
    "\n",
    "    #drop that variable\n",
    "    selected.pop(idx)\n",
    "    print('Remaining: ', selected)\n",
    "\n",
    "    #check out the new AIC to see whether it is improved (= lowered)\n",
    "    model = sm.OLS(Y, X[selected])\n",
    "    results = model.fit()\n",
    "    print('AIC: {:.2f}'.format(results.aic))\n",
    "\n",
    "    #if excluding the varible led to poor AIC -> stop\n",
    "    if results.aic > min_aic:\n",
    "        break\n",
    "\n",
    "    #continue if AIC is improved\n",
    "    else:\n",
    "        min_aic = results.aic\n",
    "\n",
    "#this will result in the selected variables in the penultimate loop having the best (= lowest) AIC"
   ]
  },
  {
   "cell_type": "markdown",
   "id": "fe0e2802-08c0-444b-ba47-7acd30632820",
   "metadata": {},
   "source": [
    "> The lowest AIC is *2156.51*.\\\n",
    "> Select the variables with the lowest AIC."
   ]
  },
  {
   "cell_type": "markdown",
   "id": "cee22feb-75b1-4acc-9f1b-aef7fb585487",
   "metadata": {},
   "source": [
    "> Take note of the fact that we are using **relative inflation** *(infl_diff_kr_us)* but not **interest rate difference** *(int_rate_diff_kr_us)*.\\\n",
    "> These are variables we found to have high multicolinearity from the correlation matrix earlier. It makes sense to include only one of them to our model."
   ]
  },
  {
   "cell_type": "markdown",
   "id": "ad36642f-3b75-40a2-8bcd-61d3f777ec37",
   "metadata": {},
   "source": [
    "#### **Model Results**"
   ]
  },
  {
   "cell_type": "code",
   "execution_count": 89,
   "id": "259ba05b-41de-4a1a-85fa-81ece12c4903",
   "metadata": {},
   "outputs": [],
   "source": [
    "#variables with the lowest AIC\n",
    "columns = ['krw_usd_real_xr', 'ca_gdp_korea', 'ca_gdp_us', 'gdp_growth_korea', 'infl_diff_kr_us', 'reserves_to_gdp', '10y-3m spread_diff']"
   ]
  },
  {
   "cell_type": "code",
   "execution_count": 90,
   "id": "58a0cf5f-565c-464f-989e-acca217a1d3a",
   "metadata": {},
   "outputs": [],
   "source": [
    "X2 = df_sample[columns]"
   ]
  },
  {
   "cell_type": "code",
   "execution_count": 91,
   "id": "76f6d744-4ed4-4591-b8ae-a0653921ad5c",
   "metadata": {},
   "outputs": [],
   "source": [
    "X2 = sm.add_constant(X2)"
   ]
  },
  {
   "cell_type": "code",
   "execution_count": 92,
   "id": "84fd6593-a167-4098-a8bc-086fe1396684",
   "metadata": {},
   "outputs": [
    {
     "data": {
      "text/html": [
       "<table class=\"simpletable\">\n",
       "<caption>OLS Regression Results</caption>\n",
       "<tr>\n",
       "  <th>Dep. Variable:</th>       <td>F12.ann_ret</td>   <th>  R-squared:         </th> <td>   0.304</td>\n",
       "</tr>\n",
       "<tr>\n",
       "  <th>Model:</th>                   <td>OLS</td>       <th>  Adj. R-squared:    </th> <td>   0.287</td>\n",
       "</tr>\n",
       "<tr>\n",
       "  <th>Method:</th>             <td>Least Squares</td>  <th>  F-statistic:       </th> <td>   17.95</td>\n",
       "</tr>\n",
       "<tr>\n",
       "  <th>Date:</th>             <td>Tue, 13 Aug 2024</td> <th>  Prob (F-statistic):</th> <td>9.33e-20</td>\n",
       "</tr>\n",
       "<tr>\n",
       "  <th>Time:</th>                 <td>15:18:03</td>     <th>  Log-Likelihood:    </th> <td> -1070.3</td>\n",
       "</tr>\n",
       "<tr>\n",
       "  <th>No. Observations:</th>      <td>   296</td>      <th>  AIC:               </th> <td>   2157.</td>\n",
       "</tr>\n",
       "<tr>\n",
       "  <th>Df Residuals:</th>          <td>   288</td>      <th>  BIC:               </th> <td>   2186.</td>\n",
       "</tr>\n",
       "<tr>\n",
       "  <th>Df Model:</th>              <td>     7</td>      <th>                     </th>     <td> </td>   \n",
       "</tr>\n",
       "<tr>\n",
       "  <th>Covariance Type:</th>      <td>nonrobust</td>    <th>                     </th>     <td> </td>   \n",
       "</tr>\n",
       "</table>\n",
       "<table class=\"simpletable\">\n",
       "<tr>\n",
       "           <td></td>             <th>coef</th>     <th>std err</th>      <th>t</th>      <th>P>|t|</th>  <th>[0.025</th>    <th>0.975]</th>  \n",
       "</tr>\n",
       "<tr>\n",
       "  <th>const</th>              <td>  -26.4564</td> <td>    6.213</td> <td>   -4.258</td> <td> 0.000</td> <td>  -38.685</td> <td>  -14.228</td>\n",
       "</tr>\n",
       "<tr>\n",
       "  <th>krw_usd_real_xr</th>    <td>   66.3083</td> <td>    8.983</td> <td>    7.381</td> <td> 0.000</td> <td>   48.627</td> <td>   83.989</td>\n",
       "</tr>\n",
       "<tr>\n",
       "  <th>ca_gdp_korea</th>       <td>   -1.3379</td> <td>    0.341</td> <td>   -3.928</td> <td> 0.000</td> <td>   -2.008</td> <td>   -0.667</td>\n",
       "</tr>\n",
       "<tr>\n",
       "  <th>ca_gdp_us</th>          <td>    1.1668</td> <td>    0.601</td> <td>    1.941</td> <td> 0.053</td> <td>   -0.016</td> <td>    2.350</td>\n",
       "</tr>\n",
       "<tr>\n",
       "  <th>gdp_growth_korea</th>   <td>    0.5115</td> <td>    0.210</td> <td>    2.440</td> <td> 0.015</td> <td>    0.099</td> <td>    0.924</td>\n",
       "</tr>\n",
       "<tr>\n",
       "  <th>infl_diff_kr_us</th>    <td>   -2.2369</td> <td>    0.418</td> <td>   -5.349</td> <td> 0.000</td> <td>   -3.060</td> <td>   -1.414</td>\n",
       "</tr>\n",
       "<tr>\n",
       "  <th>reserves_to_gdp</th>    <td>   -0.5961</td> <td>    0.213</td> <td>   -2.793</td> <td> 0.006</td> <td>   -1.016</td> <td>   -0.176</td>\n",
       "</tr>\n",
       "<tr>\n",
       "  <th>10y-3m spread_diff</th> <td>    3.4080</td> <td>    1.830</td> <td>    1.862</td> <td> 0.064</td> <td>   -0.194</td> <td>    7.010</td>\n",
       "</tr>\n",
       "</table>\n",
       "<table class=\"simpletable\">\n",
       "<tr>\n",
       "  <th>Omnibus:</th>       <td>119.522</td> <th>  Durbin-Watson:     </th> <td>   0.251</td> \n",
       "</tr>\n",
       "<tr>\n",
       "  <th>Prob(Omnibus):</th> <td> 0.000</td>  <th>  Jarque-Bera (JB):  </th> <td> 569.476</td> \n",
       "</tr>\n",
       "<tr>\n",
       "  <th>Skew:</th>          <td> 1.626</td>  <th>  Prob(JB):          </th> <td>2.19e-124</td>\n",
       "</tr>\n",
       "<tr>\n",
       "  <th>Kurtosis:</th>      <td> 8.966</td>  <th>  Cond. No.          </th> <td>    449.</td> \n",
       "</tr>\n",
       "</table><br/><br/>Notes:<br/>[1] Standard Errors assume that the covariance matrix of the errors is correctly specified."
      ],
      "text/latex": [
       "\\begin{center}\n",
       "\\begin{tabular}{lclc}\n",
       "\\toprule\n",
       "\\textbf{Dep. Variable:}      &   F12.ann\\_ret   & \\textbf{  R-squared:         } &     0.304   \\\\\n",
       "\\textbf{Model:}              &       OLS        & \\textbf{  Adj. R-squared:    } &     0.287   \\\\\n",
       "\\textbf{Method:}             &  Least Squares   & \\textbf{  F-statistic:       } &     17.95   \\\\\n",
       "\\textbf{Date:}               & Tue, 13 Aug 2024 & \\textbf{  Prob (F-statistic):} &  9.33e-20   \\\\\n",
       "\\textbf{Time:}               &     15:18:03     & \\textbf{  Log-Likelihood:    } &   -1070.3   \\\\\n",
       "\\textbf{No. Observations:}   &         296      & \\textbf{  AIC:               } &     2157.   \\\\\n",
       "\\textbf{Df Residuals:}       &         288      & \\textbf{  BIC:               } &     2186.   \\\\\n",
       "\\textbf{Df Model:}           &           7      & \\textbf{                     } &             \\\\\n",
       "\\textbf{Covariance Type:}    &    nonrobust     & \\textbf{                     } &             \\\\\n",
       "\\bottomrule\n",
       "\\end{tabular}\n",
       "\\begin{tabular}{lcccccc}\n",
       "                             & \\textbf{coef} & \\textbf{std err} & \\textbf{t} & \\textbf{P$> |$t$|$} & \\textbf{[0.025} & \\textbf{0.975]}  \\\\\n",
       "\\midrule\n",
       "\\textbf{const}               &     -26.4564  &        6.213     &    -4.258  &         0.000        &      -38.685    &      -14.228     \\\\\n",
       "\\textbf{krw\\_usd\\_real\\_xr}  &      66.3083  &        8.983     &     7.381  &         0.000        &       48.627    &       83.989     \\\\\n",
       "\\textbf{ca\\_gdp\\_korea}      &      -1.3379  &        0.341     &    -3.928  &         0.000        &       -2.008    &       -0.667     \\\\\n",
       "\\textbf{ca\\_gdp\\_us}         &       1.1668  &        0.601     &     1.941  &         0.053        &       -0.016    &        2.350     \\\\\n",
       "\\textbf{gdp\\_growth\\_korea}  &       0.5115  &        0.210     &     2.440  &         0.015        &        0.099    &        0.924     \\\\\n",
       "\\textbf{infl\\_diff\\_kr\\_us}  &      -2.2369  &        0.418     &    -5.349  &         0.000        &       -3.060    &       -1.414     \\\\\n",
       "\\textbf{reserves\\_to\\_gdp}   &      -0.5961  &        0.213     &    -2.793  &         0.006        &       -1.016    &       -0.176     \\\\\n",
       "\\textbf{10y-3m spread\\_diff} &       3.4080  &        1.830     &     1.862  &         0.064        &       -0.194    &        7.010     \\\\\n",
       "\\bottomrule\n",
       "\\end{tabular}\n",
       "\\begin{tabular}{lclc}\n",
       "\\textbf{Omnibus:}       & 119.522 & \\textbf{  Durbin-Watson:     } &     0.251  \\\\\n",
       "\\textbf{Prob(Omnibus):} &   0.000 & \\textbf{  Jarque-Bera (JB):  } &   569.476  \\\\\n",
       "\\textbf{Skew:}          &   1.626 & \\textbf{  Prob(JB):          } & 2.19e-124  \\\\\n",
       "\\textbf{Kurtosis:}      &   8.966 & \\textbf{  Cond. No.          } &      449.  \\\\\n",
       "\\bottomrule\n",
       "\\end{tabular}\n",
       "%\\caption{OLS Regression Results}\n",
       "\\end{center}\n",
       "\n",
       "Notes: \\newline\n",
       " [1] Standard Errors assume that the covariance matrix of the errors is correctly specified."
      ],
      "text/plain": [
       "<class 'statsmodels.iolib.summary.Summary'>\n",
       "\"\"\"\n",
       "                            OLS Regression Results                            \n",
       "==============================================================================\n",
       "Dep. Variable:            F12.ann_ret   R-squared:                       0.304\n",
       "Model:                            OLS   Adj. R-squared:                  0.287\n",
       "Method:                 Least Squares   F-statistic:                     17.95\n",
       "Date:                Tue, 13 Aug 2024   Prob (F-statistic):           9.33e-20\n",
       "Time:                        15:18:03   Log-Likelihood:                -1070.3\n",
       "No. Observations:                 296   AIC:                             2157.\n",
       "Df Residuals:                     288   BIC:                             2186.\n",
       "Df Model:                           7                                         \n",
       "Covariance Type:            nonrobust                                         \n",
       "======================================================================================\n",
       "                         coef    std err          t      P>|t|      [0.025      0.975]\n",
       "--------------------------------------------------------------------------------------\n",
       "const                -26.4564      6.213     -4.258      0.000     -38.685     -14.228\n",
       "krw_usd_real_xr       66.3083      8.983      7.381      0.000      48.627      83.989\n",
       "ca_gdp_korea          -1.3379      0.341     -3.928      0.000      -2.008      -0.667\n",
       "ca_gdp_us              1.1668      0.601      1.941      0.053      -0.016       2.350\n",
       "gdp_growth_korea       0.5115      0.210      2.440      0.015       0.099       0.924\n",
       "infl_diff_kr_us       -2.2369      0.418     -5.349      0.000      -3.060      -1.414\n",
       "reserves_to_gdp       -0.5961      0.213     -2.793      0.006      -1.016      -0.176\n",
       "10y-3m spread_diff     3.4080      1.830      1.862      0.064      -0.194       7.010\n",
       "==============================================================================\n",
       "Omnibus:                      119.522   Durbin-Watson:                   0.251\n",
       "Prob(Omnibus):                  0.000   Jarque-Bera (JB):              569.476\n",
       "Skew:                           1.626   Prob(JB):                    2.19e-124\n",
       "Kurtosis:                       8.966   Cond. No.                         449.\n",
       "==============================================================================\n",
       "\n",
       "Notes:\n",
       "[1] Standard Errors assume that the covariance matrix of the errors is correctly specified.\n",
       "\"\"\""
      ]
     },
     "execution_count": 92,
     "metadata": {},
     "output_type": "execute_result"
    }
   ],
   "source": [
    "model = sm.OLS(Y, X2)\n",
    "results = model.fit()\n",
    "results.summary()"
   ]
  },
  {
   "cell_type": "code",
   "execution_count": null,
   "id": "f701b400-22bf-4c22-b21e-4d95adb0d25a",
   "metadata": {},
   "outputs": [],
   "source": []
  },
  {
   "cell_type": "markdown",
   "id": "faf95928-937c-47a2-bfcc-59ced775aa7f",
   "metadata": {},
   "source": [
    "#### **Visual Analytics**"
   ]
  },
  {
   "cell_type": "code",
   "execution_count": 93,
   "id": "212e51fb-f176-4a12-b538-a6ebbdaab95f",
   "metadata": {},
   "outputs": [
    {
     "data": {
      "image/png": "[encoded data removed]",
      "text/plain": [
       "<Figure size 1000x400 with 1 Axes>"
      ]
     },
     "metadata": {},
     "output_type": "display_data"
    }
   ],
   "source": [
    "plt.plot(Y, label = 'Realized XR return')\n",
    "plt.plot(Y.index, results.predict(), label = 'Predicted XR return')\n",
    "plt.legend()\n",
    "plt.show()"
   ]
  },
  {
   "cell_type": "markdown",
   "id": "4da336d7-1da6-4340-8877-0696c8e27c08",
   "metadata": {},
   "source": [
    "> Superimposed predicted exchange rate return onto actual return.\n",
    "> \n",
    "> As can be seen in the graph around 2008, tail risks are impossible to predict with our model. But this is ok. They would not have been called \"tail risk\" if they could be predicted at all.   "
   ]
  },
  {
   "cell_type": "code",
   "execution_count": 94,
   "id": "e0407f83-1805-4f20-aade-7dd9d2857920",
   "metadata": {},
   "outputs": [],
   "source": [
    "plt.rcParams['figure.figsize'] = (4, 4)"
   ]
  },
  {
   "cell_type": "code",
   "execution_count": 95,
   "id": "6e991329-fccf-4561-88ba-c46e41c3dc94",
   "metadata": {},
   "outputs": [
    {
     "data": {
      "image/png": "[encoded data removed]",
      "text/plain": [
       "<Figure size 400x400 with 1 Axes>"
      ]
     },
     "metadata": {},
     "output_type": "display_data"
    }
   ],
   "source": [
    "plt.scatter(results.predict(), Y)\n",
    "plt.xlabel('Predicted XR return')\n",
    "plt.ylabel('Realized XR return')\n",
    "plt.show()"
   ]
  },
  {
   "cell_type": "markdown",
   "id": "1ae738f4-245e-476b-82be-163819c19958",
   "metadata": {},
   "source": [
    "> Again, the fact that tail risks cannot be predicted can be observed from the scatterplot above.\n",
    "> \n",
    "> Suppose there is a hypothetical 45 degree line in between; if the plots were to be on the exactly on the line then this means predicted values and actual values are identical.\n",
    "> \n",
    "> In our scatterplot, the two are generally aggregated on the hypothetical line, however, there are some outliers. They represent tail risks when the actual XR return deviate a lot from the predicted value."
   ]
  },
  {
   "cell_type": "markdown",
   "id": "cb97a099-94d3-465f-b2da-380afc484e3e",
   "metadata": {},
   "source": [
    "## 4. Point and Interval Estimates for Exchange Rate"
   ]
  },
  {
   "cell_type": "markdown",
   "id": "9267d21e-3695-4533-a3ef-e109fb79f088",
   "metadata": {},
   "source": [
    "We now have predicted values of exchange rate returns.\n",
    "\n",
    "With them, we can compute point and interval estimates for exchange rate."
   ]
  },
  {
   "cell_type": "code",
   "execution_count": 96,
   "id": "b4f1a309-635d-4243-b8fd-08d7c7c0dc75",
   "metadata": {},
   "outputs": [
    {
     "data": {
      "text/html": [
       "<div>\n",
       "<style scoped>\n",
       "    .dataframe tbody tr th:only-of-type {\n",
       "        vertical-align: middle;\n",
       "    }\n",
       "\n",
       "    .dataframe tbody tr th {\n",
       "        vertical-align: top;\n",
       "    }\n",
       "\n",
       "    .dataframe thead th {\n",
       "        text-align: right;\n",
       "    }\n",
       "</style>\n",
       "<table border=\"1\" class=\"dataframe\">\n",
       "  <thead>\n",
       "    <tr style=\"text-align: right;\">\n",
       "      <th></th>\n",
       "      <th>krw_usd_xr</th>\n",
       "      <th>current_account_korea</th>\n",
       "      <th>current_account_us</th>\n",
       "      <th>gdp_korea</th>\n",
       "      <th>gdp_us</th>\n",
       "      <th>gdp_growth_korea</th>\n",
       "      <th>gdp_growth_us</th>\n",
       "      <th>cpi_korea</th>\n",
       "      <th>cpi_us</th>\n",
       "      <th>int_rate_korea</th>\n",
       "      <th>...</th>\n",
       "      <th>ca_gdp_us</th>\n",
       "      <th>gdp_growth_korea2</th>\n",
       "      <th>gdp_growth_us2</th>\n",
       "      <th>infl_korea</th>\n",
       "      <th>infl_us</th>\n",
       "      <th>infl_diff_kr_us</th>\n",
       "      <th>int_rate_diff_kr_us</th>\n",
       "      <th>reserves_to_gdp</th>\n",
       "      <th>reserves_growth</th>\n",
       "      <th>10y-3m spread_diff</th>\n",
       "    </tr>\n",
       "  </thead>\n",
       "  <tbody>\n",
       "    <tr>\n",
       "      <th>2024-07-31</th>\n",
       "      <td>1384.6</td>\n",
       "      <td>58283.7</td>\n",
       "      <td>-913345.0</td>\n",
       "      <td>1712792.9</td>\n",
       "      <td>27348000.0</td>\n",
       "      <td>2.29</td>\n",
       "      <td>3.086</td>\n",
       "      <td>131.8</td>\n",
       "      <td>144.08</td>\n",
       "      <td>3.6</td>\n",
       "      <td>...</td>\n",
       "      <td>-3.339714</td>\n",
       "      <td>2.322481</td>\n",
       "      <td>6.230132</td>\n",
       "      <td>2.289484</td>\n",
       "      <td>2.774806</td>\n",
       "      <td>-0.485322</td>\n",
       "      <td>-1.68</td>\n",
       "      <td>24.142246</td>\n",
       "      <td>-1.967058</td>\n",
       "      <td>-0.20</td>\n",
       "    </tr>\n",
       "    <tr>\n",
       "      <th>2024-08-31</th>\n",
       "      <td>1367.7</td>\n",
       "      <td>58283.7</td>\n",
       "      <td>-913345.0</td>\n",
       "      <td>1712792.9</td>\n",
       "      <td>27348000.0</td>\n",
       "      <td>2.29</td>\n",
       "      <td>3.086</td>\n",
       "      <td>131.8</td>\n",
       "      <td>144.08</td>\n",
       "      <td>3.6</td>\n",
       "      <td>...</td>\n",
       "      <td>-3.339714</td>\n",
       "      <td>2.322481</td>\n",
       "      <td>6.230132</td>\n",
       "      <td>1.392415</td>\n",
       "      <td>2.329545</td>\n",
       "      <td>-0.937131</td>\n",
       "      <td>-1.68</td>\n",
       "      <td>24.142246</td>\n",
       "      <td>-1.146162</td>\n",
       "      <td>-0.11</td>\n",
       "    </tr>\n",
       "  </tbody>\n",
       "</table>\n",
       "<p>2 rows × 28 columns</p>\n",
       "</div>"
      ],
      "text/plain": [
       "            krw_usd_xr  current_account_korea  current_account_us  gdp_korea  \\\n",
       "2024-07-31      1384.6                58283.7           -913345.0  1712792.9   \n",
       "2024-08-31      1367.7                58283.7           -913345.0  1712792.9   \n",
       "\n",
       "                gdp_us  gdp_growth_korea  gdp_growth_us  cpi_korea  cpi_us  \\\n",
       "2024-07-31  27348000.0              2.29          3.086      131.8  144.08   \n",
       "2024-08-31  27348000.0              2.29          3.086      131.8  144.08   \n",
       "\n",
       "            int_rate_korea  ...  ca_gdp_us  gdp_growth_korea2  gdp_growth_us2  \\\n",
       "2024-07-31             3.6  ...  -3.339714           2.322481        6.230132   \n",
       "2024-08-31             3.6  ...  -3.339714           2.322481        6.230132   \n",
       "\n",
       "            infl_korea   infl_us  infl_diff_kr_us  int_rate_diff_kr_us  \\\n",
       "2024-07-31    2.289484  2.774806        -0.485322                -1.68   \n",
       "2024-08-31    1.392415  2.329545        -0.937131                -1.68   \n",
       "\n",
       "            reserves_to_gdp  reserves_growth  10y-3m spread_diff  \n",
       "2024-07-31        24.142246        -1.967058               -0.20  \n",
       "2024-08-31        24.142246        -1.146162               -0.11  \n",
       "\n",
       "[2 rows x 28 columns]"
      ]
     },
     "execution_count": 96,
     "metadata": {},
     "output_type": "execute_result"
    }
   ],
   "source": [
    "df_merged.tail(2)"
   ]
  },
  {
   "cell_type": "code",
   "execution_count": 97,
   "id": "4ea79987-b7bd-4748-8812-2c17249fc7dd",
   "metadata": {},
   "outputs": [],
   "source": [
    "#at the time of writing this jupyter notebook, the last observation is the exchange rate observed in 2024-08-12\n",
    "last_obs = df_merged.iloc[-1]"
   ]
  },
  {
   "cell_type": "code",
   "execution_count": 98,
   "id": "d028f718-0750-41c9-a7f2-5f3725b6b3fa",
   "metadata": {},
   "outputs": [
    {
     "data": {
      "text/plain": [
       "1367.7"
      ]
     },
     "execution_count": 98,
     "metadata": {},
     "output_type": "execute_result"
    }
   ],
   "source": [
    "last_xr = last_obs['krw_usd_xr']\n",
    "last_xr"
   ]
  },
  {
   "cell_type": "code",
   "execution_count": 99,
   "id": "004d36aa-d12d-4680-8168-c505a1c64d9f",
   "metadata": {},
   "outputs": [],
   "source": [
    "#\"exog\" are the values of selected variables for our model on the most recent date\n",
    "# at the time of writing this jupyter notebook, the most recent date is 2024-08-12\n",
    "exog = last_obs[columns]"
   ]
  },
  {
   "cell_type": "code",
   "execution_count": 100,
   "id": "128a7e41-248f-42d3-8c43-45c14c8270e7",
   "metadata": {},
   "outputs": [],
   "source": [
    "# 1 represents constant\n",
    "exog = [1, *exog]"
   ]
  },
  {
   "cell_type": "code",
   "execution_count": 101,
   "id": "9ac665d3-047a-4e1e-b9ea-ff76c005e5b2",
   "metadata": {},
   "outputs": [],
   "source": [
    "pred_ret = results.predict(exog = exog)"
   ]
  },
  {
   "cell_type": "code",
   "execution_count": 102,
   "id": "0415bd14-0d2f-4c5f-bfbc-8dedbe6b680a",
   "metadata": {},
   "outputs": [
    {
     "data": {
      "text/plain": [
       "array([-7.60173336])"
      ]
     },
     "execution_count": 102,
     "metadata": {},
     "output_type": "execute_result"
    }
   ],
   "source": [
    "# the expected return of exchange rate 1 year ahead is around -7.60%\n",
    "pred_ret"
   ]
  },
  {
   "cell_type": "code",
   "execution_count": 103,
   "id": "47cc1130-3ed0-4862-8ead-0287a57695d0",
   "metadata": {},
   "outputs": [],
   "source": [
    "pred_xr = last_xr * (1 + pred_ret[0] / 100) "
   ]
  },
  {
   "cell_type": "code",
   "execution_count": 104,
   "id": "e00c0543-9d16-43c3-856d-9e2e616659eb",
   "metadata": {},
   "outputs": [
    {
     "data": {
      "text/plain": [
       "1263.7310928864313"
      ]
     },
     "execution_count": 104,
     "metadata": {},
     "output_type": "execute_result"
    }
   ],
   "source": [
    "pred_xr"
   ]
  },
  {
   "cell_type": "markdown",
   "id": "688c3d9c-2037-4b00-8a43-db5f6a0e073a",
   "metadata": {},
   "source": [
    "> **The point estimate for the exchange rate around this time (August) next year is: KRW1,263.73/USD.**"
   ]
  },
  {
   "cell_type": "code",
   "execution_count": 105,
   "id": "a00cfbb5-b0be-4fd1-aba7-a07d58a3414a",
   "metadata": {},
   "outputs": [],
   "source": [
    "from statsmodels.sandbox.regression.predstd import wls_prediction_std"
   ]
  },
  {
   "cell_type": "code",
   "execution_count": 106,
   "id": "48d6e81c-5f35-4632-aec5-7aafdfc12ca1",
   "metadata": {},
   "outputs": [
    {
     "name": "stdout",
     "output_type": "stream",
     "text": [
      "Confidence Interval at alpha=0.05: 1015.03 ~ 1512.43\n",
      "Confidence Interval at alpha=0.25: 1118.08 ~ 1409.38\n",
      "Confidence Interval at alpha=0.50: 1178.40 ~ 1349.07\n"
     ]
    }
   ],
   "source": [
    "for alpha in [0.05, 0.25, 0.50]:\n",
    "    prstd, iv_l, iv_u = \\\n",
    "        wls_prediction_std(results, exog=exog, alpha=alpha)\n",
    "    \n",
    "    print(\"Confidence Interval at alpha={:.2f}: {:.2f} ~ {:.2f}\".format(\n",
    "        alpha,\n",
    "        last_xr * (1 + iv_l[0] / 100),\n",
    "        last_xr * (1 + iv_u[0] / 100),\n",
    "    ))"
   ]
  },
  {
   "cell_type": "markdown",
   "id": "94dcf8ae-25ba-4943-80d2-65fb62c48992",
   "metadata": {},
   "source": [
    "> **The interval estimates for the exchange rate around this time (August) next year  for a given alpha level are presented above.**"
   ]
  },
  {
   "cell_type": "markdown",
   "id": "d5ae05d4-d4ae-4982-9be3-27b1f875534b",
   "metadata": {},
   "source": [
    "---"
   ]
  },
  {
   "cell_type": "markdown",
   "id": "f4a7dc3a-e226-4a57-a72d-e9428d46a209",
   "metadata": {},
   "source": [
    "# Conclusion"
   ]
  },
  {
   "cell_type": "markdown",
   "id": "ba50a58e-3cc6-4eab-b249-688f3b54d179",
   "metadata": {},
   "source": [
    "##### **Estimates**"
   ]
  },
  {
   "cell_type": "markdown",
   "id": "67196175-8245-4cbc-89cb-e4b8eda1fbbe",
   "metadata": {},
   "source": [
    "> In accordance with our model:\n",
    ">\n",
    "> - The point estimate for the exchange rate around this time (August) next year is: **KRW1,263.73/USD**.\n",
    "> - The interval estimates for the exchange rate around this time (August) next year  for a given alpha level of 5% is\\\n",
    "> **KRW1015.03/USD ~ KRW1512.43/USD**."
   ]
  },
  {
   "cell_type": "markdown",
   "id": "f5a0ec2f-4d5c-45e0-95f5-738c1d46b504",
   "metadata": {},
   "source": [
    "##### **Interpretation of the Result**"
   ]
  },
  {
   "cell_type": "markdown",
   "id": "86671e2b-28fe-4d60-9e44-a96417c76837",
   "metadata": {},
   "source": [
    "> **Our model is by and large in line with fundamental theories on exchange rate.**"
   ]
  },
  {
   "cell_type": "markdown",
   "id": "84e38286-f2c2-40e6-947e-f2b4e13e40ad",
   "metadata": {},
   "source": [
    "$$\n",
    "\\begin{align*}\n",
    "Y &= \\beta_0 + \\beta_1 X_1 + \\beta_2 X_2 + \\beta_3 X_3 + \\beta_4 X_4 + \\beta_5 X_5 + \\beta_6 X_6 + \\beta_7 X_7 + \\epsilon \\\\\n",
    "\\text{where:} \\\\\n",
    "Y &\\text{ is the the 12-month forward return of exchange rates} \\\\\n",
    "X_1 &\\text{ is the real exchange rate} \\\\\n",
    "X_2 &\\text{ is the current account of South Korea in relation to the size of its GDP} \\\\\n",
    "X_3 &\\text{ is the current account of the United States in relation to the size of its GDP} \\\\\n",
    "X_4 &\\text{ is the growth rate of real GDP of South Korea} \\\\\n",
    "X_5 &\\text{ is the difference between the inflation rates of South Korea and that of the United States} \\\\\n",
    "X_6 &\\text{ is the size of foreign reserve of South Korea in relation to the size of its GDP} \\\\\n",
    "X_7 &\\text{ is the term spread of Treasury yields (10Y - 3M)} \\\\\n",
    "\\beta_0 &\\text{ is the intercept (constant term)} \\\\\n",
    "\\beta_1&, \\beta_2, \\dots, \\beta_7 \\text{ are the coefficients of the independent variables} \\\\\n",
    "\\epsilon& \\text{ is the error term (residual)}\n",
    "\\end{align*}\n",
    "$$\n",
    "\n",
    "\n",
    "\\begin{array}{l c}\n",
    "\\textbf{R-squared:} & 0.304 \\\\\n",
    "\\textbf{Adj. R-squared:} & 0.287 \\\\\n",
    "\\end{array}\n",
    "\n",
    "\\begin{array}{l c c c c c}\n",
    "\\textbf{variable} &\\textbf{coef} & \\textbf{std err} & \\textbf{t} & \\textbf{P>|t|} & \\textbf{[0.025  0.975]} \\\\\n",
    "\\hline\n",
    "\\text{const} & -26.4564 & 6.213 & -4.258 & 0.000 & [-38.685  -14.228] \\\\\n",
    "X_1 & 66.3083 & 8.983 & 7.381 & 0.000 & [48.627  83.989] \\\\\n",
    "X_2 & -1.3379 & 0.341 & -3.928 & 0.000 & [-2.008  -0.667] \\\\\n",
    "X_3 & 1.1668 & 0.601 & 1.941 & 0.053 & [-0.016  2.350] \\\\\n",
    "X_4 & 0.5115 & 0.210 & 2.440 & 0.015 & [0.102  0.921] \\\\\n",
    "X_5 & -2.2369 & 0.418 & -5.349 & 0.000 & [-3.060  -1.414] \\\\\n",
    "X_6 & -0.5961 & 0.213 & -2.798 & 0.006 & [-1.016  -0.176] \\\\\n",
    "X_7 & 3.4080 & 1.830 & 1.862 & 0.064 & [-0.194  7.010] \\\\\n",
    "\\end{array}\n"
   ]
  },
  {
   "cell_type": "markdown",
   "id": "5123d12b-a619-46ce-b417-fb2ed815c60b",
   "metadata": {},
   "source": [
    "**Real exchange rate** is positvely correlated with the expected return of exchange rate as suggested by the theories. When it is high, which means KRW is appreciated than usual, upward pressure is imposed upon the exchange rate.\n",
    "\n",
    "**Normalized current accounts** also works as theories suggested. High, positive current account of South Korea, as observed in many years, by inducing high demand for KRW, puts downward pressure on the exchange rate. On the other hand, negative current account of the United States, as observed in many years, by inducing greater supply of USD in exchange for the demand for other currencies, puts also downward pressure on the exchange rate.\n",
    "\n",
    "**South Korean GDP growth rate** When GDP grows rapidly, investors find the country attractive to invest in, driving up the value of currency eventually. So, GDP growth is expected to have negative relationship with the exchange rate. However, the coefficient here is positive; this is due to timing difference. Forward expected return of exchange rate is for the period of $(t+12, t)$ yet the growth rate if for the period of $(t, t-12)$. Had they been from the same period, the sign of coefficient would have been the opposite. \n",
    "\n",
    "**Inflation rate difference** has strong negative relationship with the forward expected return of exchange rate. You might find this perplexing because the result seems in direct contradiction to what Relative PPP theory suggests. However, we need to take a look at the timing.\n",
    "\n",
    "$$\\text{Relative PPP: }  {S_{\\text{KRW}/\\text{USD}}}_{t+1}   = {S_{\\text{KRW}/\\text{USD}}}_{t} * \\frac{1 + \\pi_{\\text{KR}}}{1 + \\pi_{\\text{US}}}$$\n",
    "\n",
    "The above is the conclusion of relative PPP theory. So, the exchange rate and the inflation rate difference in $(t+1, t)$ go in the same direction. We use the target variable of expected forward return of exchange rate, which is the change in exchange rate in $(t+12, t)$. And we use inflation rate difference in $(t, t-12)$. Due to timing difference, if the two variables are positively correlated as the theory suggests, when there is timing difference it has to show negative correlation. \n",
    "\n",
    "**Normalized size of foreign reserve** has a negative relationship with the exchange rate. This aligns well with theoratical expalanation presented in *Introduction*. Enlarged foreign reserve of South Korea works as a buffer in the case of sudden spikes in the exchange rate.\n",
    "\n",
    "**Differenced treasurey term spread (10y-3m)** has a positive relationship with the exchange rate. This means when the spread widens the value of KRW drops. In the case when the spread widens in the negative direction, this corresponds to what theories suggest; negative term spread is a strong indicator of impending recession, which tends to drive up the exchange rate (= KRW depreciation). The case of widening spread in the positive direction is a bit trickier to interpret. Increasing spread in the positive direction might be correlated with the increase of market risk premium or market expectation of increasing inflation rate, which thereby leads to investors flocking to safer assets, such as USD. "
   ]
  }
 ],
 "metadata": {
  "kernelspec": {
   "display_name": "Python 3 (ipykernel)",
   "language": "python",
   "name": "python3"
  },
  "language_info": {
   "codemirror_mode": {
    "name": "ipython",
    "version": 3
   },
   "file_extension": ".py",
   "mimetype": "text/x-python",
   "name": "python",
   "nbconvert_exporter": "python",
   "pygments_lexer": "ipython3",
   "version": "3.11.9"
  }
 },
 "nbformat": 4,
 "nbformat_minor": 5
}
