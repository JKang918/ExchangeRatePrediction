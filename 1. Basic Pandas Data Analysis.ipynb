{
 "cells": [
  {
   "cell_type": "markdown",
   "id": "30675309-fc88-4ec9-84cf-be9ca259caab",
   "metadata": {},
   "source": [
    "# Basic Pandas Data Analysis\n",
    "\n",
    "### week 1-2\n",
    "\n",
    "* import excel data file\n",
    "* preprocess imported data for time series analysis\n",
    "* visualization with matplotlib and drawing insaights\n",
    "* data sorting and meargng\n",
    "* misleading visaulization example\n",
    "* misleading forecast modeling example\n",
    "\n",
    "> *Note 1. source code and data: KAIST Business school, Prof. Jaehoon Lee*\\\n",
    "> *Note 2. data entires in Korean are translated by me to English*\\\n",
    "> *Note 3. Markdown notes are primarily written by me*\\\n",
    "> *Note 4. Data files are provided in a separate folder in this repository*\\\n",
    "> *Note 5. week 1-1 was orientation*"
   ]
  },
  {
   "cell_type": "markdown",
   "id": "8e795b9f-1e6b-4b58-9829-f51edaf26571",
   "metadata": {},
   "source": [
    "# **From importing single data file to plotting it**"
   ]
  },
  {
   "cell_type": "markdown",
   "id": "7aee168b-3bde-4e53-8ba3-376e29e66240",
   "metadata": {},
   "source": [
    "## **1. Importing data**\n",
    "### How to import excel data into python and check with pandas methods"
   ]
  },
  {
   "cell_type": "code",
   "execution_count": 1,
   "id": "a4020798-332b-4c28-9789-eff48c37f9fa",
   "metadata": {},
   "outputs": [],
   "source": [
    "#conda install pandas\n",
    "#conda instal openxyl #for excel file importing\n",
    "#conda install statsmodels\n",
    "#conda install matplotlib"
   ]
  },
  {
   "cell_type": "code",
   "execution_count": 2,
   "id": "727485d0-81f4-459f-adb8-755c91b21fe9",
   "metadata": {},
   "outputs": [],
   "source": [
    "import pandas as pd"
   ]
  },
  {
   "cell_type": "code",
   "execution_count": 3,
   "id": "609108a9-e386-4009-a4f7-a67ff003226d",
   "metadata": {},
   "outputs": [],
   "source": [
    "#use your own file path where the excel file is stored\n",
    "df_samsung = pd.read_excel('data/samsung_stock_price.xlsx')"
   ]
  },
  {
   "cell_type": "code",
   "execution_count": 4,
   "id": "fd62764b-e1e3-4a9e-9cb9-27be6af74457",
   "metadata": {},
   "outputs": [
    {
     "data": {
      "text/html": [
       "<div>\n",
       "<style scoped>\n",
       "    .dataframe tbody tr th:only-of-type {\n",
       "        vertical-align: middle;\n",
       "    }\n",
       "\n",
       "    .dataframe tbody tr th {\n",
       "        vertical-align: top;\n",
       "    }\n",
       "\n",
       "    .dataframe thead th {\n",
       "        text-align: right;\n",
       "    }\n",
       "</style>\n",
       "<table border=\"1\" class=\"dataframe\">\n",
       "  <thead>\n",
       "    <tr style=\"text-align: right;\">\n",
       "      <th></th>\n",
       "      <th>date</th>\n",
       "      <th>symbol</th>\n",
       "      <th>entity_name</th>\n",
       "      <th>stock_price</th>\n",
       "    </tr>\n",
       "  </thead>\n",
       "  <tbody>\n",
       "    <tr>\n",
       "      <th>0</th>\n",
       "      <td>2000/01/04</td>\n",
       "      <td>KRX:005930</td>\n",
       "      <td>Samsung_Electronics</td>\n",
       "      <td>6110</td>\n",
       "    </tr>\n",
       "    <tr>\n",
       "      <th>1</th>\n",
       "      <td>2000/01/05</td>\n",
       "      <td>KRX:005930</td>\n",
       "      <td>Samsung_Electronics</td>\n",
       "      <td>5580</td>\n",
       "    </tr>\n",
       "    <tr>\n",
       "      <th>2</th>\n",
       "      <td>2000/01/06</td>\n",
       "      <td>KRX:005930</td>\n",
       "      <td>Samsung_Electronics</td>\n",
       "      <td>5620</td>\n",
       "    </tr>\n",
       "    <tr>\n",
       "      <th>3</th>\n",
       "      <td>2000/01/07</td>\n",
       "      <td>KRX:005930</td>\n",
       "      <td>Samsung_Electronics</td>\n",
       "      <td>5540</td>\n",
       "    </tr>\n",
       "    <tr>\n",
       "      <th>4</th>\n",
       "      <td>2000/01/10</td>\n",
       "      <td>KRX:005930</td>\n",
       "      <td>Samsung_Electronics</td>\n",
       "      <td>5770</td>\n",
       "    </tr>\n",
       "  </tbody>\n",
       "</table>\n",
       "</div>"
      ],
      "text/plain": [
       "         date      symbol          entity_name  stock_price\n",
       "0  2000/01/04  KRX:005930  Samsung_Electronics         6110\n",
       "1  2000/01/05  KRX:005930  Samsung_Electronics         5580\n",
       "2  2000/01/06  KRX:005930  Samsung_Electronics         5620\n",
       "3  2000/01/07  KRX:005930  Samsung_Electronics         5540\n",
       "4  2000/01/10  KRX:005930  Samsung_Electronics         5770"
      ]
     },
     "execution_count": 4,
     "metadata": {},
     "output_type": "execute_result"
    }
   ],
   "source": [
    "#check first 5 rows to see whether it is properly imprted\n",
    "df_samsung.head()"
   ]
  },
  {
   "cell_type": "markdown",
   "id": "25338ec1-9fba-4a37-b23d-30ece92330ed",
   "metadata": {},
   "source": [
    "> *FYI: stock price is in KRW (Korean Won)*\\\n",
    "> symbol is stock ticker, and KRX stands for Korea Exchange"
   ]
  },
  {
   "cell_type": "code",
   "execution_count": 5,
   "id": "ca94d12f-2550-4217-85f6-11eee95d04cc",
   "metadata": {},
   "outputs": [
    {
     "data": {
      "text/html": [
       "<div>\n",
       "<style scoped>\n",
       "    .dataframe tbody tr th:only-of-type {\n",
       "        vertical-align: middle;\n",
       "    }\n",
       "\n",
       "    .dataframe tbody tr th {\n",
       "        vertical-align: top;\n",
       "    }\n",
       "\n",
       "    .dataframe thead th {\n",
       "        text-align: right;\n",
       "    }\n",
       "</style>\n",
       "<table border=\"1\" class=\"dataframe\">\n",
       "  <thead>\n",
       "    <tr style=\"text-align: right;\">\n",
       "      <th></th>\n",
       "      <th>date</th>\n",
       "      <th>symbol</th>\n",
       "      <th>entity_name</th>\n",
       "      <th>stock_price</th>\n",
       "    </tr>\n",
       "  </thead>\n",
       "  <tbody>\n",
       "    <tr>\n",
       "      <th>5781</th>\n",
       "      <td>2023/06/02</td>\n",
       "      <td>KRX:006127</td>\n",
       "      <td>Samsung_Electronics</td>\n",
       "      <td>72200</td>\n",
       "    </tr>\n",
       "    <tr>\n",
       "      <th>5782</th>\n",
       "      <td>2023/06/05</td>\n",
       "      <td>KRX:006128</td>\n",
       "      <td>Samsung_Electronics</td>\n",
       "      <td>71700</td>\n",
       "    </tr>\n",
       "    <tr>\n",
       "      <th>5783</th>\n",
       "      <td>2023/06/07</td>\n",
       "      <td>KRX:006129</td>\n",
       "      <td>Samsung_Electronics</td>\n",
       "      <td>71000</td>\n",
       "    </tr>\n",
       "    <tr>\n",
       "      <th>5784</th>\n",
       "      <td>2023/06/08</td>\n",
       "      <td>KRX:006130</td>\n",
       "      <td>Samsung_Electronics</td>\n",
       "      <td>70900</td>\n",
       "    </tr>\n",
       "    <tr>\n",
       "      <th>5785</th>\n",
       "      <td>2023/06/09</td>\n",
       "      <td>KRX:006131</td>\n",
       "      <td>Samsung_Electronics</td>\n",
       "      <td>72000</td>\n",
       "    </tr>\n",
       "  </tbody>\n",
       "</table>\n",
       "</div>"
      ],
      "text/plain": [
       "            date      symbol          entity_name  stock_price\n",
       "5781  2023/06/02  KRX:006127  Samsung_Electronics        72200\n",
       "5782  2023/06/05  KRX:006128  Samsung_Electronics        71700\n",
       "5783  2023/06/07  KRX:006129  Samsung_Electronics        71000\n",
       "5784  2023/06/08  KRX:006130  Samsung_Electronics        70900\n",
       "5785  2023/06/09  KRX:006131  Samsung_Electronics        72000"
      ]
     },
     "execution_count": 5,
     "metadata": {},
     "output_type": "execute_result"
    }
   ],
   "source": [
    "#check last 5 rows to see whether it is properly imprted\n",
    "df_samsung.tail()"
   ]
  },
  {
   "cell_type": "code",
   "execution_count": 6,
   "id": "fcc30168-62cc-49bb-9de0-2e6af3f5f243",
   "metadata": {},
   "outputs": [
    {
     "name": "stdout",
     "output_type": "stream",
     "text": [
      "<class 'pandas.core.frame.DataFrame'>\n",
      "RangeIndex: 5786 entries, 0 to 5785\n",
      "Data columns (total 4 columns):\n",
      " #   Column       Non-Null Count  Dtype \n",
      "---  ------       --------------  ----- \n",
      " 0   date         5786 non-null   object\n",
      " 1   symbol       5786 non-null   object\n",
      " 2   entity_name  5786 non-null   object\n",
      " 3   stock_price  5786 non-null   int64 \n",
      "dtypes: int64(1), object(3)\n",
      "memory usage: 180.9+ KB\n"
     ]
    }
   ],
   "source": [
    "#check the data type for each column\n",
    "df_samsung.info()"
   ]
  },
  {
   "cell_type": "code",
   "execution_count": 7,
   "id": "9c5dcb80-8d60-40a7-bdea-1dc87d6bc51c",
   "metadata": {},
   "outputs": [
    {
     "data": {
      "text/html": [
       "<div>\n",
       "<style scoped>\n",
       "    .dataframe tbody tr th:only-of-type {\n",
       "        vertical-align: middle;\n",
       "    }\n",
       "\n",
       "    .dataframe tbody tr th {\n",
       "        vertical-align: top;\n",
       "    }\n",
       "\n",
       "    .dataframe thead th {\n",
       "        text-align: right;\n",
       "    }\n",
       "</style>\n",
       "<table border=\"1\" class=\"dataframe\">\n",
       "  <thead>\n",
       "    <tr style=\"text-align: right;\">\n",
       "      <th></th>\n",
       "      <th>stock_price</th>\n",
       "    </tr>\n",
       "  </thead>\n",
       "  <tbody>\n",
       "    <tr>\n",
       "      <th>count</th>\n",
       "      <td>5786.000000</td>\n",
       "    </tr>\n",
       "    <tr>\n",
       "      <th>mean</th>\n",
       "      <td>26818.534393</td>\n",
       "    </tr>\n",
       "    <tr>\n",
       "      <th>std</th>\n",
       "      <td>21068.656166</td>\n",
       "    </tr>\n",
       "    <tr>\n",
       "      <th>min</th>\n",
       "      <td>2730.000000</td>\n",
       "    </tr>\n",
       "    <tr>\n",
       "      <th>25%</th>\n",
       "      <td>10705.000000</td>\n",
       "    </tr>\n",
       "    <tr>\n",
       "      <th>50%</th>\n",
       "      <td>18770.000000</td>\n",
       "    </tr>\n",
       "    <tr>\n",
       "      <th>75%</th>\n",
       "      <td>42650.000000</td>\n",
       "    </tr>\n",
       "    <tr>\n",
       "      <th>max</th>\n",
       "      <td>91000.000000</td>\n",
       "    </tr>\n",
       "  </tbody>\n",
       "</table>\n",
       "</div>"
      ],
      "text/plain": [
       "        stock_price\n",
       "count   5786.000000\n",
       "mean   26818.534393\n",
       "std    21068.656166\n",
       "min     2730.000000\n",
       "25%    10705.000000\n",
       "50%    18770.000000\n",
       "75%    42650.000000\n",
       "max    91000.000000"
      ]
     },
     "execution_count": 7,
     "metadata": {},
     "output_type": "execute_result"
    }
   ],
   "source": [
    "#summary statistics for numeric col\n",
    "df_samsung.describe()"
   ]
  },
  {
   "cell_type": "markdown",
   "id": "e8dc87f2-4f6f-4719-90ac-3bba9d8cb678",
   "metadata": {},
   "source": [
    "## **2. Data Preprocessing**\n",
    "### Two important preprocessings for time series data analysis"
   ]
  },
  {
   "cell_type": "markdown",
   "id": "42c53a66-2aed-43c0-ad74-4845bffab5b3",
   "metadata": {},
   "source": [
    "### **2.1. Timestamp: convert date-string to datetime**"
   ]
  },
  {
   "cell_type": "code",
   "execution_count": 8,
   "id": "01941d5f-46fd-4f08-a8fd-d02d325ac294",
   "metadata": {},
   "outputs": [
    {
     "data": {
      "text/plain": [
       "date                    2000/01/04\n",
       "symbol                  KRX:005930\n",
       "entity_name    Samsung_Electronics\n",
       "stock_price                   6110\n",
       "Name: 0, dtype: object"
      ]
     },
     "execution_count": 8,
     "metadata": {},
     "output_type": "execute_result"
    }
   ],
   "source": [
    "#check the first row of the data\n",
    "df_samsung.loc[0]"
   ]
  },
  {
   "cell_type": "code",
   "execution_count": 9,
   "id": "4c873571-dbbe-4776-99cd-01c3dfc6675f",
   "metadata": {},
   "outputs": [
    {
     "data": {
      "text/plain": [
       "'2000/01/04'"
      ]
     },
     "execution_count": 9,
     "metadata": {},
     "output_type": "execute_result"
    }
   ],
   "source": [
    "#cehck the first column data from the first row of the data\n",
    "df_samsung.loc[0]['date']"
   ]
  },
  {
   "cell_type": "code",
   "execution_count": 10,
   "id": "7fe9df89-02cc-4666-abe6-48b7471de004",
   "metadata": {},
   "outputs": [
    {
     "data": {
      "text/plain": [
       "str"
      ]
     },
     "execution_count": 10,
     "metadata": {},
     "output_type": "execute_result"
    }
   ],
   "source": [
    "#check the data type\n",
    "type(df_samsung.loc[0]['date'])"
   ]
  },
  {
   "cell_type": "markdown",
   "id": "0ea61507-a024-43a3-a0e2-7a47b36f130a",
   "metadata": {},
   "source": [
    "> Currently, dates are mere strings\\\n",
    "> Need to covert dates into data type suited for time series data analysis\\\n",
    "> The data type for that is \"pandas datetime\"\\\n",
    "> This is called, **Timestamp** "
   ]
  },
  {
   "cell_type": "code",
   "execution_count": 11,
   "id": "5466f731-9bd4-4eaa-a12b-88578483764c",
   "metadata": {},
   "outputs": [],
   "source": [
    "#Timestamp\n",
    "df_samsung['date'] = pd.to_datetime(df_samsung['date'])"
   ]
  },
  {
   "cell_type": "code",
   "execution_count": 12,
   "id": "94ee9d4f-4c90-4fbb-9a8b-10e62ffa682f",
   "metadata": {},
   "outputs": [
    {
     "data": {
      "text/plain": [
       "Timestamp('2000-01-04 00:00:00')"
      ]
     },
     "execution_count": 12,
     "metadata": {},
     "output_type": "execute_result"
    }
   ],
   "source": [
    "#Then, it will say it is timestamp, not mere string\n",
    "df_samsung.loc[0]['date']"
   ]
  },
  {
   "cell_type": "code",
   "execution_count": 13,
   "id": "bd6669a9-400e-4de5-af3e-4d554fbfadcc",
   "metadata": {},
   "outputs": [
    {
     "data": {
      "text/plain": [
       "pandas._libs.tslibs.timestamps.Timestamp"
      ]
     },
     "execution_count": 13,
     "metadata": {},
     "output_type": "execute_result"
    }
   ],
   "source": [
    "#Also, type function will celarly say it is Timestamp data type\n",
    "type(df_samsung.loc[0]['date'])"
   ]
  },
  {
   "cell_type": "code",
   "execution_count": 14,
   "id": "0aae6fe1-9e65-4596-9c50-0342e79af006",
   "metadata": {},
   "outputs": [
    {
     "name": "stdout",
     "output_type": "stream",
     "text": [
      "<class 'pandas.core.frame.DataFrame'>\n",
      "RangeIndex: 5786 entries, 0 to 5785\n",
      "Data columns (total 4 columns):\n",
      " #   Column       Non-Null Count  Dtype         \n",
      "---  ------       --------------  -----         \n",
      " 0   date         5786 non-null   datetime64[ns]\n",
      " 1   symbol       5786 non-null   object        \n",
      " 2   entity_name  5786 non-null   object        \n",
      " 3   stock_price  5786 non-null   int64         \n",
      "dtypes: datetime64[ns](1), int64(1), object(2)\n",
      "memory usage: 180.9+ KB\n"
     ]
    }
   ],
   "source": [
    "#before, 'date' was object Dtype. Now it is datatime64\n",
    "df_samsung.info()"
   ]
  },
  {
   "cell_type": "markdown",
   "id": "1fc2fe3e-f61d-4fae-b8b0-7dab6a69d7c1",
   "metadata": {},
   "source": [
    "### **2.2. Indexing: Replace index with date**"
   ]
  },
  {
   "cell_type": "code",
   "execution_count": 15,
   "id": "cf29f705-187f-4d79-8c91-9b5af2b4b175",
   "metadata": {},
   "outputs": [
    {
     "data": {
      "text/html": [
       "<div>\n",
       "<style scoped>\n",
       "    .dataframe tbody tr th:only-of-type {\n",
       "        vertical-align: middle;\n",
       "    }\n",
       "\n",
       "    .dataframe tbody tr th {\n",
       "        vertical-align: top;\n",
       "    }\n",
       "\n",
       "    .dataframe thead th {\n",
       "        text-align: right;\n",
       "    }\n",
       "</style>\n",
       "<table border=\"1\" class=\"dataframe\">\n",
       "  <thead>\n",
       "    <tr style=\"text-align: right;\">\n",
       "      <th></th>\n",
       "      <th>date</th>\n",
       "      <th>symbol</th>\n",
       "      <th>entity_name</th>\n",
       "      <th>stock_price</th>\n",
       "    </tr>\n",
       "  </thead>\n",
       "  <tbody>\n",
       "    <tr>\n",
       "      <th>0</th>\n",
       "      <td>2000-01-04</td>\n",
       "      <td>KRX:005930</td>\n",
       "      <td>Samsung_Electronics</td>\n",
       "      <td>6110</td>\n",
       "    </tr>\n",
       "    <tr>\n",
       "      <th>1</th>\n",
       "      <td>2000-01-05</td>\n",
       "      <td>KRX:005930</td>\n",
       "      <td>Samsung_Electronics</td>\n",
       "      <td>5580</td>\n",
       "    </tr>\n",
       "    <tr>\n",
       "      <th>2</th>\n",
       "      <td>2000-01-06</td>\n",
       "      <td>KRX:005930</td>\n",
       "      <td>Samsung_Electronics</td>\n",
       "      <td>5620</td>\n",
       "    </tr>\n",
       "    <tr>\n",
       "      <th>3</th>\n",
       "      <td>2000-01-07</td>\n",
       "      <td>KRX:005930</td>\n",
       "      <td>Samsung_Electronics</td>\n",
       "      <td>5540</td>\n",
       "    </tr>\n",
       "    <tr>\n",
       "      <th>4</th>\n",
       "      <td>2000-01-10</td>\n",
       "      <td>KRX:005930</td>\n",
       "      <td>Samsung_Electronics</td>\n",
       "      <td>5770</td>\n",
       "    </tr>\n",
       "  </tbody>\n",
       "</table>\n",
       "</div>"
      ],
      "text/plain": [
       "        date      symbol          entity_name  stock_price\n",
       "0 2000-01-04  KRX:005930  Samsung_Electronics         6110\n",
       "1 2000-01-05  KRX:005930  Samsung_Electronics         5580\n",
       "2 2000-01-06  KRX:005930  Samsung_Electronics         5620\n",
       "3 2000-01-07  KRX:005930  Samsung_Electronics         5540\n",
       "4 2000-01-10  KRX:005930  Samsung_Electronics         5770"
      ]
     },
     "execution_count": 15,
     "metadata": {},
     "output_type": "execute_result"
    }
   ],
   "source": [
    "#current: 0-indexed\n",
    "df_samsung.head()"
   ]
  },
  {
   "cell_type": "code",
   "execution_count": 16,
   "id": "c560abe4-111f-4df2-bb4b-5a2eff73157e",
   "metadata": {},
   "outputs": [],
   "source": [
    "#Set datetime as index\n",
    "df_samsung = df_samsung.set_index('date')"
   ]
  },
  {
   "cell_type": "code",
   "execution_count": 17,
   "id": "bd7428e6-62d0-4bf3-92b6-5c041f3fc548",
   "metadata": {},
   "outputs": [
    {
     "data": {
      "text/html": [
       "<div>\n",
       "<style scoped>\n",
       "    .dataframe tbody tr th:only-of-type {\n",
       "        vertical-align: middle;\n",
       "    }\n",
       "\n",
       "    .dataframe tbody tr th {\n",
       "        vertical-align: top;\n",
       "    }\n",
       "\n",
       "    .dataframe thead th {\n",
       "        text-align: right;\n",
       "    }\n",
       "</style>\n",
       "<table border=\"1\" class=\"dataframe\">\n",
       "  <thead>\n",
       "    <tr style=\"text-align: right;\">\n",
       "      <th></th>\n",
       "      <th>symbol</th>\n",
       "      <th>entity_name</th>\n",
       "      <th>stock_price</th>\n",
       "    </tr>\n",
       "    <tr>\n",
       "      <th>date</th>\n",
       "      <th></th>\n",
       "      <th></th>\n",
       "      <th></th>\n",
       "    </tr>\n",
       "  </thead>\n",
       "  <tbody>\n",
       "    <tr>\n",
       "      <th>2000-01-04</th>\n",
       "      <td>KRX:005930</td>\n",
       "      <td>Samsung_Electronics</td>\n",
       "      <td>6110</td>\n",
       "    </tr>\n",
       "    <tr>\n",
       "      <th>2000-01-05</th>\n",
       "      <td>KRX:005930</td>\n",
       "      <td>Samsung_Electronics</td>\n",
       "      <td>5580</td>\n",
       "    </tr>\n",
       "    <tr>\n",
       "      <th>2000-01-06</th>\n",
       "      <td>KRX:005930</td>\n",
       "      <td>Samsung_Electronics</td>\n",
       "      <td>5620</td>\n",
       "    </tr>\n",
       "    <tr>\n",
       "      <th>2000-01-07</th>\n",
       "      <td>KRX:005930</td>\n",
       "      <td>Samsung_Electronics</td>\n",
       "      <td>5540</td>\n",
       "    </tr>\n",
       "    <tr>\n",
       "      <th>2000-01-10</th>\n",
       "      <td>KRX:005930</td>\n",
       "      <td>Samsung_Electronics</td>\n",
       "      <td>5770</td>\n",
       "    </tr>\n",
       "  </tbody>\n",
       "</table>\n",
       "</div>"
      ],
      "text/plain": [
       "                symbol          entity_name  stock_price\n",
       "date                                                    \n",
       "2000-01-04  KRX:005930  Samsung_Electronics         6110\n",
       "2000-01-05  KRX:005930  Samsung_Electronics         5580\n",
       "2000-01-06  KRX:005930  Samsung_Electronics         5620\n",
       "2000-01-07  KRX:005930  Samsung_Electronics         5540\n",
       "2000-01-10  KRX:005930  Samsung_Electronics         5770"
      ]
     },
     "execution_count": 17,
     "metadata": {},
     "output_type": "execute_result"
    }
   ],
   "source": [
    "#now: date indexed (date is boldfaced)\n",
    "df_samsung.head()"
   ]
  },
  {
   "cell_type": "code",
   "execution_count": 18,
   "id": "c22423f4-1307-42bd-b096-03843eaf92f7",
   "metadata": {},
   "outputs": [
    {
     "data": {
      "text/plain": [
       "symbol                  KRX:005930\n",
       "entity_name    Samsung_Electronics\n",
       "stock_price                  59500\n",
       "Name: 2020-01-10 00:00:00, dtype: object"
      ]
     },
     "execution_count": 18,
     "metadata": {},
     "output_type": "execute_result"
    }
   ],
   "source": [
    "#df_samsung.loc[0] #error : 0 is no more an index\n",
    "df_samsung.loc['2020-01-10']"
   ]
  },
  {
   "cell_type": "markdown",
   "id": "052c0b16-7bb9-4391-9ac2-f3e4d385d3ce",
   "metadata": {},
   "source": [
    "#### **Slicing the dataframe for a range of dates**"
   ]
  },
  {
   "cell_type": "code",
   "execution_count": 19,
   "id": "471b519c-ee16-4208-b16e-d1fd060318a0",
   "metadata": {},
   "outputs": [
    {
     "data": {
      "text/html": [
       "<div>\n",
       "<style scoped>\n",
       "    .dataframe tbody tr th:only-of-type {\n",
       "        vertical-align: middle;\n",
       "    }\n",
       "\n",
       "    .dataframe tbody tr th {\n",
       "        vertical-align: top;\n",
       "    }\n",
       "\n",
       "    .dataframe thead th {\n",
       "        text-align: right;\n",
       "    }\n",
       "</style>\n",
       "<table border=\"1\" class=\"dataframe\">\n",
       "  <thead>\n",
       "    <tr style=\"text-align: right;\">\n",
       "      <th></th>\n",
       "      <th>symbol</th>\n",
       "      <th>entity_name</th>\n",
       "      <th>stock_price</th>\n",
       "    </tr>\n",
       "    <tr>\n",
       "      <th>date</th>\n",
       "      <th></th>\n",
       "      <th></th>\n",
       "      <th></th>\n",
       "    </tr>\n",
       "  </thead>\n",
       "  <tbody>\n",
       "    <tr>\n",
       "      <th>2020-03-02</th>\n",
       "      <td>KRX:005930</td>\n",
       "      <td>Samsung_Electronics</td>\n",
       "      <td>55000</td>\n",
       "    </tr>\n",
       "    <tr>\n",
       "      <th>2020-03-03</th>\n",
       "      <td>KRX:005930</td>\n",
       "      <td>Samsung_Electronics</td>\n",
       "      <td>55400</td>\n",
       "    </tr>\n",
       "    <tr>\n",
       "      <th>2020-03-04</th>\n",
       "      <td>KRX:005930</td>\n",
       "      <td>Samsung_Electronics</td>\n",
       "      <td>57400</td>\n",
       "    </tr>\n",
       "    <tr>\n",
       "      <th>2020-03-05</th>\n",
       "      <td>KRX:005930</td>\n",
       "      <td>Samsung_Electronics</td>\n",
       "      <td>57800</td>\n",
       "    </tr>\n",
       "    <tr>\n",
       "      <th>2020-03-06</th>\n",
       "      <td>KRX:005930</td>\n",
       "      <td>Samsung_Electronics</td>\n",
       "      <td>56500</td>\n",
       "    </tr>\n",
       "    <tr>\n",
       "      <th>2020-03-09</th>\n",
       "      <td>KRX:005930</td>\n",
       "      <td>Samsung_Electronics</td>\n",
       "      <td>54200</td>\n",
       "    </tr>\n",
       "    <tr>\n",
       "      <th>2020-03-10</th>\n",
       "      <td>KRX:005930</td>\n",
       "      <td>Samsung_Electronics</td>\n",
       "      <td>54600</td>\n",
       "    </tr>\n",
       "  </tbody>\n",
       "</table>\n",
       "</div>"
      ],
      "text/plain": [
       "                symbol          entity_name  stock_price\n",
       "date                                                    \n",
       "2020-03-02  KRX:005930  Samsung_Electronics        55000\n",
       "2020-03-03  KRX:005930  Samsung_Electronics        55400\n",
       "2020-03-04  KRX:005930  Samsung_Electronics        57400\n",
       "2020-03-05  KRX:005930  Samsung_Electronics        57800\n",
       "2020-03-06  KRX:005930  Samsung_Electronics        56500\n",
       "2020-03-09  KRX:005930  Samsung_Electronics        54200\n",
       "2020-03-10  KRX:005930  Samsung_Electronics        54600"
      ]
     },
     "execution_count": 19,
     "metadata": {},
     "output_type": "execute_result"
    }
   ],
   "source": [
    "df_samsung.loc['2020-03-01': '2020-03-10']"
   ]
  },
  {
   "cell_type": "markdown",
   "id": "f3dc99e8-4687-4486-9565-54a8323dea15",
   "metadata": {},
   "source": [
    "## **3. Visualization**"
   ]
  },
  {
   "cell_type": "code",
   "execution_count": 20,
   "id": "23387a2a-623c-4b22-89c7-f21bd9dc65fd",
   "metadata": {},
   "outputs": [],
   "source": [
    "import matplotlib.pyplot as plt"
   ]
  },
  {
   "cell_type": "code",
   "execution_count": 21,
   "id": "fdfe7f87-5f27-426d-9d6c-edfe35dae9f0",
   "metadata": {},
   "outputs": [
    {
     "data": {
      "image/png": "[encoded data removed]",
      "text/plain": [
       "<Figure size 640x480 with 1 Axes>"
      ]
     },
     "metadata": {},
     "output_type": "display_data"
    }
   ],
   "source": [
    "plt.plot(df_samsung['stock_price'])\n",
    "plt.show()"
   ]
  },
  {
   "cell_type": "markdown",
   "id": "98ef51aa-9507-4501-beea-7c05e9f02606",
   "metadata": {},
   "source": [
    "### Event Study\n",
    "#### Japan export restrictions: 2019-06-30\n",
    "#### See its impact on the stock price of Samsung Electronics"
   ]
  },
  {
   "cell_type": "markdown",
   "id": "44131c29-66fd-4b70-b3d5-5081fcd799b2",
   "metadata": {},
   "source": [
    "> Note\\\n",
    "> There was a trade dispute between Japan and South Korea in 2019 starting with Japan imposing export restrictions on industrial matrials."
   ]
  },
  {
   "cell_type": "code",
   "execution_count": 22,
   "id": "d2eb4147-88e7-4433-af91-f33f312bffa2",
   "metadata": {},
   "outputs": [],
   "source": [
    "#sub sample\n",
    "df_sub = df_samsung.loc['2019-06-20' : '2019-07-30']"
   ]
  },
  {
   "cell_type": "code",
   "execution_count": 23,
   "id": "ff3f9749-2fa3-4188-b554-48d31b970839",
   "metadata": {},
   "outputs": [
    {
     "data": {
      "image/png": "[encoded data removed]",
      "text/plain": [
       "<Figure size 640x480 with 1 Axes>"
      ]
     },
     "metadata": {},
     "output_type": "display_data"
    }
   ],
   "source": [
    "plt.plot(df_sub['stock_price'])\n",
    "\n",
    "#tilt x-axis ticks\n",
    "plt.xticks(rotation = 30)\n",
    "\n",
    "plt.show()"
   ]
  },
  {
   "cell_type": "markdown",
   "id": "2d572a94-d9e1-4952-ab33-79de130f40ca",
   "metadata": {},
   "source": [
    "> We can see the negative impact quickly dissipated and no prolonged impact is observed"
   ]
  },
  {
   "cell_type": "markdown",
   "id": "3fc3e0fe-374f-48f4-aa81-bf71055af0e1",
   "metadata": {},
   "source": [
    "The main purpose of visualization is to get across the author's argument to other people in a clear way. To do so, in this case, we are going to add an arrow to the graph indicating the specific time spot when the event occurred."
   ]
  },
  {
   "cell_type": "code",
   "execution_count": 24,
   "id": "90d7fc72-a98a-46ca-869f-227d42ace5a3",
   "metadata": {},
   "outputs": [
    {
     "data": {
      "text/plain": [
       "symbol                  KRX:005930\n",
       "entity_name    Samsung_Electronics\n",
       "stock_price                  46600\n",
       "Name: 2019-07-01 00:00:00, dtype: object"
      ]
     },
     "execution_count": 24,
     "metadata": {},
     "output_type": "execute_result"
    }
   ],
   "source": [
    "#first business day after the restriction annoncement on 2019-06-30\n",
    "df_sub.loc['2019-06-30':].iloc[0]"
   ]
  },
  {
   "cell_type": "code",
   "execution_count": 25,
   "id": "2b628636-fef1-4c21-97dc-8edf3bc87a8c",
   "metadata": {},
   "outputs": [],
   "source": [
    "#store that information in a new object, event\n",
    "event = df_sub.loc['2019-06-30':].iloc[0]"
   ]
  },
  {
   "cell_type": "code",
   "execution_count": 26,
   "id": "91d645ad-2309-4d0a-ab5e-160822aec864",
   "metadata": {},
   "outputs": [
    {
     "data": {
      "text/plain": [
       "Timestamp('2019-07-01 00:00:00')"
      ]
     },
     "execution_count": 26,
     "metadata": {},
     "output_type": "execute_result"
    }
   ],
   "source": [
    "event.name"
   ]
  },
  {
   "cell_type": "code",
   "execution_count": 27,
   "id": "57600244-eb18-4263-a21d-bc71cef7dd0a",
   "metadata": {},
   "outputs": [
    {
     "data": {
      "text/plain": [
       "46600"
      ]
     },
     "execution_count": 27,
     "metadata": {},
     "output_type": "execute_result"
    }
   ],
   "source": [
    "event['stock_price']"
   ]
  },
  {
   "cell_type": "code",
   "execution_count": 28,
   "id": "f752db30-2995-4d40-b1cd-4dc6c2da16be",
   "metadata": {},
   "outputs": [],
   "source": [
    "# arrow\n",
    "arrowprops = dict(\n",
    "    arrowstyle = \"->\",\n",
    "    connectionstyle = \"angle, angleA = 0, angleB = 90, rad = 10\")"
   ]
  },
  {
   "cell_type": "code",
   "execution_count": 29,
   "id": "c9439732-44db-4aa2-9d2d-3de429101d4e",
   "metadata": {},
   "outputs": [
    {
     "data": {
      "image/png": "[encoded data removed]",
      "text/plain": [
       "<Figure size 640x480 with 1 Axes>"
      ]
     },
     "metadata": {},
     "output_type": "display_data"
    }
   ],
   "source": [
    "plt.plot(df_sub['stock_price'])\n",
    "plt.xticks(rotation = 30)\n",
    "\n",
    "plt.annotate(\n",
    "    #double quote due to a single quote inside\n",
    "    \"Japan's export restriction\",\n",
    "    \n",
    "    #date, price\n",
    "    xy = (event.name, event['stock_price']),\n",
    "\n",
    "    xytext = (20, 20),\n",
    "    textcoords = 'offset points',\n",
    "\n",
    "    #to add an arrow\n",
    "    arrowprops = arrowprops,\n",
    ")\n",
    "\n",
    "plt.show()"
   ]
  },
  {
   "cell_type": "markdown",
   "id": "8c39fb8e-6057-46a8-82e8-73f33b75bea4",
   "metadata": {},
   "source": [
    "> Now when exactly the event occured is clearly visible"
   ]
  },
  {
   "cell_type": "markdown",
   "id": "6e9f84d5-c699-41b3-9654-73af805228a8",
   "metadata": {},
   "source": []
  },
  {
   "cell_type": "markdown",
   "id": "934d28dd-2019-46c6-bc50-cde184d83f87",
   "metadata": {},
   "source": []
  },
  {
   "cell_type": "markdown",
   "id": "91a6a9e1-9804-460d-8bbc-11e5363d28ea",
   "metadata": {},
   "source": [
    "# **From importing two data files to comparing and plotting them**"
   ]
  },
  {
   "cell_type": "markdown",
   "id": "41ae9a28-bf3d-4400-9422-090379dfcfaf",
   "metadata": {},
   "source": [
    "## **1. Import two data files and merge them**"
   ]
  },
  {
   "cell_type": "code",
   "execution_count": 30,
   "id": "61dedc13-7c91-40c9-a1b9-353ef1f60d9b",
   "metadata": {},
   "outputs": [],
   "source": [
    "#import additional excel data file\n",
    "df_lg = pd.read_excel('data/lg_stock_price.xlsx')"
   ]
  },
  {
   "cell_type": "code",
   "execution_count": 31,
   "id": "0613a34c-d3ef-42e1-b80d-3fb4e4c17c41",
   "metadata": {},
   "outputs": [],
   "source": [
    "#preprocess I -> timestamp\n",
    "df_lg['date'] = pd.to_datetime(df_lg['date'])"
   ]
  },
  {
   "cell_type": "code",
   "execution_count": 32,
   "id": "8e044f16-3bb9-4dbb-9d65-697d41c07bda",
   "metadata": {},
   "outputs": [],
   "source": [
    "#preprocess II -> date indexing\n",
    "df_lg = df_lg.set_index('date')"
   ]
  },
  {
   "cell_type": "code",
   "execution_count": 33,
   "id": "654f4877-a813-4f43-b6c6-d383a329f42c",
   "metadata": {},
   "outputs": [
    {
     "data": {
      "text/html": [
       "<div>\n",
       "<style scoped>\n",
       "    .dataframe tbody tr th:only-of-type {\n",
       "        vertical-align: middle;\n",
       "    }\n",
       "\n",
       "    .dataframe tbody tr th {\n",
       "        vertical-align: top;\n",
       "    }\n",
       "\n",
       "    .dataframe thead th {\n",
       "        text-align: right;\n",
       "    }\n",
       "</style>\n",
       "<table border=\"1\" class=\"dataframe\">\n",
       "  <thead>\n",
       "    <tr style=\"text-align: right;\">\n",
       "      <th></th>\n",
       "      <th>symbol</th>\n",
       "      <th>entity_name</th>\n",
       "      <th>stock_price</th>\n",
       "    </tr>\n",
       "    <tr>\n",
       "      <th>date</th>\n",
       "      <th></th>\n",
       "      <th></th>\n",
       "      <th></th>\n",
       "    </tr>\n",
       "  </thead>\n",
       "  <tbody>\n",
       "    <tr>\n",
       "      <th>2002-04-22</th>\n",
       "      <td>KRX:066570</td>\n",
       "      <td>LG_Electronics</td>\n",
       "      <td>62936</td>\n",
       "    </tr>\n",
       "    <tr>\n",
       "      <th>2002-04-23</th>\n",
       "      <td>KRX:066570</td>\n",
       "      <td>LG_Electronics</td>\n",
       "      <td>57463</td>\n",
       "    </tr>\n",
       "    <tr>\n",
       "      <th>2002-04-24</th>\n",
       "      <td>KRX:066570</td>\n",
       "      <td>LG_Electronics</td>\n",
       "      <td>55704</td>\n",
       "    </tr>\n",
       "    <tr>\n",
       "      <th>2002-04-25</th>\n",
       "      <td>KRX:066570</td>\n",
       "      <td>LG_Electronics</td>\n",
       "      <td>51209</td>\n",
       "    </tr>\n",
       "    <tr>\n",
       "      <th>2002-04-26</th>\n",
       "      <td>KRX:066570</td>\n",
       "      <td>LG_Electronics</td>\n",
       "      <td>53554</td>\n",
       "    </tr>\n",
       "  </tbody>\n",
       "</table>\n",
       "</div>"
      ],
      "text/plain": [
       "                symbol     entity_name  stock_price\n",
       "date                                               \n",
       "2002-04-22  KRX:066570  LG_Electronics        62936\n",
       "2002-04-23  KRX:066570  LG_Electronics        57463\n",
       "2002-04-24  KRX:066570  LG_Electronics        55704\n",
       "2002-04-25  KRX:066570  LG_Electronics        51209\n",
       "2002-04-26  KRX:066570  LG_Electronics        53554"
      ]
     },
     "execution_count": 33,
     "metadata": {},
     "output_type": "execute_result"
    }
   ],
   "source": [
    "#check the first 5 rows\n",
    "df_lg.head()"
   ]
  },
  {
   "cell_type": "code",
   "execution_count": 34,
   "id": "300832ce-d2c0-41e7-a9c5-a2f8ad697ce8",
   "metadata": {},
   "outputs": [
    {
     "data": {
      "text/html": [
       "<div>\n",
       "<style scoped>\n",
       "    .dataframe tbody tr th:only-of-type {\n",
       "        vertical-align: middle;\n",
       "    }\n",
       "\n",
       "    .dataframe tbody tr th {\n",
       "        vertical-align: top;\n",
       "    }\n",
       "\n",
       "    .dataframe thead th {\n",
       "        text-align: right;\n",
       "    }\n",
       "</style>\n",
       "<table border=\"1\" class=\"dataframe\">\n",
       "  <thead>\n",
       "    <tr style=\"text-align: right;\">\n",
       "      <th></th>\n",
       "      <th>symbol</th>\n",
       "      <th>entity_name</th>\n",
       "      <th>stock_price</th>\n",
       "    </tr>\n",
       "    <tr>\n",
       "      <th>date</th>\n",
       "      <th></th>\n",
       "      <th></th>\n",
       "      <th></th>\n",
       "    </tr>\n",
       "  </thead>\n",
       "  <tbody>\n",
       "    <tr>\n",
       "      <th>2000-01-04</th>\n",
       "      <td>KRX:005930</td>\n",
       "      <td>Samsung_Electronics</td>\n",
       "      <td>6110</td>\n",
       "    </tr>\n",
       "    <tr>\n",
       "      <th>2000-01-05</th>\n",
       "      <td>KRX:005930</td>\n",
       "      <td>Samsung_Electronics</td>\n",
       "      <td>5580</td>\n",
       "    </tr>\n",
       "    <tr>\n",
       "      <th>2000-01-06</th>\n",
       "      <td>KRX:005930</td>\n",
       "      <td>Samsung_Electronics</td>\n",
       "      <td>5620</td>\n",
       "    </tr>\n",
       "    <tr>\n",
       "      <th>2000-01-07</th>\n",
       "      <td>KRX:005930</td>\n",
       "      <td>Samsung_Electronics</td>\n",
       "      <td>5540</td>\n",
       "    </tr>\n",
       "    <tr>\n",
       "      <th>2000-01-10</th>\n",
       "      <td>KRX:005930</td>\n",
       "      <td>Samsung_Electronics</td>\n",
       "      <td>5770</td>\n",
       "    </tr>\n",
       "  </tbody>\n",
       "</table>\n",
       "</div>"
      ],
      "text/plain": [
       "                symbol          entity_name  stock_price\n",
       "date                                                    \n",
       "2000-01-04  KRX:005930  Samsung_Electronics         6110\n",
       "2000-01-05  KRX:005930  Samsung_Electronics         5580\n",
       "2000-01-06  KRX:005930  Samsung_Electronics         5620\n",
       "2000-01-07  KRX:005930  Samsung_Electronics         5540\n",
       "2000-01-10  KRX:005930  Samsung_Electronics         5770"
      ]
     },
     "execution_count": 34,
     "metadata": {},
     "output_type": "execute_result"
    }
   ],
   "source": [
    "#check the previous date fire\n",
    "df_samsung.head()"
   ]
  },
  {
   "cell_type": "markdown",
   "id": "27f5cd0a-1651-416e-9fbf-3555ec087830",
   "metadata": {},
   "source": [
    "#### **Rename columns to prevent duplicate columns**"
   ]
  },
  {
   "cell_type": "code",
   "execution_count": 35,
   "id": "870ab015-e35b-4bc6-b546-0fb36f751d5b",
   "metadata": {},
   "outputs": [],
   "source": [
    "df_samsung = df_samsung.rename(columns = {'stock_price' : 'samsung'})"
   ]
  },
  {
   "cell_type": "code",
   "execution_count": 36,
   "id": "be5caa77-1bac-48b4-adef-a9083db387e7",
   "metadata": {},
   "outputs": [
    {
     "data": {
      "text/html": [
       "<div>\n",
       "<style scoped>\n",
       "    .dataframe tbody tr th:only-of-type {\n",
       "        vertical-align: middle;\n",
       "    }\n",
       "\n",
       "    .dataframe tbody tr th {\n",
       "        vertical-align: top;\n",
       "    }\n",
       "\n",
       "    .dataframe thead th {\n",
       "        text-align: right;\n",
       "    }\n",
       "</style>\n",
       "<table border=\"1\" class=\"dataframe\">\n",
       "  <thead>\n",
       "    <tr style=\"text-align: right;\">\n",
       "      <th></th>\n",
       "      <th>symbol</th>\n",
       "      <th>entity_name</th>\n",
       "      <th>samsung</th>\n",
       "    </tr>\n",
       "    <tr>\n",
       "      <th>date</th>\n",
       "      <th></th>\n",
       "      <th></th>\n",
       "      <th></th>\n",
       "    </tr>\n",
       "  </thead>\n",
       "  <tbody>\n",
       "    <tr>\n",
       "      <th>2000-01-04</th>\n",
       "      <td>KRX:005930</td>\n",
       "      <td>Samsung_Electronics</td>\n",
       "      <td>6110</td>\n",
       "    </tr>\n",
       "    <tr>\n",
       "      <th>2000-01-05</th>\n",
       "      <td>KRX:005930</td>\n",
       "      <td>Samsung_Electronics</td>\n",
       "      <td>5580</td>\n",
       "    </tr>\n",
       "  </tbody>\n",
       "</table>\n",
       "</div>"
      ],
      "text/plain": [
       "                symbol          entity_name  samsung\n",
       "date                                                \n",
       "2000-01-04  KRX:005930  Samsung_Electronics     6110\n",
       "2000-01-05  KRX:005930  Samsung_Electronics     5580"
      ]
     },
     "execution_count": 36,
     "metadata": {},
     "output_type": "execute_result"
    }
   ],
   "source": [
    "df_samsung.head(2)"
   ]
  },
  {
   "cell_type": "code",
   "execution_count": 37,
   "id": "b058dc2d-c057-4b31-8f01-af3eb72d3e9f",
   "metadata": {},
   "outputs": [],
   "source": [
    "df_lg = df_lg.rename(columns = {'stock_price' : 'lg'})"
   ]
  },
  {
   "cell_type": "code",
   "execution_count": 38,
   "id": "65a5d86e-3623-4f7b-ac5c-24a69c16306a",
   "metadata": {},
   "outputs": [
    {
     "data": {
      "text/html": [
       "<div>\n",
       "<style scoped>\n",
       "    .dataframe tbody tr th:only-of-type {\n",
       "        vertical-align: middle;\n",
       "    }\n",
       "\n",
       "    .dataframe tbody tr th {\n",
       "        vertical-align: top;\n",
       "    }\n",
       "\n",
       "    .dataframe thead th {\n",
       "        text-align: right;\n",
       "    }\n",
       "</style>\n",
       "<table border=\"1\" class=\"dataframe\">\n",
       "  <thead>\n",
       "    <tr style=\"text-align: right;\">\n",
       "      <th></th>\n",
       "      <th>symbol</th>\n",
       "      <th>entity_name</th>\n",
       "      <th>lg</th>\n",
       "    </tr>\n",
       "    <tr>\n",
       "      <th>date</th>\n",
       "      <th></th>\n",
       "      <th></th>\n",
       "      <th></th>\n",
       "    </tr>\n",
       "  </thead>\n",
       "  <tbody>\n",
       "    <tr>\n",
       "      <th>2002-04-22</th>\n",
       "      <td>KRX:066570</td>\n",
       "      <td>LG_Electronics</td>\n",
       "      <td>62936</td>\n",
       "    </tr>\n",
       "    <tr>\n",
       "      <th>2002-04-23</th>\n",
       "      <td>KRX:066570</td>\n",
       "      <td>LG_Electronics</td>\n",
       "      <td>57463</td>\n",
       "    </tr>\n",
       "  </tbody>\n",
       "</table>\n",
       "</div>"
      ],
      "text/plain": [
       "                symbol     entity_name     lg\n",
       "date                                         \n",
       "2002-04-22  KRX:066570  LG_Electronics  62936\n",
       "2002-04-23  KRX:066570  LG_Electronics  57463"
      ]
     },
     "execution_count": 38,
     "metadata": {},
     "output_type": "execute_result"
    }
   ],
   "source": [
    "df_lg.head(2)"
   ]
  },
  {
   "cell_type": "markdown",
   "id": "813ce330-0617-4a2c-8cca-cdfd9b682f2d",
   "metadata": {},
   "source": [
    "#### **Take only necessary columns from each table**"
   ]
  },
  {
   "cell_type": "code",
   "execution_count": 39,
   "id": "1d5fabcb-7918-4748-ad6d-06b39e65acec",
   "metadata": {},
   "outputs": [],
   "source": [
    "df_samsung = df_samsung[['samsung']]"
   ]
  },
  {
   "cell_type": "markdown",
   "id": "17cac163-7e8f-4810-991a-65fa42785730",
   "metadata": {},
   "source": [
    "> **Note: double bracket**\\\n",
    "> If single bracket is used, a single column will be extracted, which is not a pandas dataframe but pandas series.\\\n",
    "> If you happned to use single bracket, you need to convert it back to pandas dataframe. This process is presented below."
   ]
  },
  {
   "cell_type": "code",
   "execution_count": 40,
   "id": "3e1975c2-6d2e-4fba-b24f-aa291ab10954",
   "metadata": {},
   "outputs": [],
   "source": [
    "#df_samsung = df_samsung['samsung'].to_frame()"
   ]
  },
  {
   "cell_type": "code",
   "execution_count": 41,
   "id": "319643be-56fa-45b1-8bf5-e360ba5793a1",
   "metadata": {},
   "outputs": [],
   "source": [
    "#do the same for LG data\n",
    "df_lg = df_lg[['lg']]"
   ]
  },
  {
   "cell_type": "code",
   "execution_count": 42,
   "id": "fb37a978-5088-4ac7-a051-ce416b98950a",
   "metadata": {},
   "outputs": [
    {
     "data": {
      "text/html": [
       "<div>\n",
       "<style scoped>\n",
       "    .dataframe tbody tr th:only-of-type {\n",
       "        vertical-align: middle;\n",
       "    }\n",
       "\n",
       "    .dataframe tbody tr th {\n",
       "        vertical-align: top;\n",
       "    }\n",
       "\n",
       "    .dataframe thead th {\n",
       "        text-align: right;\n",
       "    }\n",
       "</style>\n",
       "<table border=\"1\" class=\"dataframe\">\n",
       "  <thead>\n",
       "    <tr style=\"text-align: right;\">\n",
       "      <th></th>\n",
       "      <th>samsung</th>\n",
       "    </tr>\n",
       "    <tr>\n",
       "      <th>date</th>\n",
       "      <th></th>\n",
       "    </tr>\n",
       "  </thead>\n",
       "  <tbody>\n",
       "    <tr>\n",
       "      <th>2000-01-04</th>\n",
       "      <td>6110</td>\n",
       "    </tr>\n",
       "    <tr>\n",
       "      <th>2000-01-05</th>\n",
       "      <td>5580</td>\n",
       "    </tr>\n",
       "    <tr>\n",
       "      <th>2000-01-06</th>\n",
       "      <td>5620</td>\n",
       "    </tr>\n",
       "  </tbody>\n",
       "</table>\n",
       "</div>"
      ],
      "text/plain": [
       "            samsung\n",
       "date               \n",
       "2000-01-04     6110\n",
       "2000-01-05     5580\n",
       "2000-01-06     5620"
      ]
     },
     "execution_count": 42,
     "metadata": {},
     "output_type": "execute_result"
    }
   ],
   "source": [
    "df_samsung.head(3)"
   ]
  },
  {
   "cell_type": "code",
   "execution_count": 43,
   "id": "89504607-fad4-4fef-84c9-ca44b92c2a5a",
   "metadata": {},
   "outputs": [
    {
     "data": {
      "text/html": [
       "<div>\n",
       "<style scoped>\n",
       "    .dataframe tbody tr th:only-of-type {\n",
       "        vertical-align: middle;\n",
       "    }\n",
       "\n",
       "    .dataframe tbody tr th {\n",
       "        vertical-align: top;\n",
       "    }\n",
       "\n",
       "    .dataframe thead th {\n",
       "        text-align: right;\n",
       "    }\n",
       "</style>\n",
       "<table border=\"1\" class=\"dataframe\">\n",
       "  <thead>\n",
       "    <tr style=\"text-align: right;\">\n",
       "      <th></th>\n",
       "      <th>lg</th>\n",
       "    </tr>\n",
       "    <tr>\n",
       "      <th>date</th>\n",
       "      <th></th>\n",
       "    </tr>\n",
       "  </thead>\n",
       "  <tbody>\n",
       "    <tr>\n",
       "      <th>2002-04-22</th>\n",
       "      <td>62936</td>\n",
       "    </tr>\n",
       "    <tr>\n",
       "      <th>2002-04-23</th>\n",
       "      <td>57463</td>\n",
       "    </tr>\n",
       "    <tr>\n",
       "      <th>2002-04-24</th>\n",
       "      <td>55704</td>\n",
       "    </tr>\n",
       "  </tbody>\n",
       "</table>\n",
       "</div>"
      ],
      "text/plain": [
       "               lg\n",
       "date             \n",
       "2002-04-22  62936\n",
       "2002-04-23  57463\n",
       "2002-04-24  55704"
      ]
     },
     "execution_count": 43,
     "metadata": {},
     "output_type": "execute_result"
    }
   ],
   "source": [
    "df_lg.head(3)"
   ]
  },
  {
   "cell_type": "markdown",
   "id": "38d6fffb-9645-4d84-a125-88ddb68904ab",
   "metadata": {},
   "source": [
    "#### **Merge two dataframes**\n",
    "\n",
    "1. Left join\n",
    "2. Right join\n",
    "3. Outher join\n",
    "4. Inner join"
   ]
  },
  {
   "cell_type": "code",
   "execution_count": 44,
   "id": "3096dd43-ffad-40ef-87d4-c45829a7ae56",
   "metadata": {},
   "outputs": [
    {
     "data": {
      "text/html": [
       "<div>\n",
       "<style scoped>\n",
       "    .dataframe tbody tr th:only-of-type {\n",
       "        vertical-align: middle;\n",
       "    }\n",
       "\n",
       "    .dataframe tbody tr th {\n",
       "        vertical-align: top;\n",
       "    }\n",
       "\n",
       "    .dataframe thead th {\n",
       "        text-align: right;\n",
       "    }\n",
       "</style>\n",
       "<table border=\"1\" class=\"dataframe\">\n",
       "  <thead>\n",
       "    <tr style=\"text-align: right;\">\n",
       "      <th></th>\n",
       "      <th>samsung</th>\n",
       "      <th>lg</th>\n",
       "    </tr>\n",
       "    <tr>\n",
       "      <th>date</th>\n",
       "      <th></th>\n",
       "      <th></th>\n",
       "    </tr>\n",
       "  </thead>\n",
       "  <tbody>\n",
       "    <tr>\n",
       "      <th>2000-01-04</th>\n",
       "      <td>6110</td>\n",
       "      <td>NaN</td>\n",
       "    </tr>\n",
       "    <tr>\n",
       "      <th>2000-01-05</th>\n",
       "      <td>5580</td>\n",
       "      <td>NaN</td>\n",
       "    </tr>\n",
       "    <tr>\n",
       "      <th>2000-01-06</th>\n",
       "      <td>5620</td>\n",
       "      <td>NaN</td>\n",
       "    </tr>\n",
       "    <tr>\n",
       "      <th>2000-01-07</th>\n",
       "      <td>5540</td>\n",
       "      <td>NaN</td>\n",
       "    </tr>\n",
       "    <tr>\n",
       "      <th>2000-01-10</th>\n",
       "      <td>5770</td>\n",
       "      <td>NaN</td>\n",
       "    </tr>\n",
       "    <tr>\n",
       "      <th>...</th>\n",
       "      <td>...</td>\n",
       "      <td>...</td>\n",
       "    </tr>\n",
       "    <tr>\n",
       "      <th>2023-06-02</th>\n",
       "      <td>72200</td>\n",
       "      <td>123100.0</td>\n",
       "    </tr>\n",
       "    <tr>\n",
       "      <th>2023-06-05</th>\n",
       "      <td>71700</td>\n",
       "      <td>127200.0</td>\n",
       "    </tr>\n",
       "    <tr>\n",
       "      <th>2023-06-07</th>\n",
       "      <td>71000</td>\n",
       "      <td>125700.0</td>\n",
       "    </tr>\n",
       "    <tr>\n",
       "      <th>2023-06-08</th>\n",
       "      <td>70900</td>\n",
       "      <td>126700.0</td>\n",
       "    </tr>\n",
       "    <tr>\n",
       "      <th>2023-06-09</th>\n",
       "      <td>72000</td>\n",
       "      <td>126200.0</td>\n",
       "    </tr>\n",
       "  </tbody>\n",
       "</table>\n",
       "<p>5786 rows × 2 columns</p>\n",
       "</div>"
      ],
      "text/plain": [
       "            samsung        lg\n",
       "date                         \n",
       "2000-01-04     6110       NaN\n",
       "2000-01-05     5580       NaN\n",
       "2000-01-06     5620       NaN\n",
       "2000-01-07     5540       NaN\n",
       "2000-01-10     5770       NaN\n",
       "...             ...       ...\n",
       "2023-06-02    72200  123100.0\n",
       "2023-06-05    71700  127200.0\n",
       "2023-06-07    71000  125700.0\n",
       "2023-06-08    70900  126700.0\n",
       "2023-06-09    72000  126200.0\n",
       "\n",
       "[5786 rows x 2 columns]"
      ]
     },
     "execution_count": 44,
     "metadata": {},
     "output_type": "execute_result"
    }
   ],
   "source": [
    "#left join\n",
    "df_samsung.join(df_lg)"
   ]
  },
  {
   "cell_type": "code",
   "execution_count": 45,
   "id": "61b80f28-eb4a-4488-9180-57b9f1d49385",
   "metadata": {},
   "outputs": [
    {
     "data": {
      "text/html": [
       "<div>\n",
       "<style scoped>\n",
       "    .dataframe tbody tr th:only-of-type {\n",
       "        vertical-align: middle;\n",
       "    }\n",
       "\n",
       "    .dataframe tbody tr th {\n",
       "        vertical-align: top;\n",
       "    }\n",
       "\n",
       "    .dataframe thead th {\n",
       "        text-align: right;\n",
       "    }\n",
       "</style>\n",
       "<table border=\"1\" class=\"dataframe\">\n",
       "  <thead>\n",
       "    <tr style=\"text-align: right;\">\n",
       "      <th></th>\n",
       "      <th>samsung</th>\n",
       "      <th>lg</th>\n",
       "    </tr>\n",
       "    <tr>\n",
       "      <th>date</th>\n",
       "      <th></th>\n",
       "      <th></th>\n",
       "    </tr>\n",
       "  </thead>\n",
       "  <tbody>\n",
       "    <tr>\n",
       "      <th>2002-04-22</th>\n",
       "      <td>8200</td>\n",
       "      <td>62936</td>\n",
       "    </tr>\n",
       "    <tr>\n",
       "      <th>2002-04-23</th>\n",
       "      <td>8540</td>\n",
       "      <td>57463</td>\n",
       "    </tr>\n",
       "    <tr>\n",
       "      <th>2002-04-24</th>\n",
       "      <td>8640</td>\n",
       "      <td>55704</td>\n",
       "    </tr>\n",
       "    <tr>\n",
       "      <th>2002-04-25</th>\n",
       "      <td>8260</td>\n",
       "      <td>51209</td>\n",
       "    </tr>\n",
       "    <tr>\n",
       "      <th>2002-04-26</th>\n",
       "      <td>8000</td>\n",
       "      <td>53554</td>\n",
       "    </tr>\n",
       "    <tr>\n",
       "      <th>...</th>\n",
       "      <td>...</td>\n",
       "      <td>...</td>\n",
       "    </tr>\n",
       "    <tr>\n",
       "      <th>2023-06-02</th>\n",
       "      <td>72200</td>\n",
       "      <td>123100</td>\n",
       "    </tr>\n",
       "    <tr>\n",
       "      <th>2023-06-05</th>\n",
       "      <td>71700</td>\n",
       "      <td>127200</td>\n",
       "    </tr>\n",
       "    <tr>\n",
       "      <th>2023-06-07</th>\n",
       "      <td>71000</td>\n",
       "      <td>125700</td>\n",
       "    </tr>\n",
       "    <tr>\n",
       "      <th>2023-06-08</th>\n",
       "      <td>70900</td>\n",
       "      <td>126700</td>\n",
       "    </tr>\n",
       "    <tr>\n",
       "      <th>2023-06-09</th>\n",
       "      <td>72000</td>\n",
       "      <td>126200</td>\n",
       "    </tr>\n",
       "  </tbody>\n",
       "</table>\n",
       "<p>5226 rows × 2 columns</p>\n",
       "</div>"
      ],
      "text/plain": [
       "            samsung      lg\n",
       "date                       \n",
       "2002-04-22     8200   62936\n",
       "2002-04-23     8540   57463\n",
       "2002-04-24     8640   55704\n",
       "2002-04-25     8260   51209\n",
       "2002-04-26     8000   53554\n",
       "...             ...     ...\n",
       "2023-06-02    72200  123100\n",
       "2023-06-05    71700  127200\n",
       "2023-06-07    71000  125700\n",
       "2023-06-08    70900  126700\n",
       "2023-06-09    72000  126200\n",
       "\n",
       "[5226 rows x 2 columns]"
      ]
     },
     "execution_count": 45,
     "metadata": {},
     "output_type": "execute_result"
    }
   ],
   "source": [
    "#inner join\n",
    "df_samsung.join(df_lg, how = 'inner')"
   ]
  },
  {
   "cell_type": "code",
   "execution_count": 46,
   "id": "14419d48-cc65-4a36-aa56-5cc9fb890cd5",
   "metadata": {},
   "outputs": [
    {
     "data": {
      "text/html": [
       "<div>\n",
       "<style scoped>\n",
       "    .dataframe tbody tr th:only-of-type {\n",
       "        vertical-align: middle;\n",
       "    }\n",
       "\n",
       "    .dataframe tbody tr th {\n",
       "        vertical-align: top;\n",
       "    }\n",
       "\n",
       "    .dataframe thead th {\n",
       "        text-align: right;\n",
       "    }\n",
       "</style>\n",
       "<table border=\"1\" class=\"dataframe\">\n",
       "  <thead>\n",
       "    <tr style=\"text-align: right;\">\n",
       "      <th></th>\n",
       "      <th>samsung</th>\n",
       "      <th>lg</th>\n",
       "    </tr>\n",
       "    <tr>\n",
       "      <th>date</th>\n",
       "      <th></th>\n",
       "      <th></th>\n",
       "    </tr>\n",
       "  </thead>\n",
       "  <tbody>\n",
       "    <tr>\n",
       "      <th>2002-04-22</th>\n",
       "      <td>8200</td>\n",
       "      <td>62936</td>\n",
       "    </tr>\n",
       "    <tr>\n",
       "      <th>2002-04-23</th>\n",
       "      <td>8540</td>\n",
       "      <td>57463</td>\n",
       "    </tr>\n",
       "    <tr>\n",
       "      <th>2002-04-24</th>\n",
       "      <td>8640</td>\n",
       "      <td>55704</td>\n",
       "    </tr>\n",
       "    <tr>\n",
       "      <th>2002-04-25</th>\n",
       "      <td>8260</td>\n",
       "      <td>51209</td>\n",
       "    </tr>\n",
       "    <tr>\n",
       "      <th>2002-04-26</th>\n",
       "      <td>8000</td>\n",
       "      <td>53554</td>\n",
       "    </tr>\n",
       "    <tr>\n",
       "      <th>...</th>\n",
       "      <td>...</td>\n",
       "      <td>...</td>\n",
       "    </tr>\n",
       "    <tr>\n",
       "      <th>2023-06-02</th>\n",
       "      <td>72200</td>\n",
       "      <td>123100</td>\n",
       "    </tr>\n",
       "    <tr>\n",
       "      <th>2023-06-05</th>\n",
       "      <td>71700</td>\n",
       "      <td>127200</td>\n",
       "    </tr>\n",
       "    <tr>\n",
       "      <th>2023-06-07</th>\n",
       "      <td>71000</td>\n",
       "      <td>125700</td>\n",
       "    </tr>\n",
       "    <tr>\n",
       "      <th>2023-06-08</th>\n",
       "      <td>70900</td>\n",
       "      <td>126700</td>\n",
       "    </tr>\n",
       "    <tr>\n",
       "      <th>2023-06-09</th>\n",
       "      <td>72000</td>\n",
       "      <td>126200</td>\n",
       "    </tr>\n",
       "  </tbody>\n",
       "</table>\n",
       "<p>5226 rows × 2 columns</p>\n",
       "</div>"
      ],
      "text/plain": [
       "            samsung      lg\n",
       "date                       \n",
       "2002-04-22     8200   62936\n",
       "2002-04-23     8540   57463\n",
       "2002-04-24     8640   55704\n",
       "2002-04-25     8260   51209\n",
       "2002-04-26     8000   53554\n",
       "...             ...     ...\n",
       "2023-06-02    72200  123100\n",
       "2023-06-05    71700  127200\n",
       "2023-06-07    71000  125700\n",
       "2023-06-08    70900  126700\n",
       "2023-06-09    72000  126200\n",
       "\n",
       "[5226 rows x 2 columns]"
      ]
     },
     "execution_count": 46,
     "metadata": {},
     "output_type": "execute_result"
    }
   ],
   "source": [
    "#right join\n",
    "df_samsung.join(df_lg, how = 'right')"
   ]
  },
  {
   "cell_type": "code",
   "execution_count": 47,
   "id": "9bebaf94-d3ec-48cf-88ef-24a284a07c5f",
   "metadata": {},
   "outputs": [],
   "source": [
    "#we use left join in this case\n",
    "df_merged = df_samsung.join(df_lg)"
   ]
  },
  {
   "cell_type": "markdown",
   "id": "3faca6a9-b86a-4c0b-99aa-3f7518a33438",
   "metadata": {},
   "source": [
    "#### **Drop null values**"
   ]
  },
  {
   "cell_type": "code",
   "execution_count": 48,
   "id": "0d61809e-abc9-4e4f-a135-6855ed4cb1d7",
   "metadata": {},
   "outputs": [
    {
     "data": {
      "text/html": [
       "<div>\n",
       "<style scoped>\n",
       "    .dataframe tbody tr th:only-of-type {\n",
       "        vertical-align: middle;\n",
       "    }\n",
       "\n",
       "    .dataframe tbody tr th {\n",
       "        vertical-align: top;\n",
       "    }\n",
       "\n",
       "    .dataframe thead th {\n",
       "        text-align: right;\n",
       "    }\n",
       "</style>\n",
       "<table border=\"1\" class=\"dataframe\">\n",
       "  <thead>\n",
       "    <tr style=\"text-align: right;\">\n",
       "      <th></th>\n",
       "      <th>samsung</th>\n",
       "      <th>lg</th>\n",
       "    </tr>\n",
       "    <tr>\n",
       "      <th>date</th>\n",
       "      <th></th>\n",
       "      <th></th>\n",
       "    </tr>\n",
       "  </thead>\n",
       "  <tbody>\n",
       "    <tr>\n",
       "      <th>2002-04-22</th>\n",
       "      <td>8200</td>\n",
       "      <td>62936.0</td>\n",
       "    </tr>\n",
       "    <tr>\n",
       "      <th>2002-04-23</th>\n",
       "      <td>8540</td>\n",
       "      <td>57463.0</td>\n",
       "    </tr>\n",
       "    <tr>\n",
       "      <th>2002-04-24</th>\n",
       "      <td>8640</td>\n",
       "      <td>55704.0</td>\n",
       "    </tr>\n",
       "    <tr>\n",
       "      <th>2002-04-25</th>\n",
       "      <td>8260</td>\n",
       "      <td>51209.0</td>\n",
       "    </tr>\n",
       "    <tr>\n",
       "      <th>2002-04-26</th>\n",
       "      <td>8000</td>\n",
       "      <td>53554.0</td>\n",
       "    </tr>\n",
       "    <tr>\n",
       "      <th>...</th>\n",
       "      <td>...</td>\n",
       "      <td>...</td>\n",
       "    </tr>\n",
       "    <tr>\n",
       "      <th>2023-06-02</th>\n",
       "      <td>72200</td>\n",
       "      <td>123100.0</td>\n",
       "    </tr>\n",
       "    <tr>\n",
       "      <th>2023-06-05</th>\n",
       "      <td>71700</td>\n",
       "      <td>127200.0</td>\n",
       "    </tr>\n",
       "    <tr>\n",
       "      <th>2023-06-07</th>\n",
       "      <td>71000</td>\n",
       "      <td>125700.0</td>\n",
       "    </tr>\n",
       "    <tr>\n",
       "      <th>2023-06-08</th>\n",
       "      <td>70900</td>\n",
       "      <td>126700.0</td>\n",
       "    </tr>\n",
       "    <tr>\n",
       "      <th>2023-06-09</th>\n",
       "      <td>72000</td>\n",
       "      <td>126200.0</td>\n",
       "    </tr>\n",
       "  </tbody>\n",
       "</table>\n",
       "<p>5226 rows × 2 columns</p>\n",
       "</div>"
      ],
      "text/plain": [
       "            samsung        lg\n",
       "date                         \n",
       "2002-04-22     8200   62936.0\n",
       "2002-04-23     8540   57463.0\n",
       "2002-04-24     8640   55704.0\n",
       "2002-04-25     8260   51209.0\n",
       "2002-04-26     8000   53554.0\n",
       "...             ...       ...\n",
       "2023-06-02    72200  123100.0\n",
       "2023-06-05    71700  127200.0\n",
       "2023-06-07    71000  125700.0\n",
       "2023-06-08    70900  126700.0\n",
       "2023-06-09    72000  126200.0\n",
       "\n",
       "[5226 rows x 2 columns]"
      ]
     },
     "execution_count": 48,
     "metadata": {},
     "output_type": "execute_result"
    }
   ],
   "source": [
    "df_merged.dropna()"
   ]
  },
  {
   "cell_type": "code",
   "execution_count": 49,
   "id": "3643600b-80f3-47f9-a8fc-8b15648fb2cc",
   "metadata": {},
   "outputs": [],
   "source": [
    "df_merged = df_merged.dropna()"
   ]
  },
  {
   "cell_type": "markdown",
   "id": "7a8f8e1c-7ed5-4be5-a45d-ad0730eb6590",
   "metadata": {},
   "source": [
    "## **2. Visualization**"
   ]
  },
  {
   "cell_type": "markdown",
   "id": "e0e4fd7d-8729-4bdb-a013-71bb7a465bf1",
   "metadata": {},
   "source": [
    "### 2.1. Misleading visualization example"
   ]
  },
  {
   "cell_type": "code",
   "execution_count": 50,
   "id": "31cebbbc-1904-46cb-9527-f14ff7423c94",
   "metadata": {},
   "outputs": [
    {
     "data": {
      "image/png": "[encoded data removed]",
      "text/plain": [
       "<Figure size 640x480 with 1 Axes>"
      ]
     },
     "metadata": {},
     "output_type": "display_data"
    }
   ],
   "source": [
    "plt.plot(df_merged['samsung'], label = \"Samsung\")\n",
    "plt.plot(df_merged['lg'], label = \"LG\")\n",
    "plt.legend()\n",
    "plt.show()"
   ]
  },
  {
   "cell_type": "markdown",
   "id": "ddcc84ae-a446-4a7a-82ee-13d855993ab4",
   "metadata": {},
   "source": [
    "> This graph is misleading because the data are not nomalized"
   ]
  },
  {
   "cell_type": "markdown",
   "id": "f3529ae9-064a-4d64-8346-3d23ef842f9f",
   "metadata": {},
   "source": [
    "### 2.2. Correct visualization with normalization"
   ]
  },
  {
   "cell_type": "markdown",
   "id": "8bcac8e7-5592-4e93-a4ee-a9d1059b3961",
   "metadata": {},
   "source": [
    "#### **Normalize the stock prices**"
   ]
  },
  {
   "cell_type": "code",
   "execution_count": 51,
   "id": "01afba76-c9ef-476c-9b34-f27c2eeec242",
   "metadata": {},
   "outputs": [],
   "source": [
    "#initial stock price at the start date\n",
    "init = df_merged.iloc[0]"
   ]
  },
  {
   "cell_type": "code",
   "execution_count": 52,
   "id": "0f127b38-bf20-4299-8a06-8e46e708c290",
   "metadata": {},
   "outputs": [
    {
     "data": {
      "text/plain": [
       "samsung     8200.0\n",
       "lg         62936.0\n",
       "Name: 2002-04-22 00:00:00, dtype: float64"
      ]
     },
     "execution_count": 52,
     "metadata": {},
     "output_type": "execute_result"
    }
   ],
   "source": [
    "init"
   ]
  },
  {
   "cell_type": "code",
   "execution_count": 53,
   "id": "36d46a5d-f02a-46de-99a7-03a011054310",
   "metadata": {},
   "outputs": [],
   "source": [
    "#normalize samsung stock price\n",
    "df_merged['samsung_norm'] = \\\n",
    "    df_merged['samsung'] / init['samsung'] * 100"
   ]
  },
  {
   "cell_type": "code",
   "execution_count": 54,
   "id": "b3c2ae0f-c150-4cd4-9730-b704caa5534b",
   "metadata": {},
   "outputs": [],
   "source": [
    "#normalize LG stock price\n",
    "df_merged['lg_norm'] = \\\n",
    "    df_merged['lg'] / init['lg'] * 100"
   ]
  },
  {
   "cell_type": "code",
   "execution_count": 55,
   "id": "021012fa-0b72-45ae-874a-8d600c157c80",
   "metadata": {},
   "outputs": [
    {
     "data": {
      "text/html": [
       "<div>\n",
       "<style scoped>\n",
       "    .dataframe tbody tr th:only-of-type {\n",
       "        vertical-align: middle;\n",
       "    }\n",
       "\n",
       "    .dataframe tbody tr th {\n",
       "        vertical-align: top;\n",
       "    }\n",
       "\n",
       "    .dataframe thead th {\n",
       "        text-align: right;\n",
       "    }\n",
       "</style>\n",
       "<table border=\"1\" class=\"dataframe\">\n",
       "  <thead>\n",
       "    <tr style=\"text-align: right;\">\n",
       "      <th></th>\n",
       "      <th>samsung</th>\n",
       "      <th>lg</th>\n",
       "      <th>samsung_norm</th>\n",
       "      <th>lg_norm</th>\n",
       "    </tr>\n",
       "    <tr>\n",
       "      <th>date</th>\n",
       "      <th></th>\n",
       "      <th></th>\n",
       "      <th></th>\n",
       "      <th></th>\n",
       "    </tr>\n",
       "  </thead>\n",
       "  <tbody>\n",
       "    <tr>\n",
       "      <th>2002-04-22</th>\n",
       "      <td>8200</td>\n",
       "      <td>62936.0</td>\n",
       "      <td>100.000000</td>\n",
       "      <td>100.000000</td>\n",
       "    </tr>\n",
       "    <tr>\n",
       "      <th>2002-04-23</th>\n",
       "      <td>8540</td>\n",
       "      <td>57463.0</td>\n",
       "      <td>104.146341</td>\n",
       "      <td>91.303864</td>\n",
       "    </tr>\n",
       "    <tr>\n",
       "      <th>2002-04-24</th>\n",
       "      <td>8640</td>\n",
       "      <td>55704.0</td>\n",
       "      <td>105.365854</td>\n",
       "      <td>88.508961</td>\n",
       "    </tr>\n",
       "  </tbody>\n",
       "</table>\n",
       "</div>"
      ],
      "text/plain": [
       "            samsung       lg  samsung_norm     lg_norm\n",
       "date                                                  \n",
       "2002-04-22     8200  62936.0    100.000000  100.000000\n",
       "2002-04-23     8540  57463.0    104.146341   91.303864\n",
       "2002-04-24     8640  55704.0    105.365854   88.508961"
      ]
     },
     "execution_count": 55,
     "metadata": {},
     "output_type": "execute_result"
    }
   ],
   "source": [
    "#Note that respective initial prices are equal at 100 \n",
    "df_merged.head(3)"
   ]
  },
  {
   "cell_type": "code",
   "execution_count": 56,
   "id": "ee00cca9-d382-49c9-9171-50db951ba097",
   "metadata": {},
   "outputs": [
    {
     "data": {
      "text/html": [
       "<div>\n",
       "<style scoped>\n",
       "    .dataframe tbody tr th:only-of-type {\n",
       "        vertical-align: middle;\n",
       "    }\n",
       "\n",
       "    .dataframe tbody tr th {\n",
       "        vertical-align: top;\n",
       "    }\n",
       "\n",
       "    .dataframe thead th {\n",
       "        text-align: right;\n",
       "    }\n",
       "</style>\n",
       "<table border=\"1\" class=\"dataframe\">\n",
       "  <thead>\n",
       "    <tr style=\"text-align: right;\">\n",
       "      <th></th>\n",
       "      <th>samsung</th>\n",
       "      <th>lg</th>\n",
       "      <th>samsung_norm</th>\n",
       "      <th>lg_norm</th>\n",
       "    </tr>\n",
       "    <tr>\n",
       "      <th>date</th>\n",
       "      <th></th>\n",
       "      <th></th>\n",
       "      <th></th>\n",
       "      <th></th>\n",
       "    </tr>\n",
       "  </thead>\n",
       "  <tbody>\n",
       "    <tr>\n",
       "      <th>2023-06-07</th>\n",
       "      <td>71000</td>\n",
       "      <td>125700.0</td>\n",
       "      <td>865.853659</td>\n",
       "      <td>199.726706</td>\n",
       "    </tr>\n",
       "    <tr>\n",
       "      <th>2023-06-08</th>\n",
       "      <td>70900</td>\n",
       "      <td>126700.0</td>\n",
       "      <td>864.634146</td>\n",
       "      <td>201.315622</td>\n",
       "    </tr>\n",
       "    <tr>\n",
       "      <th>2023-06-09</th>\n",
       "      <td>72000</td>\n",
       "      <td>126200.0</td>\n",
       "      <td>878.048780</td>\n",
       "      <td>200.521164</td>\n",
       "    </tr>\n",
       "  </tbody>\n",
       "</table>\n",
       "</div>"
      ],
      "text/plain": [
       "            samsung        lg  samsung_norm     lg_norm\n",
       "date                                                   \n",
       "2023-06-07    71000  125700.0    865.853659  199.726706\n",
       "2023-06-08    70900  126700.0    864.634146  201.315622\n",
       "2023-06-09    72000  126200.0    878.048780  200.521164"
      ]
     },
     "execution_count": 56,
     "metadata": {},
     "output_type": "execute_result"
    }
   ],
   "source": [
    "#Note that there are stark performance difference between the two companies\n",
    "df_merged.tail(3)"
   ]
  },
  {
   "cell_type": "markdown",
   "id": "b93c15be-d38e-414e-a1a3-8b1e3b5de418",
   "metadata": {},
   "source": [
    "#### **Visualize (corrected)**"
   ]
  },
  {
   "cell_type": "code",
   "execution_count": 57,
   "id": "b54de4b5-048a-4b1d-9db8-2d0b87989251",
   "metadata": {},
   "outputs": [
    {
     "data": {
      "image/png": "[encoded data removed]",
      "text/plain": [
       "<Figure size 640x480 with 1 Axes>"
      ]
     },
     "metadata": {},
     "output_type": "display_data"
    }
   ],
   "source": [
    "plt.plot(df_merged['samsung_norm'], label = 'Samsung')\n",
    "plt.plot(df_merged['lg_norm'], label = 'LG')\n",
    "plt.legend()\n",
    "plt.show()"
   ]
  },
  {
   "cell_type": "markdown",
   "id": "f2737e61-d24e-4061-b90f-7c80906317e8",
   "metadata": {},
   "source": [
    "## **3. Simple Misleading Forcasting Example**"
   ]
  },
  {
   "cell_type": "markdown",
   "id": "9745374e-f1ee-440e-a260-99a461469bd8",
   "metadata": {},
   "source": [
    "#### Model specification (misleading)"
   ]
  },
  {
   "cell_type": "markdown",
   "id": "180b6aa9-70d4-4eb6-ad41-f1dfa816c451",
   "metadata": {},
   "source": [
    "$$\n",
    "P_{t+1} = \\alpha \\cdot 1 + \\beta \\cdot P_t + \\epsilon_{t+1}\n",
    "$$"
   ]
  },
  {
   "cell_type": "markdown",
   "id": "743cd585-2fc2-4a15-9828-5efb2435a082",
   "metadata": {},
   "source": [
    "Model assumes a certain linear relationship between next period price and current period price.\\\n",
    "Let's estimate the coefficienta and the intercept from OLS."
   ]
  },
  {
   "cell_type": "code",
   "execution_count": 58,
   "id": "21cbcf67-595b-497c-b7ca-49df594badbc",
   "metadata": {},
   "outputs": [],
   "source": [
    "#pd.Series #single bracket\n",
    "samsung = df_merged['samsung']"
   ]
  },
  {
   "cell_type": "code",
   "execution_count": 59,
   "id": "2258c18d-3560-49f2-a175-89e08a18e0e2",
   "metadata": {},
   "outputs": [
    {
     "data": {
      "text/plain": [
       "date\n",
       "2002-04-22    8200\n",
       "2002-04-23    8540\n",
       "2002-04-24    8640\n",
       "Name: samsung, dtype: int64"
      ]
     },
     "execution_count": 59,
     "metadata": {},
     "output_type": "execute_result"
    }
   ],
   "source": [
    "samsung.head(3)"
   ]
  },
  {
   "cell_type": "code",
   "execution_count": 60,
   "id": "05b83602-7dd5-483e-824f-757f5240642f",
   "metadata": {},
   "outputs": [],
   "source": [
    "#explanatory variable: today price\n",
    "today = samsung.iloc[:-1]\n",
    "\n",
    "#target variable: tomorrow price\n",
    "tmr = samsung.iloc[1:]"
   ]
  },
  {
   "cell_type": "code",
   "execution_count": 61,
   "id": "3d9a76e9-f70b-474f-8636-dd1d67e871b1",
   "metadata": {},
   "outputs": [
    {
     "name": "stdout",
     "output_type": "stream",
     "text": [
      "date\n",
      "2002-04-22    8200\n",
      "Name: samsung, dtype: int64\n",
      "date\n",
      "2002-04-23    8540\n",
      "Name: samsung, dtype: int64\n",
      "date\n",
      "2023-06-08    70900\n",
      "Name: samsung, dtype: int64\n",
      "date\n",
      "2023-06-09    72000\n",
      "Name: samsung, dtype: int64\n"
     ]
    }
   ],
   "source": [
    "print(today.head(1))\n",
    "print(tmr.head(1))\n",
    "print(today.tail(1))\n",
    "print(tmr.tail(1))"
   ]
  },
  {
   "cell_type": "code",
   "execution_count": 62,
   "id": "d7e78c7f-982f-46cb-8aff-eabf8b3d4160",
   "metadata": {},
   "outputs": [],
   "source": [
    "import statsmodels.api as sm"
   ]
  },
  {
   "cell_type": "code",
   "execution_count": 63,
   "id": "a4703a8a-1798-4f55-9a9b-d9bb879f6bfd",
   "metadata": {},
   "outputs": [
    {
     "data": {
      "text/html": [
       "<div>\n",
       "<style scoped>\n",
       "    .dataframe tbody tr th:only-of-type {\n",
       "        vertical-align: middle;\n",
       "    }\n",
       "\n",
       "    .dataframe tbody tr th {\n",
       "        vertical-align: top;\n",
       "    }\n",
       "\n",
       "    .dataframe thead th {\n",
       "        text-align: right;\n",
       "    }\n",
       "</style>\n",
       "<table border=\"1\" class=\"dataframe\">\n",
       "  <thead>\n",
       "    <tr style=\"text-align: right;\">\n",
       "      <th></th>\n",
       "      <th>const</th>\n",
       "      <th>samsung</th>\n",
       "    </tr>\n",
       "    <tr>\n",
       "      <th>date</th>\n",
       "      <th></th>\n",
       "      <th></th>\n",
       "    </tr>\n",
       "  </thead>\n",
       "  <tbody>\n",
       "    <tr>\n",
       "      <th>2002-04-22</th>\n",
       "      <td>1.0</td>\n",
       "      <td>8200</td>\n",
       "    </tr>\n",
       "    <tr>\n",
       "      <th>2002-04-23</th>\n",
       "      <td>1.0</td>\n",
       "      <td>8540</td>\n",
       "    </tr>\n",
       "    <tr>\n",
       "      <th>2002-04-24</th>\n",
       "      <td>1.0</td>\n",
       "      <td>8640</td>\n",
       "    </tr>\n",
       "    <tr>\n",
       "      <th>2002-04-25</th>\n",
       "      <td>1.0</td>\n",
       "      <td>8260</td>\n",
       "    </tr>\n",
       "    <tr>\n",
       "      <th>2002-04-26</th>\n",
       "      <td>1.0</td>\n",
       "      <td>8000</td>\n",
       "    </tr>\n",
       "    <tr>\n",
       "      <th>...</th>\n",
       "      <td>...</td>\n",
       "      <td>...</td>\n",
       "    </tr>\n",
       "    <tr>\n",
       "      <th>2023-06-01</th>\n",
       "      <td>1.0</td>\n",
       "      <td>70900</td>\n",
       "    </tr>\n",
       "    <tr>\n",
       "      <th>2023-06-02</th>\n",
       "      <td>1.0</td>\n",
       "      <td>72200</td>\n",
       "    </tr>\n",
       "    <tr>\n",
       "      <th>2023-06-05</th>\n",
       "      <td>1.0</td>\n",
       "      <td>71700</td>\n",
       "    </tr>\n",
       "    <tr>\n",
       "      <th>2023-06-07</th>\n",
       "      <td>1.0</td>\n",
       "      <td>71000</td>\n",
       "    </tr>\n",
       "    <tr>\n",
       "      <th>2023-06-08</th>\n",
       "      <td>1.0</td>\n",
       "      <td>70900</td>\n",
       "    </tr>\n",
       "  </tbody>\n",
       "</table>\n",
       "<p>5225 rows × 2 columns</p>\n",
       "</div>"
      ],
      "text/plain": [
       "            const  samsung\n",
       "date                      \n",
       "2002-04-22    1.0     8200\n",
       "2002-04-23    1.0     8540\n",
       "2002-04-24    1.0     8640\n",
       "2002-04-25    1.0     8260\n",
       "2002-04-26    1.0     8000\n",
       "...           ...      ...\n",
       "2023-06-01    1.0    70900\n",
       "2023-06-02    1.0    72200\n",
       "2023-06-05    1.0    71700\n",
       "2023-06-07    1.0    71000\n",
       "2023-06-08    1.0    70900\n",
       "\n",
       "[5225 rows x 2 columns]"
      ]
     },
     "execution_count": 63,
     "metadata": {},
     "output_type": "execute_result"
    }
   ],
   "source": [
    "X = sm.add_constant(today)\n",
    "X"
   ]
  },
  {
   "cell_type": "code",
   "execution_count": 64,
   "id": "fc5302d5-66fe-45f9-a018-b887072310e2",
   "metadata": {},
   "outputs": [
    {
     "data": {
      "text/html": [
       "<table class=\"simpletable\">\n",
       "<caption>OLS Regression Results</caption>\n",
       "<tr>\n",
       "  <th>Dep. Variable:</th>         <td>samsung</td>     <th>  R-squared:         </th> <td>   0.999</td> \n",
       "</tr>\n",
       "<tr>\n",
       "  <th>Model:</th>                   <td>OLS</td>       <th>  Adj. R-squared:    </th> <td>   0.999</td> \n",
       "</tr>\n",
       "<tr>\n",
       "  <th>Method:</th>             <td>Least Squares</td>  <th>  F-statistic:       </th> <td>6.968e+06</td>\n",
       "</tr>\n",
       "<tr>\n",
       "  <th>Date:</th>             <td>Sun, 04 Aug 2024</td> <th>  Prob (F-statistic):</th>  <td>  0.00</td>  \n",
       "</tr>\n",
       "<tr>\n",
       "  <th>Time:</th>                 <td>18:08:06</td>     <th>  Log-Likelihood:    </th> <td> -40574.</td> \n",
       "</tr>\n",
       "<tr>\n",
       "  <th>No. Observations:</th>      <td>  5225</td>      <th>  AIC:               </th> <td>8.115e+04</td>\n",
       "</tr>\n",
       "<tr>\n",
       "  <th>Df Residuals:</th>          <td>  5223</td>      <th>  BIC:               </th> <td>8.117e+04</td>\n",
       "</tr>\n",
       "<tr>\n",
       "  <th>Df Model:</th>              <td>     1</td>      <th>                     </th>     <td> </td>    \n",
       "</tr>\n",
       "<tr>\n",
       "  <th>Covariance Type:</th>      <td>nonrobust</td>    <th>                     </th>     <td> </td>    \n",
       "</tr>\n",
       "</table>\n",
       "<table class=\"simpletable\">\n",
       "<tr>\n",
       "    <td></td>       <th>coef</th>     <th>std err</th>      <th>t</th>      <th>P>|t|</th>  <th>[0.025</th>    <th>0.975]</th>  \n",
       "</tr>\n",
       "<tr>\n",
       "  <th>const</th> <td>   14.1654</td> <td>   13.574</td> <td>    1.044</td> <td> 0.297</td> <td>  -12.446</td> <td>   40.777</td>\n",
       "</tr>\n",
       "<tr>\n",
       "  <th>x1</th>    <td>    0.9999</td> <td>    0.000</td> <td> 2639.682</td> <td> 0.000</td> <td>    0.999</td> <td>    1.001</td>\n",
       "</tr>\n",
       "</table>\n",
       "<table class=\"simpletable\">\n",
       "<tr>\n",
       "  <th>Omnibus:</th>       <td>1019.503</td> <th>  Durbin-Watson:     </th> <td>   1.948</td> \n",
       "</tr>\n",
       "<tr>\n",
       "  <th>Prob(Omnibus):</th>  <td> 0.000</td>  <th>  Jarque-Bera (JB):  </th> <td>13551.203</td>\n",
       "</tr>\n",
       "<tr>\n",
       "  <th>Skew:</th>           <td> 0.543</td>  <th>  Prob(JB):          </th> <td>    0.00</td> \n",
       "</tr>\n",
       "<tr>\n",
       "  <th>Kurtosis:</th>       <td>10.814</td>  <th>  Cond. No.          </th> <td>6.16e+04</td> \n",
       "</tr>\n",
       "</table><br/><br/>Notes:<br/>[1] Standard Errors assume that the covariance matrix of the errors is correctly specified.<br/>[2] The condition number is large, 6.16e+04. This might indicate that there are<br/>strong multicollinearity or other numerical problems."
      ],
      "text/latex": [
       "\\begin{center}\n",
       "\\begin{tabular}{lclc}\n",
       "\\toprule\n",
       "\\textbf{Dep. Variable:}    &     samsung      & \\textbf{  R-squared:         } &     0.999   \\\\\n",
       "\\textbf{Model:}            &       OLS        & \\textbf{  Adj. R-squared:    } &     0.999   \\\\\n",
       "\\textbf{Method:}           &  Least Squares   & \\textbf{  F-statistic:       } & 6.968e+06   \\\\\n",
       "\\textbf{Date:}             & Sun, 04 Aug 2024 & \\textbf{  Prob (F-statistic):} &     0.00    \\\\\n",
       "\\textbf{Time:}             &     18:08:06     & \\textbf{  Log-Likelihood:    } &   -40574.   \\\\\n",
       "\\textbf{No. Observations:} &        5225      & \\textbf{  AIC:               } & 8.115e+04   \\\\\n",
       "\\textbf{Df Residuals:}     &        5223      & \\textbf{  BIC:               } & 8.117e+04   \\\\\n",
       "\\textbf{Df Model:}         &           1      & \\textbf{                     } &             \\\\\n",
       "\\textbf{Covariance Type:}  &    nonrobust     & \\textbf{                     } &             \\\\\n",
       "\\bottomrule\n",
       "\\end{tabular}\n",
       "\\begin{tabular}{lcccccc}\n",
       "               & \\textbf{coef} & \\textbf{std err} & \\textbf{t} & \\textbf{P$> |$t$|$} & \\textbf{[0.025} & \\textbf{0.975]}  \\\\\n",
       "\\midrule\n",
       "\\textbf{const} &      14.1654  &       13.574     &     1.044  &         0.297        &      -12.446    &       40.777     \\\\\n",
       "\\textbf{x1}    &       0.9999  &        0.000     &  2639.682  &         0.000        &        0.999    &        1.001     \\\\\n",
       "\\bottomrule\n",
       "\\end{tabular}\n",
       "\\begin{tabular}{lclc}\n",
       "\\textbf{Omnibus:}       & 1019.503 & \\textbf{  Durbin-Watson:     } &     1.948  \\\\\n",
       "\\textbf{Prob(Omnibus):} &   0.000  & \\textbf{  Jarque-Bera (JB):  } & 13551.203  \\\\\n",
       "\\textbf{Skew:}          &   0.543  & \\textbf{  Prob(JB):          } &      0.00  \\\\\n",
       "\\textbf{Kurtosis:}      &  10.814  & \\textbf{  Cond. No.          } &  6.16e+04  \\\\\n",
       "\\bottomrule\n",
       "\\end{tabular}\n",
       "%\\caption{OLS Regression Results}\n",
       "\\end{center}\n",
       "\n",
       "Notes: \\newline\n",
       " [1] Standard Errors assume that the covariance matrix of the errors is correctly specified. \\newline\n",
       " [2] The condition number is large, 6.16e+04. This might indicate that there are \\newline\n",
       " strong multicollinearity or other numerical problems."
      ],
      "text/plain": [
       "<class 'statsmodels.iolib.summary.Summary'>\n",
       "\"\"\"\n",
       "                            OLS Regression Results                            \n",
       "==============================================================================\n",
       "Dep. Variable:                samsung   R-squared:                       0.999\n",
       "Model:                            OLS   Adj. R-squared:                  0.999\n",
       "Method:                 Least Squares   F-statistic:                 6.968e+06\n",
       "Date:                Sun, 04 Aug 2024   Prob (F-statistic):               0.00\n",
       "Time:                        18:08:06   Log-Likelihood:                -40574.\n",
       "No. Observations:                5225   AIC:                         8.115e+04\n",
       "Df Residuals:                    5223   BIC:                         8.117e+04\n",
       "Df Model:                           1                                         \n",
       "Covariance Type:            nonrobust                                         \n",
       "==============================================================================\n",
       "                 coef    std err          t      P>|t|      [0.025      0.975]\n",
       "------------------------------------------------------------------------------\n",
       "const         14.1654     13.574      1.044      0.297     -12.446      40.777\n",
       "x1             0.9999      0.000   2639.682      0.000       0.999       1.001\n",
       "==============================================================================\n",
       "Omnibus:                     1019.503   Durbin-Watson:                   1.948\n",
       "Prob(Omnibus):                  0.000   Jarque-Bera (JB):            13551.203\n",
       "Skew:                           0.543   Prob(JB):                         0.00\n",
       "Kurtosis:                      10.814   Cond. No.                     6.16e+04\n",
       "==============================================================================\n",
       "\n",
       "Notes:\n",
       "[1] Standard Errors assume that the covariance matrix of the errors is correctly specified.\n",
       "[2] The condition number is large, 6.16e+04. This might indicate that there are\n",
       "strong multicollinearity or other numerical problems.\n",
       "\"\"\""
      ]
     },
     "execution_count": 64,
     "metadata": {},
     "output_type": "execute_result"
    }
   ],
   "source": [
    "# step 1. train\n",
    "model = sm.OLS(tmr, X.values)\n",
    "\n",
    "# step 2. Estimation\n",
    "results = model.fit()\n",
    "\n",
    "# step 3. results\n",
    "results.summary()"
   ]
  },
  {
   "cell_type": "markdown",
   "id": "ccb2db7d-e79a-4817-8df8-344c73ee9bf0",
   "metadata": {},
   "source": [
    "> Check out the R-squared. It is nearly 100%. Does this mean we found the perfect model?\\\n",
    "> This is complete garbage actually. We will dig into it deeper in our next Jupyter Notebook file why it is so."
   ]
  }
 ],
 "metadata": {
  "kernelspec": {
   "display_name": "Python 3 (ipykernel)",
   "language": "python",
   "name": "python3"
  },
  "language_info": {
   "codemirror_mode": {
    "name": "ipython",
    "version": 3
   },
   "file_extension": ".py",
   "mimetype": "text/x-python",
   "name": "python",
   "nbconvert_exporter": "python",
   "pygments_lexer": "ipython3",
   "version": "3.11.9"
  }
 },
 "nbformat": 4,
 "nbformat_minor": 5
}
