{
 "cells": [
  {
   "cell_type": "markdown",
   "id": "8206b313-9c5b-4fe5-b43f-c27bb15fec64",
   "metadata": {},
   "source": [
    "# Basic Finance Skills Exercises\n",
    "\n",
    "### week 2-1\n",
    "\n",
    "* NPV calculation example\n",
    "* IRR calculation example\n",
    "* Bond pricing curve example\n",
    "\n",
    "In this note, we learn how to implement bond pricing theories into python codes. This will serve as a building block for future project of predicting \n",
    "exchange rates.\n",
    "\n",
    "\n",
    "> *Note 1. source code, exmaples and data: KAIST Business school, Prof. Jaehoon Lee*\\\n",
    "> *Note 2. The concpets covered here are from first year undergraduate finance course, so concepts themselves are not explained in details here.*"
   ]
  },
  {
   "cell_type": "markdown",
   "id": "defa0d07-edf6-49b6-aab5-56b23d904d13",
   "metadata": {},
   "source": [
    "## **1. NPV Calculation**"
   ]
  },
  {
   "cell_type": "markdown",
   "id": "b000451d-19d6-4ca6-85c1-8632faa26690",
   "metadata": {},
   "source": [
    "Example case:\n",
    "\n",
    "* Face value: $ 1,000\n",
    "* Maturity: 5 year\n",
    "* Coupon rate: 5 % per annum\n",
    "* Coupon frequency: annual\n",
    "* Discount rate: 2 % (constant)\n",
    "\n",
    "Calculate NPV of this bond."
   ]
  },
  {
   "cell_type": "markdown",
   "id": "32ed2bad-b0d5-4053-96f0-7c6ae2dec31c",
   "metadata": {},
   "source": [
    "$$\n",
    "\\text{NPV} = \\sum_{t = 1}^T \\frac{\\text{CF}_t}{(1 + r)^t}\n",
    "$$"
   ]
  },
  {
   "cell_type": "code",
   "execution_count": 1,
   "id": "5c0e1805-dbef-4fd9-802d-1a3f3cedc2e8",
   "metadata": {},
   "outputs": [],
   "source": [
    "#face value\n",
    "face = 1000\n",
    "\n",
    "#maturity\n",
    "T = 5\n",
    "\n",
    "#coupon rate\n",
    "c = 0.05\n",
    "\n",
    "#discount rate\n",
    "r = 0.02"
   ]
  },
  {
   "cell_type": "markdown",
   "id": "dbc03e1b-517c-4c15-a0f5-98b05f9e62d1",
   "metadata": {},
   "source": [
    "#### **Method 1.**"
   ]
  },
  {
   "cell_type": "code",
   "execution_count": 2,
   "id": "3f69c9a5-d4b7-4998-9613-ba3874993e10",
   "metadata": {},
   "outputs": [
    {
     "name": "stdout",
     "output_type": "stream",
     "text": [
      "t = 1, CF = 50.0, PV = 49.02\n",
      "t = 2, CF = 50.0, PV = 48.06\n",
      "t = 3, CF = 50.0, PV = 47.12\n",
      "t = 4, CF = 50.0, PV = 46.19\n",
      "t = 5, CF = 50.0, PV = 45.29\n",
      "\n",
      "NPV: 1141.40\n"
     ]
    }
   ],
   "source": [
    "NPV = 0\n",
    "\n",
    "#Add all present values of coupon payments (discounted interests)\n",
    "for t in range(1, T+1):\n",
    "    CF = face * c\n",
    "    PV = CF / (1+r)**t\n",
    "    print('t = {}, CF = {}, PV = {:.2f}'.format(t, CF, PV))\n",
    "    #or\n",
    "    #print(f't = {t}, CF = {CF}, PV = {PV:.2f}')\n",
    "    NPV += PV\n",
    "\n",
    "#Add the present value of principal (discounted principal)\n",
    "NPV += face / (1+r)**T\n",
    "\n",
    "print() #empty line\n",
    "\n",
    "#display result rounded to 2 \n",
    "print('NPV: {:.2f}'.format(NPV))\n",
    "\n",
    "#or\n",
    "#print(f'NPV: {NPV:.2f}')"
   ]
  },
  {
   "cell_type": "markdown",
   "id": "da4326b0-9a2a-464c-87c5-9706fac4ae5e",
   "metadata": {},
   "source": [
    "#### **Method 2. List comprehension** (specific to Python)"
   ]
  },
  {
   "cell_type": "code",
   "execution_count": 3,
   "id": "d870f7cf-0d02-4c95-9e10-896847654d29",
   "metadata": {},
   "outputs": [
    {
     "name": "stdout",
     "output_type": "stream",
     "text": [
      "NPV: 1141.40 \n"
     ]
    }
   ],
   "source": [
    "NPV = 0\n",
    "\n",
    "PVs = [(face * c)/(1+r)**t for t in range(1, T + 1)]\n",
    "\n",
    "#Add all present values of coupon payments (discounted interests)\n",
    "NPV2 = sum(PVs)\n",
    "\n",
    "#Add the present value of principal (discounted principal)\n",
    "NPV2 += face / (1+r)**T\n",
    "\n",
    "#display result rounded to 2 \n",
    "print('NPV: {:.2f} '.format(NPV2))\n",
    "#or\n",
    "#print(f'NPV: {NPV2:.2f}')"
   ]
  },
  {
   "cell_type": "markdown",
   "id": "0bd4a4b9-ebd7-4c27-a7d2-403b1c12199d",
   "metadata": {},
   "source": [
    "## **2. IRR Calculation**"
   ]
  },
  {
   "cell_type": "markdown",
   "id": "f89e52af-1acf-46e7-9f8e-7452f0ce11aa",
   "metadata": {},
   "source": [
    "Example case:\n",
    "\n",
    "* Face value: $ 1,000\n",
    "* Maturity: 5 year\n",
    "* Coupon rate: 5 % per annum\n",
    "* Coupon frequency: annual\n",
    "* Observed Market price: \\$ 1,130\n",
    "\n",
    "Calculate IRR of this bond."
   ]
  },
  {
   "cell_type": "code",
   "execution_count": 4,
   "id": "67a76673-5200-43e1-83d0-f27a348da16d",
   "metadata": {},
   "outputs": [],
   "source": [
    "face = 1000\n",
    "T = 5\n",
    "c = 0.05\n",
    "price = 1130"
   ]
  },
  {
   "cell_type": "markdown",
   "id": "e3c63dd6-e2c7-4268-af12-47a4d002d011",
   "metadata": {},
   "source": [
    "> Take market price as NPV\\\n",
    "> NPV is a function of r, f(r)\\\n",
    "> Find r instead using NPV numerically"
   ]
  },
  {
   "cell_type": "markdown",
   "id": "6dcc3689-6768-473c-bcc6-484cea4981f2",
   "metadata": {},
   "source": [
    "#### **Step 1. Define a NPV function**"
   ]
  },
  {
   "cell_type": "code",
   "execution_count": 13,
   "id": "f3d8823e-7d71-4c4e-ad96-4825b73c94c1",
   "metadata": {},
   "outputs": [],
   "source": [
    "#step 1. Define a NPV function, f(r)\n",
    "\n",
    "def compute_npv(r):\n",
    "    PVs = [((face * c)/(1 + r) ** t) for t in range(1, T + 1)]\n",
    "    npv = sum(PVs) + face / (1 + r) ** T\n",
    "\n",
    "    return npv"
   ]
  },
  {
   "cell_type": "code",
   "execution_count": 15,
   "id": "488404ac-c541-4bc5-b0cf-bf20387ef587",
   "metadata": {},
   "outputs": [
    {
     "data": {
      "text/plain": [
       "1141.4037852551262"
      ]
     },
     "execution_count": 15,
     "metadata": {},
     "output_type": "execute_result"
    }
   ],
   "source": [
    "#example: previous example\n",
    "compute_npv(0.02)"
   ]
  },
  {
   "cell_type": "code",
   "execution_count": 18,
   "id": "ba8be763-286f-49a2-917a-592e30618f5d",
   "metadata": {},
   "outputs": [
    {
     "name": "stdout",
     "output_type": "stream",
     "text": [
      "NPV if r = 0.02: 1141.40\n",
      "NPV if r = 0.03: 1091.59\n",
      "NPV if r = 0.05: 1000.00\n"
     ]
    }
   ],
   "source": [
    "#step 2. Find a sufficiently small range where the IRR is supposed to be\n",
    "\n",
    "for r in [0.02, 0.03, 0.05]:\n",
    "    npv = compute_npv(r)\n",
    "    print('NPV if r = {}: {:.2f}'.format(r, npv))\n",
    "    #or\n",
    "    #print(f'NPV if r = {r}: {npv:.2f}')"
   ]
  },
  {
   "cell_type": "markdown",
   "id": "2c6059ca-c784-486a-888f-d3a7e975e513",
   "metadata": {},
   "source": [
    "> So, it can be seen that the optimal `r` lies in 0.02 and 0.03"
   ]
  },
  {
   "cell_type": "markdown",
   "id": "2ecd255e-65f9-4a7f-b290-bb78e4be6b1a",
   "metadata": {},
   "source": [
    "#### **Step 2. Numerical solution (Optimization)**"
   ]
  },
  {
   "cell_type": "code",
   "execution_count": 20,
   "id": "3e768eb0-ba34-4240-94d1-f3ae27f29079",
   "metadata": {},
   "outputs": [],
   "source": [
    "from scipy import optimize"
   ]
  },
  {
   "cell_type": "code",
   "execution_count": 21,
   "id": "cfa116e2-e6f3-4237-9636-a409f5ae18b9",
   "metadata": {},
   "outputs": [],
   "source": [
    "# error = market price - npv\n",
    "# objective: find r such that error is zero\n",
    "\n",
    "def error(r):\n",
    "    return price - compute_npv(r)"
   ]
  },
  {
   "cell_type": "code",
   "execution_count": 22,
   "id": "9b319fbf-1a80-4c97-93c2-76c4bbd4050d",
   "metadata": {},
   "outputs": [],
   "source": [
    "# root_scalar: find a value in a bracket range (input) which makes the target(error) zero\n",
    "# root: target is zero\n",
    "# scalar: input is scalar\n",
    "sol = optimize.root_scalar(error, bracket = [0.02, 0.03])"
   ]
  },
  {
   "cell_type": "code",
   "execution_count": 23,
   "id": "143f4f66-38c5-41af-bdbb-a1d59a1d1bac",
   "metadata": {},
   "outputs": [
    {
     "data": {
      "text/plain": [
       "      converged: True\n",
       "           flag: converged\n",
       " function_calls: 6\n",
       "     iterations: 5\n",
       "           root: 0.022239858418338223\n",
       "         method: brentq"
      ]
     },
     "execution_count": 23,
     "metadata": {},
     "output_type": "execute_result"
    }
   ],
   "source": [
    "sol"
   ]
  },
  {
   "cell_type": "code",
   "execution_count": 24,
   "id": "c382b6af-956e-4554-a288-d36bf0e231f8",
   "metadata": {},
   "outputs": [
    {
     "name": "stdout",
     "output_type": "stream",
     "text": [
      "IRR: 2.2240\n"
     ]
    }
   ],
   "source": [
    "print('IRR: {:.4f}'.format(sol.root * 100))"
   ]
  },
  {
   "cell_type": "markdown",
   "id": "e7fb7712-e961-4e3b-a10c-3b2920b90013",
   "metadata": {},
   "source": [
    "Alternatively, and preferrably, **Step 2.** can be done with a **lambda function**."
   ]
  },
  {
   "cell_type": "code",
   "execution_count": 26,
   "id": "263d3014-7535-4d4b-b419-6208c02b7d64",
   "metadata": {},
   "outputs": [],
   "source": [
    "sol = optimize.root_scalar(lambda r : price - compute_npv(r), bracket = [0.02, 0.03])"
   ]
  },
  {
   "cell_type": "code",
   "execution_count": 27,
   "id": "607602a2-34c1-42f0-91ca-68e161bcdae8",
   "metadata": {},
   "outputs": [
    {
     "name": "stdout",
     "output_type": "stream",
     "text": [
      "IRR: 2.2240\n"
     ]
    }
   ],
   "source": [
    "print('IRR: {:.4f}'.format(sol.root * 100))"
   ]
  },
  {
   "cell_type": "markdown",
   "id": "ed3862e8-56bd-4823-938a-9feee205fa22",
   "metadata": {},
   "source": [
    "## **3. YTM and NPV graph**"
   ]
  },
  {
   "cell_type": "markdown",
   "id": "83fbe087-4a7e-4106-bf53-a3b659932994",
   "metadata": {},
   "source": [
    "* Face value: \\$1,000\n",
    "* Maturity: 5 years\n",
    "* Coupon rate: 5\\% p.a. (per annum)\n",
    "* Coupon frequency: annual\n",
    "\n",
    "Display the relationship between YTM and NPV in a single graph"
   ]
  },
  {
   "cell_type": "code",
   "execution_count": 32,
   "id": "8beb1549-eb69-48a8-ba5c-0de17846dc31",
   "metadata": {},
   "outputs": [],
   "source": [
    "import matplotlib.pyplot as plt\n",
    "import numpy as np"
   ]
  },
  {
   "cell_type": "code",
   "execution_count": 29,
   "id": "1e3d27e5-3bb3-411a-a0ae-48bdbda5c2ed",
   "metadata": {},
   "outputs": [],
   "source": [
    "min_ytm = 0\n",
    "max_ytm = 0.10\n",
    "steps = 100"
   ]
  },
  {
   "cell_type": "code",
   "execution_count": 30,
   "id": "c163a511-c022-4606-a905-197f8feaee07",
   "metadata": {},
   "outputs": [],
   "source": [
    "incr = (max_ytm - min_ytm) / steps"
   ]
  },
  {
   "cell_type": "code",
   "execution_count": 31,
   "id": "953b2753-bd91-4192-92eb-3b71dcfdecc2",
   "metadata": {},
   "outputs": [],
   "source": [
    "# x-axis (IRR)\n",
    "ytm = [min_ytm + x * incr for x in range(steps)]"
   ]
  },
  {
   "cell_type": "code",
   "execution_count": 33,
   "id": "d07050e6-8ece-4511-be28-96ca621c4fb8",
   "metadata": {},
   "outputs": [],
   "source": [
    "# or alternatively\n",
    "ytm2 = np.arange(min_ytm, max_ytm, incr)"
   ]
  },
  {
   "cell_type": "code",
   "execution_count": 34,
   "id": "e0540247-742a-4433-9750-4961c1cbac74",
   "metadata": {},
   "outputs": [],
   "source": [
    "# y-axis (NPV)\n",
    "npv = [compute_npv(r) for r in ytm]"
   ]
  },
  {
   "cell_type": "code",
   "execution_count": 38,
   "id": "a44ecbdd-8681-4af4-8068-69fe2d5fe1cd",
   "metadata": {},
   "outputs": [
    {
     "data": {
      "image/png": "[encoded data removed]",
      "text/plain": [
       "<Figure size 640x480 with 1 Axes>"
      ]
     },
     "metadata": {},
     "output_type": "display_data"
    }
   ],
   "source": [
    "plt.plot(ytm, npv)\n",
    "plt.xlabel('YTM')\n",
    "plt.ylabel('NPV')\n",
    "plt.show()"
   ]
  },
  {
   "cell_type": "markdown",
   "id": "523916f5-ce08-4a2b-9f25-0ac9ad8ce682",
   "metadata": {},
   "source": [
    "When YTM equals coupon rate, NPV = face value"
   ]
  },
  {
   "cell_type": "code",
   "execution_count": 39,
   "id": "e0e2dbd0-16a7-4842-a58a-681722bc5b94",
   "metadata": {},
   "outputs": [
    {
     "data": {
      "image/png": "[encoded data removed]",
      "text/plain": [
       "<Figure size 640x480 with 1 Axes>"
      ]
     },
     "metadata": {},
     "output_type": "display_data"
    }
   ],
   "source": [
    "plt.plot(ytm, npv)\n",
    "\n",
    "\n",
    "#auxiliary dashed line\n",
    "plt.plot([0, 0.1], [1000, 1000], linestyle = 'dashed',\n",
    "        label = 'NPV = face value')\n",
    "\n",
    "plt.plot([0.05, 0.05], [800, 1300], linestyle = 'dashed',\n",
    "        label = 'YTM = coupon rate')\n",
    "\n",
    "\n",
    "plt.xlabel('YTM')\n",
    "plt.ylabel('NPV')\n",
    "\n",
    "\n",
    "plt.legend()\n",
    "plt.show()"
   ]
  }
 ],
 "metadata": {
  "kernelspec": {
   "display_name": "Python 3 (ipykernel)",
   "language": "python",
   "name": "python3"
  },
  "language_info": {
   "codemirror_mode": {
    "name": "ipython",
    "version": 3
   },
   "file_extension": ".py",
   "mimetype": "text/x-python",
   "name": "python",
   "nbconvert_exporter": "python",
   "pygments_lexer": "ipython3",
   "version": "3.11.9"
  }
 },
 "nbformat": 4,
 "nbformat_minor": 5
}
